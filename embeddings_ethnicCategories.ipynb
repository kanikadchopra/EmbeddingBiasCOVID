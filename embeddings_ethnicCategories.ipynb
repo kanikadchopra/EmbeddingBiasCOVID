{
 "cells": [
  {
   "cell_type": "code",
   "execution_count": 1,
   "id": "92de3ab1",
   "metadata": {},
   "outputs": [],
   "source": [
    "from datetime import datetime as dt\n",
    "import unicodedata\n",
    "import pandas as pd\n",
    "import numpy as np\n",
    "\n",
    "import matplotlib.pyplot as plt\n",
    "%matplotlib inline"
   ]
  },
  {
   "cell_type": "code",
   "execution_count": 2,
   "id": "7293c5ef",
   "metadata": {},
   "outputs": [],
   "source": [
    "from nltk.tokenize import sent_tokenize, word_tokenize\n",
    "import gensim\n",
    "from gensim.models import Word2Vec\n",
    "\n",
    "import string\n",
    "from nltk.corpus import stopwords"
   ]
  },
  {
   "cell_type": "markdown",
   "id": "334762b2",
   "metadata": {},
   "source": [
    "## Embeddings\n",
    "\n",
    "We have our data split into monthly data. Now, we will compare the embeddings from January 2020 and July 2020. "
   ]
  },
  {
   "cell_type": "markdown",
   "id": "98d4f1b0",
   "metadata": {},
   "source": [
    "### Word2Vec Models\n",
    "\n",
    "We load our word2vec models trained in `embeddings_wordCategories.ipynb`."
   ]
  },
  {
   "cell_type": "code",
   "execution_count": 3,
   "id": "aa6ce673",
   "metadata": {},
   "outputs": [],
   "source": [
    "# Create a word2vec model for each month\n",
    "jan_model = Word2Vec.load(\"models/jan_model.model\")\n",
    "feb_model = Word2Vec.load(\"models/feb_model.model\")\n",
    "mar_model = Word2Vec.load(\"models/mar_model.model\")\n",
    "apr_model = Word2Vec.load(\"models/apr_model.model\")\n",
    "may_model = Word2Vec.load(\"models/may_model.model\")\n",
    "june_model = Word2Vec.load(\"models/june_model.model\")\n",
    "july_model = Word2Vec.load(\"models/july_model.model\")"
   ]
  },
  {
   "cell_type": "code",
   "execution_count": 4,
   "id": "6f8add67",
   "metadata": {},
   "outputs": [
    {
     "data": {
      "text/plain": [
       "array([ 8.07708383e-01,  4.11017746e-01,  1.21743478e-01, -2.69929677e-01,\n",
       "        2.11442545e-01, -1.06397176e+00,  5.58654547e-01,  7.18077719e-01,\n",
       "        3.94378155e-01,  2.17337891e-01,  3.08701724e-01, -2.86516100e-01,\n",
       "       -8.05128217e-02, -6.23122036e-01,  8.69856253e-02, -5.65727949e-01,\n",
       "       -4.53347802e-01,  2.29740784e-01,  1.18969776e-01, -8.94399732e-02,\n",
       "       -3.75542343e-02,  7.36617208e-01,  1.16296327e+00, -5.79378963e-01,\n",
       "       -4.84360099e-01,  4.61392581e-01, -9.87474248e-02, -1.16173588e-02,\n",
       "       -6.68823004e-01,  6.23043716e-01,  4.73286599e-01,  1.93691283e-01,\n",
       "        6.85491085e-01,  1.81182921e-01, -1.08659200e-01, -1.90627426e-01,\n",
       "        6.34765506e-01, -3.38993728e-01, -2.85096616e-01, -3.51861447e-01,\n",
       "       -8.17764759e-01, -4.25170064e-01,  3.25135678e-01,  9.82128084e-02,\n",
       "       -7.52950534e-02, -2.96986312e-01, -3.52532297e-01,  1.89445809e-01,\n",
       "       -7.37787843e-01, -6.84579611e-01, -3.03379521e-02, -5.34071703e-04,\n",
       "       -2.76190490e-01, -8.89172554e-02,  1.36659563e-01,  1.97039470e-01,\n",
       "        2.56217778e-01,  1.55191019e-01, -3.22105855e-01, -5.34429908e-01,\n",
       "        6.11875951e-01,  2.56621867e-01, -1.23380572e-01,  4.51542437e-01,\n",
       "       -4.04277533e-01, -1.12353295e-01,  1.61873698e-01,  4.46610898e-01,\n",
       "       -2.07665369e-01, -6.64225668e-02, -5.65268174e-02, -2.40155384e-01,\n",
       "        7.23372459e-01, -1.12355411e-01, -2.20789805e-01, -1.78756341e-02,\n",
       "        4.79663283e-01, -1.41000330e-01,  3.51605773e-01, -4.27659184e-01,\n",
       "       -2.99174070e-01, -8.90962556e-02, -2.53909141e-01,  7.11312532e-01,\n",
       "       -7.82652721e-02, -1.12483241e-01,  5.22105694e-01,  7.41271198e-01,\n",
       "        3.09257537e-01, -3.28907937e-01,  6.89780191e-02,  4.12598392e-03,\n",
       "       -1.53616160e-01, -4.37379003e-01,  2.34104484e-01,  3.08254808e-01,\n",
       "        4.35016036e-01, -7.31872559e-01, -1.39281034e-01,  1.40099198e-01],\n",
       "      dtype=float32)"
      ]
     },
     "execution_count": 4,
     "metadata": {},
     "output_type": "execute_result"
    }
   ],
   "source": [
    "# Test out embedding on one word\n",
    "jan_model.wv['apple']"
   ]
  },
  {
   "cell_type": "markdown",
   "id": "1d612fbf",
   "metadata": {},
   "source": [
    "## Group Word Lists \n",
    "\n",
    "We need to get word lists for both Asian and White names so that we can separate the two from the articles. We get this information from _Word Embeddings Quantify 100 Years of Gender and Ethnic Stereotypes_."
   ]
  },
  {
   "cell_type": "code",
   "execution_count": 5,
   "id": "18c9095d",
   "metadata": {},
   "outputs": [
    {
     "data": {
      "text/plain": [
       "20"
      ]
     },
     "execution_count": 5,
     "metadata": {},
     "output_type": "execute_result"
    }
   ],
   "source": [
    "white_last_names = ['harris', 'nelson', 'robinson', 'thompson', 'moore', 'wright', 'anderson', 'clark', 'jackson', 'taylor', 'scott', 'davis',\n",
    "'allen', 'adams', 'lewis', 'williams', 'jones', 'wilson', 'martin', 'johnson']\n",
    "\n",
    "len(white_last_names)"
   ]
  },
  {
   "cell_type": "code",
   "execution_count": 6,
   "id": "aedf4ea4",
   "metadata": {},
   "outputs": [
    {
     "data": {
      "text/plain": [
       "(22,)"
      ]
     },
     "execution_count": 6,
     "metadata": {},
     "output_type": "execute_result"
    }
   ],
   "source": [
    "chinese_last_names = ['chung', 'liu', 'wong', 'huang', 'ng','hu', 'chu', 'chen', 'lin', 'liang', 'wang', 'wu', 'yang', 'tang', 'chang', 'hong', 'li']\n",
    "asian_last_names = ['cho', 'wong', 'tang', 'huang', 'chu', 'chung', 'ng', 'wu', 'liu', 'chen', 'lin', 'yang', 'kim', 'chang', 'shah', 'wang', 'li', 'khan',\n",
    "'singh', 'hong'] + chinese_last_names\n",
    "\n",
    "# Get unique last names to avoid any repeats\n",
    "asian_last_names = np.unique(np.array(asian_last_names))\n",
    "\n",
    "asian_last_names.shape"
   ]
  },
  {
   "cell_type": "markdown",
   "id": "cd7f504c",
   "metadata": {},
   "source": [
    "We have 20 White last names and 22 Asian last names. We get the embeddings for each last name for each month and then we get the group representational vector for each ethnicity."
   ]
  },
  {
   "cell_type": "markdown",
   "id": "b5e1884b",
   "metadata": {},
   "source": [
    "**White Last Names**"
   ]
  },
  {
   "cell_type": "code",
   "execution_count": 7,
   "id": "2116ab11",
   "metadata": {},
   "outputs": [
    {
     "data": {
      "text/plain": [
       "(20, 100)"
      ]
     },
     "execution_count": 7,
     "metadata": {},
     "output_type": "execute_result"
    }
   ],
   "source": [
    "# Get embedding for every word\n",
    "whiteEmb_jan = np.array([jan_model.wv[name] for name in white_last_names])\n",
    "whiteEmb_feb = np.array([feb_model.wv[name] for name in white_last_names])\n",
    "whiteEmb_mar = np.array([mar_model.wv[name] for name in white_last_names])\n",
    "whiteEmb_apr = np.array([apr_model.wv[name] for name in white_last_names])\n",
    "whiteEmb_may = np.array([may_model.wv[name] for name in white_last_names])\n",
    "whiteEmb_june = np.array([june_model.wv[name] for name in white_last_names])\n",
    "whiteEmb_july = np.array([july_model.wv[name] for name in white_last_names])\n",
    "\n",
    "whiteEmb_jan.shape"
   ]
  },
  {
   "cell_type": "code",
   "execution_count": 8,
   "id": "1edade4b",
   "metadata": {},
   "outputs": [],
   "source": [
    "whiteGroup_jan = np.mean(whiteEmb_jan, axis=0)\n",
    "whiteGroup_feb = np.mean(whiteEmb_feb, axis=0)\n",
    "whiteGroup_mar = np.mean(whiteEmb_mar, axis=0)\n",
    "whiteGroup_apr = np.mean(whiteEmb_apr, axis=0)\n",
    "whiteGroup_may = np.mean(whiteEmb_may, axis=0)\n",
    "whiteGroup_june = np.mean(whiteEmb_june, axis=0)\n",
    "whiteGroup_july = np.mean(whiteEmb_july, axis=0)"
   ]
  },
  {
   "cell_type": "markdown",
   "id": "992dd5e2",
   "metadata": {},
   "source": [
    "Then, we repeat this process with Asian last names.\n",
    "\n",
    "**Asian Last Names**"
   ]
  },
  {
   "cell_type": "code",
   "execution_count": 9,
   "id": "cd4573e5",
   "metadata": {},
   "outputs": [
    {
     "data": {
      "text/plain": [
       "(22, 100)"
      ]
     },
     "execution_count": 9,
     "metadata": {},
     "output_type": "execute_result"
    }
   ],
   "source": [
    "# Get embedding for every word\n",
    "asianEmb_jan = np.array([jan_model.wv[name] for name in asian_last_names])\n",
    "asianEmb_feb = np.array([feb_model.wv[name] for name in asian_last_names])\n",
    "asianEmb_mar = np.array([mar_model.wv[name] for name in asian_last_names])\n",
    "asianEmb_apr = np.array([apr_model.wv[name] for name in asian_last_names])\n",
    "asianEmb_may = np.array([may_model.wv[name] for name in asian_last_names])\n",
    "asianEmb_june = np.array([june_model.wv[name] for name in asian_last_names])\n",
    "asianEmb_july = np.array([july_model.wv[name] for name in asian_last_names])\n",
    "\n",
    "asianEmb_jan.shape"
   ]
  },
  {
   "cell_type": "code",
   "execution_count": 10,
   "id": "00769885",
   "metadata": {},
   "outputs": [],
   "source": [
    "asianGroup_jan = np.mean(asianEmb_jan, axis=0)\n",
    "asianGroup_feb = np.mean(asianEmb_feb, axis=0)\n",
    "asianGroup_mar = np.mean(asianEmb_mar, axis=0)\n",
    "asianGroup_apr = np.mean(asianEmb_apr, axis=0)\n",
    "asianGroup_may = np.mean(asianEmb_may, axis=0)\n",
    "asianGroup_june = np.mean(asianEmb_june, axis=0)\n",
    "asianGroup_july = np.mean(asianEmb_july, axis=0)"
   ]
  },
  {
   "cell_type": "markdown",
   "id": "cb67d4a0",
   "metadata": {},
   "source": [
    "## Other Word Lists\n",
    "\n",
    "From reading articles and the following papers, the following categories for word lists have been created. We will be quantifying the association between Asians (relative to Whites) for:\n",
    "1. COVID-19 related terms\n",
    "2. Hate Crime related terms\n",
    "3. Outsider Adjectives\n",
    "4. General list of adjectives\n",
    "\n",
    "The first three will be used to determine if they follow global events, i.e. reports from news articles and papers on the effects of COVID-19 in. The latter will then be used with a sentiment analysis to determine if more negative adjectives are being associated with Asians vs. Whites if time persists. \n",
    "\n",
    "We read these word lists in from a self-created CSV file. We get oustider adjectives from [1]."
   ]
  },
  {
   "cell_type": "markdown",
   "id": "d0798b94",
   "metadata": {},
   "source": [
    "https://www.pbs.org/newshour/nation/asian-americans-describe-gut-punch-of-racist-attacks-during-coronavirus-pandemic\n",
    "https://www.frontiersin.org/articles/10.3389/fcomm.2020.00039/full"
   ]
  },
  {
   "cell_type": "code",
   "execution_count": 11,
   "id": "5f9bbd78",
   "metadata": {
    "scrolled": true
   },
   "outputs": [
    {
     "data": {
      "text/html": [
       "<div>\n",
       "<style scoped>\n",
       "    .dataframe tbody tr th:only-of-type {\n",
       "        vertical-align: middle;\n",
       "    }\n",
       "\n",
       "    .dataframe tbody tr th {\n",
       "        vertical-align: top;\n",
       "    }\n",
       "\n",
       "    .dataframe thead th {\n",
       "        text-align: right;\n",
       "    }\n",
       "</style>\n",
       "<table border=\"1\" class=\"dataframe\">\n",
       "  <thead>\n",
       "    <tr style=\"text-align: right;\">\n",
       "      <th></th>\n",
       "      <th>covid</th>\n",
       "      <th>hate_crime</th>\n",
       "      <th>outsider</th>\n",
       "    </tr>\n",
       "  </thead>\n",
       "  <tbody>\n",
       "    <tr>\n",
       "      <th>0</th>\n",
       "      <td>coronavirus</td>\n",
       "      <td>harassment</td>\n",
       "      <td>devious</td>\n",
       "    </tr>\n",
       "    <tr>\n",
       "      <th>1</th>\n",
       "      <td>virus</td>\n",
       "      <td>assault</td>\n",
       "      <td>bizarre</td>\n",
       "    </tr>\n",
       "    <tr>\n",
       "      <th>2</th>\n",
       "      <td>covid</td>\n",
       "      <td>murder</td>\n",
       "      <td>venomous</td>\n",
       "    </tr>\n",
       "    <tr>\n",
       "      <th>3</th>\n",
       "      <td>flu</td>\n",
       "      <td>arson</td>\n",
       "      <td>erratic</td>\n",
       "    </tr>\n",
       "    <tr>\n",
       "      <th>4</th>\n",
       "      <td>bat</td>\n",
       "      <td>vandalism</td>\n",
       "      <td>barbaric</td>\n",
       "    </tr>\n",
       "  </tbody>\n",
       "</table>\n",
       "</div>"
      ],
      "text/plain": [
       "         covid   hate_crime  outsider\n",
       "0  coronavirus  harassment    devious\n",
       "1        virus      assault   bizarre\n",
       "2        covid       murder  venomous\n",
       "3          flu        arson   erratic\n",
       "4          bat    vandalism  barbaric"
      ]
     },
     "execution_count": 11,
     "metadata": {},
     "output_type": "execute_result"
    }
   ],
   "source": [
    "word_lists = pd.read_csv('data/wordlists.csv')\n",
    "word_lists.head()"
   ]
  },
  {
   "cell_type": "code",
   "execution_count": 12,
   "id": "86aadd60",
   "metadata": {},
   "outputs": [],
   "source": [
    "covid = word_lists.covid.values\n",
    "hate_crime = word_lists.hate_crime.values\n",
    "outsider = word_lists.outsider.values"
   ]
  },
  {
   "cell_type": "markdown",
   "id": "5d6b82a1",
   "metadata": {},
   "source": [
    "First, we want to determine words that are present in all of the months as these are the only embeddings that we can compare over time."
   ]
  },
  {
   "cell_type": "markdown",
   "id": "3a7a72d1",
   "metadata": {},
   "source": [
    "**Check which words are in all of the months**"
   ]
  },
  {
   "cell_type": "code",
   "execution_count": 13,
   "id": "3dbd078d",
   "metadata": {},
   "outputs": [],
   "source": [
    "jan_words = jan_model.wv.key_to_index\n",
    "feb_words = feb_model.wv.key_to_index\n",
    "mar_words = mar_model.wv.key_to_index\n",
    "apr_words = apr_model.wv.key_to_index\n",
    "may_words = may_model.wv.key_to_index\n",
    "june_words = june_model.wv.key_to_index\n",
    "july_words = july_model.wv.key_to_index"
   ]
  },
  {
   "cell_type": "code",
   "execution_count": 14,
   "id": "70433618",
   "metadata": {},
   "outputs": [],
   "source": [
    "def check_words(lst):\n",
    "    final_lst = []\n",
    "    for word in lst:\n",
    "        if (word in jan_words) & (word in feb_words) & (word in mar_words) & (word in apr_words) & (word in may_words) & (word in june_words) & (word in july_words):\n",
    "            final_lst.append(word)\n",
    "    return final_lst"
   ]
  },
  {
   "cell_type": "code",
   "execution_count": 15,
   "id": "6201817f",
   "metadata": {},
   "outputs": [],
   "source": [
    "covid_lst = check_words(covid)\n",
    "hate_lst = check_words(hate_crime)\n",
    "outsider_lst = check_words(outsider)"
   ]
  },
  {
   "cell_type": "code",
   "execution_count": 16,
   "id": "aad1dca4",
   "metadata": {},
   "outputs": [
    {
     "name": "stdout",
     "output_type": "stream",
     "text": [
      "['coronavirus', 'virus', 'flu', 'bat', 'sick', 'disease', 'infectious', 'contagious']\n",
      "['assault', 'murder', 'arson', 'vandalism', 'threats', 'hate', 'spitting', 'attack']\n",
      "['bizarre', 'erratic', 'frightening', 'forceful', 'deceptive', 'greedy', 'hateful', 'brutal', 'monstrous', 'calculating', 'cruel', 'aggressive', 'monstrous']\n"
     ]
    }
   ],
   "source": [
    "print(covid_lst)\n",
    "print(hate_lst)\n",
    "print(outsider_lst)"
   ]
  },
  {
   "cell_type": "code",
   "execution_count": 17,
   "id": "cf5011ec",
   "metadata": {},
   "outputs": [
    {
     "data": {
      "text/plain": [
       "(8, 8, 13)"
      ]
     },
     "execution_count": 17,
     "metadata": {},
     "output_type": "execute_result"
    }
   ],
   "source": [
    "len(covid_lst), len(hate_lst), len(outsider_lst)"
   ]
  },
  {
   "cell_type": "markdown",
   "id": "610f8614",
   "metadata": {},
   "source": [
    "These are the words that appear in every month of data. Next, we get the embeddings for each of these words."
   ]
  },
  {
   "cell_type": "markdown",
   "id": "ba48ad8b",
   "metadata": {},
   "source": [
    "## Embeddings"
   ]
  },
  {
   "cell_type": "code",
   "execution_count": 18,
   "id": "f51202a6",
   "metadata": {},
   "outputs": [],
   "source": [
    "def get_embeddings(lst, model):\n",
    "    emb_lst = []\n",
    "    for word in lst:\n",
    "        embs = []\n",
    "        emb = model.wv[word]\n",
    "        emb_lst.append(emb)\n",
    "    return emb_lst"
   ]
  },
  {
   "cell_type": "code",
   "execution_count": 19,
   "id": "ff798561",
   "metadata": {},
   "outputs": [],
   "source": [
    "# January\n",
    "covidEmb_jan = np.array(get_embeddings(covid_lst, jan_model))\n",
    "hateEmb_jan = np.array(get_embeddings(hate_lst, jan_model))\n",
    "outsiderEmb_jan = np.array(get_embeddings(outsider_lst, jan_model))\n",
    "\n",
    "# February\n",
    "covidEmb_feb = np.array(get_embeddings(covid_lst, feb_model))\n",
    "hateEmb_feb = np.array(get_embeddings(hate_lst, feb_model))\n",
    "outsiderEmb_feb = np.array(get_embeddings(outsider_lst, feb_model))\n",
    "\n",
    "# March\n",
    "covidEmb_mar = np.array(get_embeddings(covid_lst, mar_model))\n",
    "hateEmb_mar = np.array(get_embeddings(hate_lst, mar_model))\n",
    "outsiderEmb_mar = np.array(get_embeddings(outsider_lst, mar_model))\n",
    "\n",
    "# April\n",
    "covidEmb_apr = np.array(get_embeddings(covid_lst, apr_model))\n",
    "hateEmb_apr = np.array(get_embeddings(hate_lst, apr_model))\n",
    "outsiderEmb_apr = np.array(get_embeddings(outsider_lst, apr_model))\n",
    "\n",
    "# May\n",
    "covidEmb_may = np.array(get_embeddings(covid_lst, may_model))\n",
    "hateEmb_may = np.array(get_embeddings(hate_lst, may_model))\n",
    "outsiderEmb_may = np.array(get_embeddings(outsider_lst, may_model))\n",
    "\n",
    "# June\n",
    "covidEmb_june = np.array(get_embeddings(covid_lst, june_model))\n",
    "hateEmb_june = np.array(get_embeddings(hate_lst, june_model))\n",
    "outsiderEmb_june = np.array(get_embeddings(outsider_lst, june_model))\n",
    "\n",
    "# July\n",
    "covidEmb_july = np.array(get_embeddings(covid_lst, july_model))\n",
    "hateEmb_july = np.array(get_embeddings(hate_lst, july_model))\n",
    "outsiderEmb_july = np.array(get_embeddings(outsider_lst, july_model))"
   ]
  },
  {
   "cell_type": "markdown",
   "id": "15220d09",
   "metadata": {},
   "source": [
    "## Embedding Similarity\n",
    "Now, for each of these words, we can compute the association with the words in each category and the group representational vector for Asian and White last names."
   ]
  },
  {
   "cell_type": "markdown",
   "id": "c7412735",
   "metadata": {},
   "source": [
    "### COVID"
   ]
  },
  {
   "cell_type": "code",
   "execution_count": 20,
   "id": "86f02547",
   "metadata": {},
   "outputs": [],
   "source": [
    "# Bias with Asian vector\n",
    "covidAsian_jan = np.linalg.norm(covidEmb_jan - asianGroup_jan, axis=1)\n",
    "covidAsian_feb = np.linalg.norm(covidEmb_feb - asianGroup_feb, axis=1)\n",
    "covidAsian_mar = np.linalg.norm(covidEmb_mar - asianGroup_mar, axis=1)\n",
    "covidAsian_apr = np.linalg.norm(covidEmb_apr - asianGroup_apr, axis=1)\n",
    "covidAsian_may = np.linalg.norm(covidEmb_may - asianGroup_may, axis=1)\n",
    "covidAsian_june = np.linalg.norm(covidEmb_june - asianGroup_june, axis=1)\n",
    "covidAsian_july = np.linalg.norm(covidEmb_july - asianGroup_july, axis=1)"
   ]
  },
  {
   "cell_type": "code",
   "execution_count": 21,
   "id": "27f1e2d8",
   "metadata": {},
   "outputs": [],
   "source": [
    "covidAsian = np.array([covidAsian_jan, covidAsian_feb, covidAsian_mar, covidAsian_apr, covidAsian_may, \n",
    "                       covidAsian_june, covidAsian_july])"
   ]
  },
  {
   "cell_type": "code",
   "execution_count": 22,
   "id": "bd203360",
   "metadata": {
    "scrolled": false
   },
   "outputs": [
    {
     "data": {
      "text/plain": [
       "array([3.414529 , 3.5283904, 3.2091942, 3.2040906, 3.3692632, 3.4507701,\n",
       "       3.4916437], dtype=float32)"
      ]
     },
     "execution_count": 22,
     "metadata": {},
     "output_type": "execute_result"
    }
   ],
   "source": [
    "# Average similarity \n",
    "np.mean(covidAsian, axis=1)"
   ]
  },
  {
   "cell_type": "code",
   "execution_count": 23,
   "id": "d920931d",
   "metadata": {},
   "outputs": [
    {
     "data": {
      "text/plain": [
       "array([0.3485535 , 0.3789087 , 0.44363776, 0.3419429 , 0.36054033,\n",
       "       0.4707301 , 0.41997918], dtype=float32)"
      ]
     },
     "execution_count": 23,
     "metadata": {},
     "output_type": "execute_result"
    }
   ],
   "source": [
    "# Deviation between months \n",
    "np.sqrt(np.var(covidAsian,axis=1))"
   ]
  },
  {
   "cell_type": "code",
   "execution_count": 24,
   "id": "e6269878",
   "metadata": {},
   "outputs": [],
   "source": [
    "# Bias with White vector\n",
    "covidWhite_jan = np.linalg.norm(covidEmb_jan - whiteGroup_jan, axis=1)\n",
    "covidWhite_feb = np.linalg.norm(covidEmb_feb - whiteGroup_feb, axis=1)\n",
    "covidWhite_mar = np.linalg.norm(covidEmb_mar - whiteGroup_mar, axis=1)\n",
    "covidWhite_apr = np.linalg.norm(covidEmb_apr - whiteGroup_apr, axis=1)\n",
    "covidWhite_may = np.linalg.norm(covidEmb_may - whiteGroup_may, axis=1)\n",
    "covidWhite_june = np.linalg.norm(covidEmb_june - whiteGroup_june, axis=1)\n",
    "covidWhite_july = np.linalg.norm(covidEmb_july - whiteGroup_july, axis=1)"
   ]
  },
  {
   "cell_type": "code",
   "execution_count": 25,
   "id": "d893a6a6",
   "metadata": {},
   "outputs": [],
   "source": [
    "covidWhite = np.array([covidWhite_jan, covidWhite_feb, covidWhite_mar, covidWhite_apr, covidWhite_may,\n",
    "                       covidWhite_june, covidWhite_july])"
   ]
  },
  {
   "cell_type": "code",
   "execution_count": 26,
   "id": "e8ec3dcd",
   "metadata": {
    "scrolled": true
   },
   "outputs": [
    {
     "data": {
      "text/plain": [
       "array([3.6189804, 3.6025212, 3.3397598, 3.450566 , 3.4904647, 3.6303833,\n",
       "       3.6056747], dtype=float32)"
      ]
     },
     "execution_count": 26,
     "metadata": {},
     "output_type": "execute_result"
    }
   ],
   "source": [
    "# Average similarity \n",
    "np.mean(covidWhite, axis=1)"
   ]
  },
  {
   "cell_type": "code",
   "execution_count": 27,
   "id": "532d354f",
   "metadata": {},
   "outputs": [
    {
     "data": {
      "text/plain": [
       "array([0.3106656 , 0.3310688 , 0.41832834, 0.3457242 , 0.33136922,\n",
       "       0.4849332 , 0.5627591 ], dtype=float32)"
      ]
     },
     "execution_count": 27,
     "metadata": {},
     "output_type": "execute_result"
    }
   ],
   "source": [
    "# Deviation between months \n",
    "np.sqrt(np.var(covidWhite,axis=1))"
   ]
  },
  {
   "cell_type": "markdown",
   "id": "9b9a2719",
   "metadata": {},
   "source": [
    "#### Plot"
   ]
  },
  {
   "cell_type": "code",
   "execution_count": 28,
   "id": "a609aec3",
   "metadata": {
    "scrolled": true
   },
   "outputs": [
    {
     "data": {
      "text/plain": [
       "array([3.6189804, 3.6025212, 3.3397598, 3.450566 , 3.4904647, 3.6303833,\n",
       "       3.6056747], dtype=float32)"
      ]
     },
     "execution_count": 28,
     "metadata": {},
     "output_type": "execute_result"
    }
   ],
   "source": [
    "np.mean(covidWhite, axis=1)"
   ]
  },
  {
   "cell_type": "code",
   "execution_count": 29,
   "id": "dc277a7e",
   "metadata": {
    "scrolled": true
   },
   "outputs": [
    {
     "data": {
      "image/png": "[encoded data removed]",
      "text/plain": [
       "<Figure size 640x480 with 1 Axes>"
      ]
     },
     "metadata": {},
     "output_type": "display_data"
    }
   ],
   "source": [
    "fig, ax = plt.subplots()\n",
    "\n",
    "months = ['Jan', 'Feb', 'Mar', 'Apr', 'May', 'June', 'July']\n",
    "\n",
    "ax.errorbar(x=months, y=np.mean(covidAsian, axis=1), yerr=np.sqrt(np.var(covidAsian,axis=1)), fmt='-o', color='blue', label='asian')\n",
    "ax.errorbar(x=months, y=np.mean(covidWhite, axis=1), yerr=np.sqrt(np.var(covidWhite,axis=1)), fmt='-o', color='red', label='white')\n",
    "\n",
    "ax.set_xlabel('Months')\n",
    "ax.set_ylabel('Ethnic Association')\n",
    "ax.set_title('Ethnic Association to COVID-19')\n",
    "ax.legend()\n",
    "plt.show()"
   ]
  },
  {
   "cell_type": "markdown",
   "id": "af4d5431",
   "metadata": {},
   "source": [
    "### Hate Crime"
   ]
  },
  {
   "cell_type": "code",
   "execution_count": 30,
   "id": "31850af3",
   "metadata": {},
   "outputs": [],
   "source": [
    "# Bias with Asian vector\n",
    "hateAsian_jan = np.linalg.norm(hateEmb_jan - asianGroup_jan, axis=1)\n",
    "hateAsian_feb = np.linalg.norm(hateEmb_feb - asianGroup_feb, axis=1)\n",
    "hateAsian_mar = np.linalg.norm(hateEmb_mar - asianGroup_mar, axis=1)\n",
    "hateAsian_apr = np.linalg.norm(hateEmb_apr - asianGroup_apr, axis=1)\n",
    "hateAsian_may = np.linalg.norm(hateEmb_may - asianGroup_may, axis=1)\n",
    "hateAsian_june = np.linalg.norm(hateEmb_june - asianGroup_june, axis=1)\n",
    "hateAsian_july = np.linalg.norm(hateEmb_july - asianGroup_july, axis=1)"
   ]
  },
  {
   "cell_type": "code",
   "execution_count": 31,
   "id": "6cd6dfa4",
   "metadata": {},
   "outputs": [],
   "source": [
    "hateAsian = np.array([hateAsian_jan, hateAsian_feb, hateAsian_mar, hateAsian_apr, hateAsian_may,\n",
    "                     hateAsian_june, hateAsian_july])"
   ]
  },
  {
   "cell_type": "code",
   "execution_count": 32,
   "id": "dddc3f7a",
   "metadata": {
    "scrolled": false
   },
   "outputs": [
    {
     "data": {
      "text/plain": [
       "array([2.898696 , 2.9264479, 2.5767517, 2.863306 , 2.915454 , 3.2917657,\n",
       "       3.0031705], dtype=float32)"
      ]
     },
     "execution_count": 32,
     "metadata": {},
     "output_type": "execute_result"
    }
   ],
   "source": [
    "# Average similarity \n",
    "np.mean(hateAsian, axis=1)"
   ]
  },
  {
   "cell_type": "code",
   "execution_count": 33,
   "id": "f091f93e",
   "metadata": {},
   "outputs": [
    {
     "data": {
      "text/plain": [
       "array([0.7089041 , 0.6541984 , 0.6540422 , 0.51223207, 0.5797478 ,\n",
       "       0.40955937, 0.5265776 ], dtype=float32)"
      ]
     },
     "execution_count": 33,
     "metadata": {},
     "output_type": "execute_result"
    }
   ],
   "source": [
    "# Deviation between months \n",
    "np.sqrt(np.var(hateAsian,axis=1))"
   ]
  },
  {
   "cell_type": "code",
   "execution_count": 34,
   "id": "1fe27d02",
   "metadata": {},
   "outputs": [],
   "source": [
    "# Bias with White vector\n",
    "hateWhite_jan = np.linalg.norm(hateEmb_jan - whiteGroup_jan, axis=1)\n",
    "hateWhite_feb = np.linalg.norm(hateEmb_feb - whiteGroup_feb, axis=1)\n",
    "hateWhite_mar = np.linalg.norm(hateEmb_mar - whiteGroup_mar, axis=1)\n",
    "hateWhite_apr = np.linalg.norm(hateEmb_apr - whiteGroup_apr, axis=1)\n",
    "hateWhite_may = np.linalg.norm(hateEmb_may - whiteGroup_may, axis=1)\n",
    "hateWhite_june = np.linalg.norm(hateEmb_june - whiteGroup_june, axis=1)\n",
    "hateWhite_july = np.linalg.norm(hateEmb_july - whiteGroup_july, axis=1)"
   ]
  },
  {
   "cell_type": "code",
   "execution_count": 35,
   "id": "404d0459",
   "metadata": {},
   "outputs": [],
   "source": [
    "hateWhite = np.array([hateWhite_jan, hateWhite_feb, hateWhite_mar, hateWhite_apr, hateWhite_may,\n",
    "                     hateWhite_june, hateWhite_july])"
   ]
  },
  {
   "cell_type": "code",
   "execution_count": 36,
   "id": "7fcd86be",
   "metadata": {},
   "outputs": [
    {
     "data": {
      "text/plain": [
       "array([2.922597 , 2.9240756, 2.8323574, 3.1298695, 3.0663347, 3.3429434,\n",
       "       3.1234057], dtype=float32)"
      ]
     },
     "execution_count": 36,
     "metadata": {},
     "output_type": "execute_result"
    }
   ],
   "source": [
    "# Average similarity \n",
    "np.mean(hateWhite, axis=1)"
   ]
  },
  {
   "cell_type": "code",
   "execution_count": 37,
   "id": "1007ec02",
   "metadata": {},
   "outputs": [
    {
     "data": {
      "text/plain": [
       "array([0.7267088 , 0.5667829 , 0.64203495, 0.4299998 , 0.502103  ,\n",
       "       0.29893112, 0.43760127], dtype=float32)"
      ]
     },
     "execution_count": 37,
     "metadata": {},
     "output_type": "execute_result"
    }
   ],
   "source": [
    "# Deviation between months \n",
    "np.sqrt(np.var(hateWhite,axis=1))"
   ]
  },
  {
   "cell_type": "markdown",
   "id": "f59cf52c",
   "metadata": {},
   "source": [
    "#### Plot"
   ]
  },
  {
   "cell_type": "code",
   "execution_count": 38,
   "id": "ad01661d",
   "metadata": {},
   "outputs": [
    {
     "data": {
      "image/png": "[encoded data removed]",
      "text/plain": [
       "<Figure size 640x480 with 1 Axes>"
      ]
     },
     "metadata": {},
     "output_type": "display_data"
    }
   ],
   "source": [
    "fig, ax = plt.subplots()\n",
    "\n",
    "months = ['Jan', 'Feb', 'Mar', 'Apr', 'May', 'June', 'July']\n",
    "\n",
    "ax.errorbar(x=months, y=np.mean(hateAsian, axis=1), yerr=np.sqrt(np.var(hateAsian,axis=1)), fmt='-o', color='blue', label='asian')\n",
    "ax.errorbar(x=months, y=np.mean(hateWhite, axis=1), yerr=np.sqrt(np.var(hateWhite,axis=1)), fmt='-o', color='red', label='white')\n",
    "\n",
    "ax.set_xlabel('Months')\n",
    "ax.set_ylabel('Ethnic Association')\n",
    "ax.set_title('Ethnic Association to Hate Crimes')\n",
    "ax.legend()\n",
    "plt.show()"
   ]
  },
  {
   "cell_type": "markdown",
   "id": "fd619ca9",
   "metadata": {},
   "source": [
    "### Outsider Adjectives"
   ]
  },
  {
   "cell_type": "code",
   "execution_count": 39,
   "id": "a5546342",
   "metadata": {},
   "outputs": [],
   "source": [
    "# Bias with Asian vector\n",
    "outsiderAsian_jan = np.linalg.norm(outsiderEmb_jan - asianGroup_jan, axis=1)\n",
    "outsiderAsian_feb = np.linalg.norm(outsiderEmb_feb - asianGroup_feb, axis=1)\n",
    "outsiderAsian_mar = np.linalg.norm(outsiderEmb_mar - asianGroup_mar, axis=1)\n",
    "outsiderAsian_apr = np.linalg.norm(outsiderEmb_apr - asianGroup_apr, axis=1)\n",
    "outsiderAsian_may = np.linalg.norm(outsiderEmb_may - asianGroup_may, axis=1)\n",
    "outsiderAsian_june = np.linalg.norm(outsiderEmb_june - asianGroup_june, axis=1)\n",
    "outsiderAsian_july = np.linalg.norm(outsiderEmb_july - asianGroup_july, axis=1)"
   ]
  },
  {
   "cell_type": "code",
   "execution_count": 40,
   "id": "c1a53aea",
   "metadata": {},
   "outputs": [],
   "source": [
    "outsiderAsian = np.array([outsiderAsian_jan, outsiderAsian_feb, outsiderAsian_mar, outsiderAsian_apr, outsiderAsian_may, \n",
    "                         outsiderAsian_june, outsiderAsian_july])"
   ]
  },
  {
   "cell_type": "code",
   "execution_count": 41,
   "id": "0b8eaf74",
   "metadata": {
    "scrolled": true
   },
   "outputs": [
    {
     "data": {
      "text/plain": [
       "array([2.3390384, 2.4867358, 2.1423643, 2.1571584, 2.2784276, 2.2866187,\n",
       "       2.2969306], dtype=float32)"
      ]
     },
     "execution_count": 41,
     "metadata": {},
     "output_type": "execute_result"
    }
   ],
   "source": [
    "# Averages similarity\n",
    "np.mean(outsiderAsian, axis=1)"
   ]
  },
  {
   "cell_type": "code",
   "execution_count": 42,
   "id": "beef1c66",
   "metadata": {},
   "outputs": [
    {
     "data": {
      "text/plain": [
       "array([0.5193713 , 0.41685864, 0.50568926, 0.5350016 , 0.4448486 ,\n",
       "       0.50480556, 0.5225192 ], dtype=float32)"
      ]
     },
     "execution_count": 42,
     "metadata": {},
     "output_type": "execute_result"
    }
   ],
   "source": [
    "# Deviation between months \n",
    "np.sqrt(np.var(outsiderAsian,axis=1))"
   ]
  },
  {
   "cell_type": "code",
   "execution_count": 43,
   "id": "42a3025e",
   "metadata": {},
   "outputs": [],
   "source": [
    "# Bias with White vector\n",
    "outsiderWhite_jan = np.linalg.norm(outsiderEmb_jan - whiteGroup_jan, axis=1)\n",
    "outsiderWhite_feb = np.linalg.norm(outsiderEmb_feb - whiteGroup_feb, axis=1)\n",
    "outsiderWhite_mar = np.linalg.norm(outsiderEmb_mar - whiteGroup_mar, axis=1)\n",
    "outsiderWhite_apr = np.linalg.norm(outsiderEmb_apr - whiteGroup_apr, axis=1)\n",
    "outsiderWhite_may = np.linalg.norm(outsiderEmb_may - whiteGroup_may, axis=1)\n",
    "outsiderWhite_june = np.linalg.norm(outsiderEmb_june - whiteGroup_june, axis=1)\n",
    "outsiderWhite_july = np.linalg.norm(outsiderEmb_july - whiteGroup_july, axis=1)"
   ]
  },
  {
   "cell_type": "code",
   "execution_count": 44,
   "id": "3ab98304",
   "metadata": {},
   "outputs": [],
   "source": [
    "outsiderWhite = np.array([outsiderWhite_jan, outsiderWhite_feb, outsiderWhite_mar, outsiderWhite_apr, outsiderWhite_may,\n",
    "                         outsiderWhite_june, outsiderWhite_july])"
   ]
  },
  {
   "cell_type": "code",
   "execution_count": 45,
   "id": "b7b241ce",
   "metadata": {
    "scrolled": true
   },
   "outputs": [
    {
     "data": {
      "text/plain": [
       "array([2.2551095, 2.4482744, 2.2436838, 2.382161 , 2.3940206, 2.447885 ,\n",
       "       2.424117 ], dtype=float32)"
      ]
     },
     "execution_count": 45,
     "metadata": {},
     "output_type": "execute_result"
    }
   ],
   "source": [
    "# Average similarity\n",
    "np.mean(outsiderWhite, axis=1)"
   ]
  },
  {
   "cell_type": "code",
   "execution_count": 46,
   "id": "4b5f0128",
   "metadata": {},
   "outputs": [
    {
     "data": {
      "text/plain": [
       "array([0.5347013 , 0.43810204, 0.44408023, 0.46879476, 0.451934  ,\n",
       "       0.44119203, 0.5561328 ], dtype=float32)"
      ]
     },
     "execution_count": 46,
     "metadata": {},
     "output_type": "execute_result"
    }
   ],
   "source": [
    "# Deviation between months \n",
    "np.sqrt(np.var(outsiderWhite,axis=1))"
   ]
  },
  {
   "cell_type": "markdown",
   "id": "df3d18fe",
   "metadata": {},
   "source": [
    "#### Plots"
   ]
  },
  {
   "cell_type": "code",
   "execution_count": 47,
   "id": "13d4fb3d",
   "metadata": {},
   "outputs": [
    {
     "data": {
      "image/png": "[encoded data removed]",
      "text/plain": [
       "<Figure size 640x480 with 1 Axes>"
      ]
     },
     "metadata": {},
     "output_type": "display_data"
    }
   ],
   "source": [
    "fig, ax = plt.subplots()\n",
    "\n",
    "months = ['Jan', 'Feb', 'Mar', 'Apr', 'May', 'June', 'July']\n",
    "\n",
    "ax.errorbar(x=months, y=np.mean(outsiderAsian, axis=1), yerr=np.sqrt(np.var(outsiderAsian,axis=1)), fmt='-o', color='blue', label='asian')\n",
    "ax.errorbar(x=months, y=np.mean(outsiderWhite, axis=1), yerr=np.sqrt(np.var(outsiderWhite,axis=1)), fmt='-o', color='red', label='white')\n",
    "\n",
    "ax.set_xlabel('Months')\n",
    "ax.set_ylabel('Ethnic Association')\n",
    "ax.set_title('Ethnic Association to Outsider Words')\n",
    "ax.legend()\n",
    "plt.show()"
   ]
  },
  {
   "cell_type": "markdown",
   "id": "ed6ea8e0",
   "metadata": {},
   "source": [
    "## Significance Test \n",
    "\n",
    "We run a two-sample significance test using the t-statistic since we have a smaller sample size to determine if there is a significant difference between asian and white association over each month."
   ]
  },
  {
   "cell_type": "code",
   "execution_count": 48,
   "id": "64c301ac",
   "metadata": {},
   "outputs": [],
   "source": [
    "import scipy.stats as stats"
   ]
  },
  {
   "cell_type": "markdown",
   "id": "899b4e39",
   "metadata": {},
   "source": [
    "### COVID-19"
   ]
  },
  {
   "cell_type": "code",
   "execution_count": 49,
   "id": "6dd4e689",
   "metadata": {},
   "outputs": [
    {
     "data": {
      "text/plain": [
       "((7, 8), (7, 8))"
      ]
     },
     "execution_count": 49,
     "metadata": {},
     "output_type": "execute_result"
    }
   ],
   "source": [
    "covidAsian.shape, covidWhite.shape"
   ]
  },
  {
   "cell_type": "markdown",
   "id": "0872e2ea",
   "metadata": {},
   "source": [
    "For every month, we have 8 values (i.e. 8 covid words to compare)"
   ]
  },
  {
   "cell_type": "code",
   "execution_count": 50,
   "id": "04c9bb62",
   "metadata": {},
   "outputs": [
    {
     "name": "stdout",
     "output_type": "stream",
     "text": [
      "January\n",
      "Ttest_indResult(statistic=-1.1585319894809483, pvalue=0.2662774001917968)\n",
      "February\n",
      "Ttest_indResult(statistic=-0.38979321355658303, pvalue=0.7026593690355438)\n",
      "March\n",
      "Ttest_indResult(statistic=-0.5665204842957149, pvalue=0.5800397791952845)\n",
      "April\n",
      "Ttest_indResult(statistic=-1.3410745012727467, pvalue=0.20125188512340922)\n",
      "May\n",
      "Ttest_indResult(statistic=-0.6548428868038536, pvalue=0.523257073678701)\n",
      "June\n",
      "Ttest_indResult(statistic=-0.7031519775740297, pvalue=0.4934992611195095)\n",
      "July\n",
      "Ttest_indResult(statistic=-0.4296486173409628, pvalue=0.6745130416231545)\n"
     ]
    }
   ],
   "source": [
    "months = ['January', 'February', 'March', 'April', 'May', 'June', 'July']\n",
    "for i in range(7):\n",
    "    print(months[i])\n",
    "    print(stats.ttest_ind(a=covidAsian[i], b=covidWhite[i], equal_var=False))"
   ]
  },
  {
   "cell_type": "markdown",
   "id": "1970f2fc",
   "metadata": {},
   "source": [
    "Our null hypothesis is that the two means are equal, i.e. the average association with the categorical words is the same for both white and asian last names. From our results, we see that we have high p-values for each month so we do not have significant evidence to reject the null hypothesis."
   ]
  },
  {
   "cell_type": "markdown",
   "id": "100a10c8",
   "metadata": {},
   "source": [
    "### Hate Crime"
   ]
  },
  {
   "cell_type": "code",
   "execution_count": 51,
   "id": "c705025d",
   "metadata": {},
   "outputs": [
    {
     "data": {
      "text/plain": [
       "((7, 8), (7, 8))"
      ]
     },
     "execution_count": 51,
     "metadata": {},
     "output_type": "execute_result"
    }
   ],
   "source": [
    "hateAsian.shape, hateWhite.shape"
   ]
  },
  {
   "cell_type": "markdown",
   "id": "80ef93e8",
   "metadata": {},
   "source": [
    "For every month, we have 8 values (i.e. 8 covid words to compare)"
   ]
  },
  {
   "cell_type": "code",
   "execution_count": 52,
   "id": "b1c24a17",
   "metadata": {},
   "outputs": [
    {
     "name": "stdout",
     "output_type": "stream",
     "text": [
      "January\n",
      "Ttest_indResult(statistic=-0.06228867250709994, pvalue=0.9512140376274721)\n",
      "February\n",
      "Ttest_indResult(statistic=0.007251168063916293, pvalue=0.9943188237570662)\n",
      "March\n",
      "Ttest_indResult(statistic=-0.7378788503569386, pvalue=0.4727799588765883)\n",
      "April\n",
      "Ttest_indResult(statistic=-1.0545303726727804, pvalue=0.3100253754811294)\n",
      "May\n",
      "Ttest_indResult(statistic=-0.5204931630540318, pvalue=0.6110169108569508)\n",
      "June\n",
      "Ttest_indResult(statistic=-0.26704237594506847, pvalue=0.7936874336587108)\n",
      "July\n",
      "Ttest_indResult(statistic=-0.46461869373985826, pvalue=0.6495840880845359)\n"
     ]
    }
   ],
   "source": [
    "months = ['January', 'February', 'March', 'April', 'May', 'June', 'July']\n",
    "for i in range(7):\n",
    "    print(months[i])\n",
    "    print(stats.ttest_ind(a=hateAsian[i], b=hateWhite[i], equal_var=False))"
   ]
  },
  {
   "cell_type": "markdown",
   "id": "f2e599fe",
   "metadata": {},
   "source": [
    "Our null hypothesis is that the two means are equal, i.e. the average association with the categorical words is the same for both white and asian last names. From our results, we see that we have high p-values for each month so we do not have significant evidence to reject the null hypothesis."
   ]
  },
  {
   "cell_type": "markdown",
   "id": "52589af2",
   "metadata": {},
   "source": [
    "### Outsider Adjectives"
   ]
  },
  {
   "cell_type": "code",
   "execution_count": 53,
   "id": "6c8650e9",
   "metadata": {},
   "outputs": [
    {
     "data": {
      "text/plain": [
       "((7, 13), (7, 13))"
      ]
     },
     "execution_count": 53,
     "metadata": {},
     "output_type": "execute_result"
    }
   ],
   "source": [
    "outsiderAsian.shape, outsiderWhite.shape"
   ]
  },
  {
   "cell_type": "markdown",
   "id": "f48a980b",
   "metadata": {},
   "source": [
    "For every month, we have 13 values (i.e. 13 outsider words to compare)"
   ]
  },
  {
   "cell_type": "code",
   "execution_count": 54,
   "id": "2ee988ed",
   "metadata": {},
   "outputs": [
    {
     "name": "stdout",
     "output_type": "stream",
     "text": [
      "January\n",
      "Ttest_indResult(statistic=0.39003205830321386, pvalue=0.699955777855815)\n",
      "February\n",
      "Ttest_indResult(statistic=0.22031855885767776, pvalue=0.8274910206082671)\n",
      "March\n",
      "Ttest_indResult(statistic=-0.5215174824393476, pvalue=0.606865233507045)\n",
      "April\n",
      "Ttest_indResult(statistic=-1.0957331897508211, pvalue=0.2842551759703557)\n",
      "May\n",
      "Ttest_indResult(statistic=-0.6314460714105972, pvalue=0.5337189858584016)\n",
      "June\n",
      "Ttest_indResult(statistic=-0.833258181782612, pvalue=0.41306112148376584)\n",
      "July\n",
      "Ttest_indResult(statistic=-0.5773705952565883, pvalue=0.5690871799406917)\n"
     ]
    }
   ],
   "source": [
    "months = ['January', 'February', 'March', 'April', 'May', 'June', 'July']\n",
    "for i in range(7):\n",
    "    print(months[i])\n",
    "    print(stats.ttest_ind(a=outsiderAsian[i], b=outsiderWhite[i], equal_var=False))"
   ]
  },
  {
   "cell_type": "markdown",
   "id": "37cdbeea",
   "metadata": {},
   "source": [
    "Our null hypothesis is that the two means are equal, i.e. the average association with the categorical words is the same for both white and asian last names. From our results, we see that we have high p-values for each month so we do not have significant evidence to reject the null hypothesis."
   ]
  },
  {
   "cell_type": "markdown",
   "id": "8320014f",
   "metadata": {},
   "source": [
    "## Embedding Bias\n",
    "\n",
    "We calculate the embedding bias for each word in a category by computing the following for every category:\n",
    "$$\\delta_{\\text{word}} = \\mu_{\\text{white}} - \\mu_{\\text{asian}}$$\n",
    "\n",
    "where $\\mu_{\\text{white}}$ represents the association of a word in a category to white last names and $\\mu_{\\text{asian}}$ represents association of a word in a category to asian last names.\n",
    "\n",
    "We then take the average of $\\delta_{\\text{word}}$ for every category to calculate the average embedding bias"
   ]
  },
  {
   "cell_type": "markdown",
   "id": "062b6f93",
   "metadata": {},
   "source": [
    "### COVID "
   ]
  },
  {
   "cell_type": "code",
   "execution_count": 55,
   "id": "f9490f1f",
   "metadata": {},
   "outputs": [],
   "source": [
    "# Average embedding bias\n",
    "covid_bias = np.mean(covidWhite - covidAsian, axis=1)"
   ]
  },
  {
   "cell_type": "code",
   "execution_count": 56,
   "id": "648eee86",
   "metadata": {},
   "outputs": [
    {
     "data": {
      "image/png": "[encoded data removed]",
      "text/plain": [
       "<Figure size 640x480 with 1 Axes>"
      ]
     },
     "metadata": {},
     "output_type": "display_data"
    }
   ],
   "source": [
    "plt.plot(months, covid_bias)\n",
    "plt.ylabel('Embedding Bias')\n",
    "plt.title('Embedding Bias for COVID-19')\n",
    "\n",
    "plt.show()"
   ]
  },
  {
   "cell_type": "markdown",
   "id": "f3fbfb32",
   "metadata": {},
   "source": [
    "### Hate Crime Words "
   ]
  },
  {
   "cell_type": "code",
   "execution_count": 57,
   "id": "2970b588",
   "metadata": {},
   "outputs": [],
   "source": [
    "# Average embedding bias\n",
    "hate_bias = np.mean(hateWhite - hateAsian, axis=1)"
   ]
  },
  {
   "cell_type": "code",
   "execution_count": 58,
   "id": "ba054611",
   "metadata": {},
   "outputs": [
    {
     "data": {
      "image/png": "[encoded data removed]",
      "text/plain": [
       "<Figure size 640x480 with 1 Axes>"
      ]
     },
     "metadata": {},
     "output_type": "display_data"
    }
   ],
   "source": [
    "plt.plot(months, hate_bias)\n",
    "plt.ylabel('Embedding Bias')\n",
    "plt.title('Embedding Bias for Hate Crime Words')\n",
    "\n",
    "plt.show()"
   ]
  },
  {
   "cell_type": "markdown",
   "id": "a0901b9f",
   "metadata": {},
   "source": [
    "### Outsider Adjectives"
   ]
  },
  {
   "cell_type": "code",
   "execution_count": 59,
   "id": "3d26e8c8",
   "metadata": {
    "scrolled": true
   },
   "outputs": [],
   "source": [
    "# Average embedding bias\n",
    "outsider_bias = np.mean(outsiderWhite - outsiderAsian, axis=1)"
   ]
  },
  {
   "cell_type": "code",
   "execution_count": 60,
   "id": "5385529b",
   "metadata": {},
   "outputs": [
    {
     "data": {
      "image/png": "[encoded data removed]",
      "text/plain": [
       "<Figure size 640x480 with 1 Axes>"
      ]
     },
     "metadata": {},
     "output_type": "display_data"
    }
   ],
   "source": [
    "plt.plot(months, outsider_bias)\n",
    "plt.ylabel('Embedding Bias')\n",
    "plt.title('Embedding Bias for Outsider Words')\n",
    "\n",
    "plt.show()"
   ]
  }
 ],
 "metadata": {
  "kernelspec": {
   "display_name": "csc2611",
   "language": "python",
   "name": "csc2611"
  },
  "language_info": {
   "codemirror_mode": {
    "name": "ipython",
    "version": 3
   },
   "file_extension": ".py",
   "mimetype": "text/x-python",
   "name": "python",
   "nbconvert_exporter": "python",
   "pygments_lexer": "ipython3",
   "version": "3.7.15"
  }
 },
 "nbformat": 4,
 "nbformat_minor": 5
}
