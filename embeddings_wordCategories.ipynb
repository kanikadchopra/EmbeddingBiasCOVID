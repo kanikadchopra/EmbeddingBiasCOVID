{
 "cells": [
  {
   "cell_type": "code",
   "execution_count": 1,
   "id": "92de3ab1",
   "metadata": {},
   "outputs": [],
   "source": [
    "from datetime import datetime as dt\n",
    "import unicodedata\n",
    "import pandas as pd\n",
    "import numpy as np"
   ]
  },
  {
   "cell_type": "code",
   "execution_count": 2,
   "id": "7293c5ef",
   "metadata": {},
   "outputs": [],
   "source": [
    "from nltk.tokenize import sent_tokenize, word_tokenize\n",
    "import gensim\n",
    "from gensim.models import Word2Vec\n",
    "from gensim.models import KeyedVectors\n",
    "\n",
    "import string\n",
    "from nltk.corpus import stopwords"
   ]
  },
  {
   "cell_type": "markdown",
   "id": "334762b2",
   "metadata": {},
   "source": [
    "## Embeddings\n",
    "\n",
    "We have our data split into monthly data. Now, we compare the embeddings from January 2020 and July 2020."
   ]
  },
  {
   "cell_type": "markdown",
   "id": "16a4f21b",
   "metadata": {},
   "source": [
    "### Import Data"
   ]
  },
  {
   "cell_type": "code",
   "execution_count": 3,
   "id": "3a3f1328",
   "metadata": {},
   "outputs": [],
   "source": [
    "jan = pd.read_csv('months/jan.csv', lineterminator='\\n')\n",
    "feb = pd.read_csv('months/feb.csv', lineterminator='\\n')\n",
    "mar = pd.read_csv('months/mar.csv', lineterminator='\\n')\n",
    "apr = pd.read_csv('months/apr.csv', lineterminator='\\n')\n",
    "may = pd.read_csv('months/may.csv', lineterminator='\\n')\n",
    "june = pd.read_csv('months/june.csv', lineterminator='\\n')\n",
    "july = pd.read_csv('months/july.csv', lineterminator='\\n')"
   ]
  },
  {
   "cell_type": "code",
   "execution_count": 4,
   "id": "6949db5e",
   "metadata": {},
   "outputs": [
    {
     "data": {
      "text/plain": [
       "((21102, 5),\n",
       " (72057, 5),\n",
       " (356982, 5),\n",
       " (421719, 5),\n",
       " (312505, 5),\n",
       " (245143, 5),\n",
       " (243827, 5))"
      ]
     },
     "execution_count": 4,
     "metadata": {},
     "output_type": "execute_result"
    }
   ],
   "source": [
    "jan.shape, feb.shape, mar.shape, apr.shape, may.shape, june.shape, july.shape"
   ]
  },
  {
   "cell_type": "markdown",
   "id": "442f73a4",
   "metadata": {},
   "source": [
    "We see that we have varying data sizes with February having the largest dataset. To avoid having skewed results due to differing sizes, we take a random sample of the lowest amount of data from each sample. We can see that January has the least amount of data so that is the size we will extract from each month."
   ]
  },
  {
   "cell_type": "code",
   "execution_count": 5,
   "id": "63e704d9",
   "metadata": {},
   "outputs": [
    {
     "data": {
      "text/plain": [
       "21102"
      ]
     },
     "execution_count": 5,
     "metadata": {},
     "output_type": "execute_result"
    }
   ],
   "source": [
    "n = jan.shape[0]\n",
    "n"
   ]
  },
  {
   "cell_type": "markdown",
   "id": "dab971de",
   "metadata": {},
   "source": [
    "### Resampling Data"
   ]
  },
  {
   "cell_type": "code",
   "execution_count": 6,
   "id": "ecc13ffa",
   "metadata": {},
   "outputs": [],
   "source": [
    "feb = feb.sample(n=n, replace=False, random_state=1)\n",
    "mar = mar.sample(n=n, replace=False, random_state=1)\n",
    "apr = apr.sample(n=n, replace=False, random_state=1)\n",
    "may = may.sample(n=n, replace=False, random_state=1)\n",
    "june = june.sample(n=n, replace=False, random_state=1)\n",
    "july = july.sample(n=n, replace=False, random_state=1)"
   ]
  },
  {
   "cell_type": "markdown",
   "id": "a2f52dda",
   "metadata": {},
   "source": [
    "### Text Cleaning"
   ]
  },
  {
   "cell_type": "markdown",
   "id": "fe43b7ca",
   "metadata": {},
   "source": [
    "First, let's remove all stop words and punctuation from the sentences. Then we will get our embeddings."
   ]
  },
  {
   "cell_type": "code",
   "execution_count": 7,
   "id": "32ed2148",
   "metadata": {},
   "outputs": [],
   "source": [
    "stop = set(stopwords.words('english'))\n",
    "all_stops = stop | set(string.punctuation)"
   ]
  },
  {
   "cell_type": "code",
   "execution_count": 8,
   "id": "48c1af64",
   "metadata": {},
   "outputs": [],
   "source": [
    "def clean_tokens(sentence):\n",
    "    temp = []\n",
    "    for word in word_tokenize(sentence):\n",
    "        if word not in all_stops:\n",
    "            temp.append(word.lower())\n",
    "    return temp"
   ]
  },
  {
   "cell_type": "code",
   "execution_count": 10,
   "id": "109a99e1",
   "metadata": {},
   "outputs": [],
   "source": [
    "# Tokens\n",
    "jan_tokens = jan.body.apply(clean_tokens)\n",
    "feb_tokens = feb.body.apply(clean_tokens)\n",
    "mar_tokens = mar.body.apply(clean_tokens)\n",
    "apr_tokens = apr.body.apply(clean_tokens)\n",
    "may_tokens = may.body.apply(clean_tokens)\n",
    "june_tokens = june.body.apply(clean_tokens)\n",
    "july_tokens = july.body.apply(clean_tokens)"
   ]
  },
  {
   "cell_type": "code",
   "execution_count": 11,
   "id": "1c90cb5d",
   "metadata": {},
   "outputs": [
    {
     "data": {
      "text/plain": [
       "((21102,), (21102,), (21102,))"
      ]
     },
     "execution_count": 11,
     "metadata": {},
     "output_type": "execute_result"
    }
   ],
   "source": [
    "jan_tokens.shape, may_tokens.shape, july_tokens.shape"
   ]
  },
  {
   "cell_type": "code",
   "execution_count": 12,
   "id": "567e8401",
   "metadata": {},
   "outputs": [
    {
     "data": {
      "text/plain": [
       "6046666"
      ]
     },
     "execution_count": 12,
     "metadata": {},
     "output_type": "execute_result"
    }
   ],
   "source": [
    "len(np.concatenate(jan_tokens.values, axis=0))"
   ]
  },
  {
   "cell_type": "markdown",
   "id": "57525122",
   "metadata": {},
   "source": [
    "We see that for January we have over 6 million tokens."
   ]
  },
  {
   "cell_type": "markdown",
   "id": "98d4f1b0",
   "metadata": {},
   "source": [
    "### Word2Vec Models\n",
    "\n",
    "We build a word2vec model for January through July tokens to get the embeddings."
   ]
  },
  {
   "cell_type": "code",
   "execution_count": 13,
   "id": "aa6ce673",
   "metadata": {},
   "outputs": [],
   "source": [
    "# Create a word2vec model for each month\n",
    "jan_model = gensim.models.Word2Vec(jan_tokens, min_count = 3, window = 5, sg=1) \n",
    "feb_model = gensim.models.Word2Vec(feb_tokens, min_count = 3, window = 5, sg=1) \n",
    "mar_model = gensim.models.Word2Vec(mar_tokens, min_count = 3, window = 5, sg=1) \n",
    "apr_model = gensim.models.Word2Vec(apr_tokens, min_count = 3, window = 5, sg=1) \n",
    "may_model = gensim.models.Word2Vec(may_tokens, min_count = 3, window = 5, sg=1) \n",
    "june_model = gensim.models.Word2Vec(june_tokens, min_count = 3, window = 5, sg=1) \n",
    "july_model = gensim.models.Word2Vec(july_tokens, min_count = 3, window = 5, sg=1)"
   ]
  },
  {
   "cell_type": "code",
   "execution_count": 14,
   "id": "6f8add67",
   "metadata": {},
   "outputs": [
    {
     "data": {
      "text/plain": [
       "array([ 8.07708383e-01,  4.11017746e-01,  1.21743478e-01, -2.69929677e-01,\n",
       "        2.11442545e-01, -1.06397176e+00,  5.58654547e-01,  7.18077719e-01,\n",
       "        3.94378155e-01,  2.17337891e-01,  3.08701724e-01, -2.86516100e-01,\n",
       "       -8.05128217e-02, -6.23122036e-01,  8.69856253e-02, -5.65727949e-01,\n",
       "       -4.53347802e-01,  2.29740784e-01,  1.18969776e-01, -8.94399732e-02,\n",
       "       -3.75542343e-02,  7.36617208e-01,  1.16296327e+00, -5.79378963e-01,\n",
       "       -4.84360099e-01,  4.61392581e-01, -9.87474248e-02, -1.16173588e-02,\n",
       "       -6.68823004e-01,  6.23043716e-01,  4.73286599e-01,  1.93691283e-01,\n",
       "        6.85491085e-01,  1.81182921e-01, -1.08659200e-01, -1.90627426e-01,\n",
       "        6.34765506e-01, -3.38993728e-01, -2.85096616e-01, -3.51861447e-01,\n",
       "       -8.17764759e-01, -4.25170064e-01,  3.25135678e-01,  9.82128084e-02,\n",
       "       -7.52950534e-02, -2.96986312e-01, -3.52532297e-01,  1.89445809e-01,\n",
       "       -7.37787843e-01, -6.84579611e-01, -3.03379521e-02, -5.34071703e-04,\n",
       "       -2.76190490e-01, -8.89172554e-02,  1.36659563e-01,  1.97039470e-01,\n",
       "        2.56217778e-01,  1.55191019e-01, -3.22105855e-01, -5.34429908e-01,\n",
       "        6.11875951e-01,  2.56621867e-01, -1.23380572e-01,  4.51542437e-01,\n",
       "       -4.04277533e-01, -1.12353295e-01,  1.61873698e-01,  4.46610898e-01,\n",
       "       -2.07665369e-01, -6.64225668e-02, -5.65268174e-02, -2.40155384e-01,\n",
       "        7.23372459e-01, -1.12355411e-01, -2.20789805e-01, -1.78756341e-02,\n",
       "        4.79663283e-01, -1.41000330e-01,  3.51605773e-01, -4.27659184e-01,\n",
       "       -2.99174070e-01, -8.90962556e-02, -2.53909141e-01,  7.11312532e-01,\n",
       "       -7.82652721e-02, -1.12483241e-01,  5.22105694e-01,  7.41271198e-01,\n",
       "        3.09257537e-01, -3.28907937e-01,  6.89780191e-02,  4.12598392e-03,\n",
       "       -1.53616160e-01, -4.37379003e-01,  2.34104484e-01,  3.08254808e-01,\n",
       "        4.35016036e-01, -7.31872559e-01, -1.39281034e-01,  1.40099198e-01],\n",
       "      dtype=float32)"
      ]
     },
     "execution_count": 14,
     "metadata": {},
     "output_type": "execute_result"
    }
   ],
   "source": [
    "# Test out embedding on one word\n",
    "jan_model.wv['apple']"
   ]
  },
  {
   "cell_type": "code",
   "execution_count": 15,
   "id": "a867c93d",
   "metadata": {},
   "outputs": [],
   "source": [
    "# Save the embedding models\n",
    "jan_model.save('models/jan_model.model')\n",
    "feb_model.save('models/feb_model.model')\n",
    "mar_model.save('models/mar_model.model')\n",
    "apr_model.save('models/apr_model.model')\n",
    "may_model.save('models/may_model.model')\n",
    "june_model.save('models/june_model.model')\n",
    "july_model.save('models/july_model.model')"
   ]
  },
  {
   "cell_type": "markdown",
   "id": "520f7e9d",
   "metadata": {},
   "source": [
    "We save our embedding models so that we can load them in again in the future."
   ]
  },
  {
   "cell_type": "markdown",
   "id": "1d612fbf",
   "metadata": {},
   "source": [
    "## Group Word Lists \n",
    "\n",
    "We need to get word lists for both Asian and White names so that we can separate the two from the articles. We get this information from _Word Embeddings Quantify 100 Years of Gender and Ethnic Stereotypes_."
   ]
  },
  {
   "cell_type": "code",
   "execution_count": 16,
   "id": "18c9095d",
   "metadata": {},
   "outputs": [
    {
     "data": {
      "text/plain": [
       "20"
      ]
     },
     "execution_count": 16,
     "metadata": {},
     "output_type": "execute_result"
    }
   ],
   "source": [
    "white_last_names = ['harris', 'nelson', 'robinson', 'thompson', 'moore', 'wright', 'anderson', 'clark', 'jackson', 'taylor', 'scott', 'davis',\n",
    "'allen', 'adams', 'lewis', 'williams', 'jones', 'wilson', 'martin', 'johnson']\n",
    "\n",
    "len(white_last_names)"
   ]
  },
  {
   "cell_type": "code",
   "execution_count": 17,
   "id": "aedf4ea4",
   "metadata": {},
   "outputs": [
    {
     "data": {
      "text/plain": [
       "(22,)"
      ]
     },
     "execution_count": 17,
     "metadata": {},
     "output_type": "execute_result"
    }
   ],
   "source": [
    "chinese_last_names = ['chung', 'liu', 'wong', 'huang', 'ng','hu', 'chu', 'chen', 'lin', 'liang', 'wang', 'wu', 'yang', 'tang', 'chang', 'hong', 'li']\n",
    "asian_last_names = ['cho', 'wong', 'tang', 'huang', 'chu', 'chung', 'ng', 'wu', 'liu', 'chen', 'lin', 'yang', 'kim', 'chang', 'shah', 'wang', 'li', 'khan',\n",
    "'singh', 'hong'] + chinese_last_names\n",
    "\n",
    "# Get unique last names to avoid any repeats\n",
    "asian_last_names = np.unique(np.array(asian_last_names))\n",
    "\n",
    "asian_last_names.shape"
   ]
  },
  {
   "cell_type": "markdown",
   "id": "cd7f504c",
   "metadata": {},
   "source": [
    "We have 20 White last names and 22 Asian last names."
   ]
  },
  {
   "cell_type": "markdown",
   "id": "b5e1884b",
   "metadata": {},
   "source": [
    "**White Last Names**"
   ]
  },
  {
   "cell_type": "code",
   "execution_count": 18,
   "id": "2116ab11",
   "metadata": {},
   "outputs": [
    {
     "data": {
      "text/plain": [
       "(20, 100)"
      ]
     },
     "execution_count": 18,
     "metadata": {},
     "output_type": "execute_result"
    }
   ],
   "source": [
    "# Get embedding for every word\n",
    "whiteEmb_jan = np.array([jan_model.wv[name] for name in white_last_names])\n",
    "whiteEmb_feb = np.array([feb_model.wv[name] for name in white_last_names])\n",
    "whiteEmb_mar = np.array([mar_model.wv[name] for name in white_last_names])\n",
    "whiteEmb_apr = np.array([apr_model.wv[name] for name in white_last_names])\n",
    "whiteEmb_may = np.array([may_model.wv[name] for name in white_last_names])\n",
    "whiteEmb_june = np.array([june_model.wv[name] for name in white_last_names])\n",
    "whiteEmb_july = np.array([july_model.wv[name] for name in white_last_names])\n",
    "\n",
    "whiteEmb_jan.shape"
   ]
  },
  {
   "cell_type": "markdown",
   "id": "992dd5e2",
   "metadata": {},
   "source": [
    "Then, we repeat this process with Asian last names.\n",
    "\n",
    "**Asian Last Names**"
   ]
  },
  {
   "cell_type": "code",
   "execution_count": 19,
   "id": "cd4573e5",
   "metadata": {},
   "outputs": [
    {
     "data": {
      "text/plain": [
       "(22, 100)"
      ]
     },
     "execution_count": 19,
     "metadata": {},
     "output_type": "execute_result"
    }
   ],
   "source": [
    "# Get embedding for every word\n",
    "asianEmb_jan = np.array([jan_model.wv[name] for name in asian_last_names])\n",
    "asianEmb_feb = np.array([feb_model.wv[name] for name in asian_last_names])\n",
    "asianEmb_mar = np.array([mar_model.wv[name] for name in asian_last_names])\n",
    "asianEmb_apr = np.array([apr_model.wv[name] for name in asian_last_names])\n",
    "asianEmb_may = np.array([may_model.wv[name] for name in asian_last_names])\n",
    "asianEmb_june = np.array([june_model.wv[name] for name in asian_last_names])\n",
    "asianEmb_july = np.array([july_model.wv[name] for name in asian_last_names])\n",
    "\n",
    "asianEmb_jan.shape"
   ]
  },
  {
   "cell_type": "markdown",
   "id": "cb67d4a0",
   "metadata": {},
   "source": [
    "## Other Word Lists\n",
    "\n",
    "From reading articles and the following papers, the following categories for word lists have been created. We will be quantifying the association between Asians (relative to Whites) for:\n",
    "1. COVID-19 related terms\n",
    "2. Hate Crime related terms\n",
    "3. Outsider Adjectives\n",
    "4. General list of adjectives\n",
    "\n",
    "The first three will be used to determine if they follow global events, i.e. reports from news articles and papers on the effects of COVID-19 in. The latter will then be used with a sentiment analysis to determine if more negative adjectives are being associated with Asians vs. Whites if time persists. \n",
    "\n",
    "We read these word lists in from a self-created CSV file. We get oustider adjectives from [1] and the extra larger adjective list from (paper i did my paper pres on or extratrait.csv from [2]????"
   ]
  },
  {
   "cell_type": "markdown",
   "id": "d0798b94",
   "metadata": {},
   "source": [
    "https://www.pbs.org/newshour/nation/asian-americans-describe-gut-punch-of-racist-attacks-during-coronavirus-pandemic\n",
    "https://www.frontiersin.org/articles/10.3389/fcomm.2020.00039/full"
   ]
  },
  {
   "cell_type": "code",
   "execution_count": 21,
   "id": "5f9bbd78",
   "metadata": {},
   "outputs": [
    {
     "data": {
      "text/html": [
       "<div>\n",
       "<style scoped>\n",
       "    .dataframe tbody tr th:only-of-type {\n",
       "        vertical-align: middle;\n",
       "    }\n",
       "\n",
       "    .dataframe tbody tr th {\n",
       "        vertical-align: top;\n",
       "    }\n",
       "\n",
       "    .dataframe thead th {\n",
       "        text-align: right;\n",
       "    }\n",
       "</style>\n",
       "<table border=\"1\" class=\"dataframe\">\n",
       "  <thead>\n",
       "    <tr style=\"text-align: right;\">\n",
       "      <th></th>\n",
       "      <th>covid</th>\n",
       "      <th>hate_crime</th>\n",
       "      <th>outsider</th>\n",
       "    </tr>\n",
       "  </thead>\n",
       "  <tbody>\n",
       "    <tr>\n",
       "      <th>0</th>\n",
       "      <td>coronavirus</td>\n",
       "      <td>harassment</td>\n",
       "      <td>devious</td>\n",
       "    </tr>\n",
       "    <tr>\n",
       "      <th>1</th>\n",
       "      <td>virus</td>\n",
       "      <td>assault</td>\n",
       "      <td>bizarre</td>\n",
       "    </tr>\n",
       "    <tr>\n",
       "      <th>2</th>\n",
       "      <td>covid</td>\n",
       "      <td>murder</td>\n",
       "      <td>venomous</td>\n",
       "    </tr>\n",
       "    <tr>\n",
       "      <th>3</th>\n",
       "      <td>flu</td>\n",
       "      <td>arson</td>\n",
       "      <td>erratic</td>\n",
       "    </tr>\n",
       "    <tr>\n",
       "      <th>4</th>\n",
       "      <td>bat</td>\n",
       "      <td>vandalism</td>\n",
       "      <td>barbaric</td>\n",
       "    </tr>\n",
       "  </tbody>\n",
       "</table>\n",
       "</div>"
      ],
      "text/plain": [
       "         covid   hate_crime  outsider\n",
       "0  coronavirus  harassment    devious\n",
       "1        virus      assault   bizarre\n",
       "2        covid       murder  venomous\n",
       "3          flu        arson   erratic\n",
       "4          bat    vandalism  barbaric"
      ]
     },
     "execution_count": 21,
     "metadata": {},
     "output_type": "execute_result"
    }
   ],
   "source": [
    "word_lists = pd.read_csv('data/wordlists.csv')\n",
    "word_lists.head()"
   ]
  },
  {
   "cell_type": "code",
   "execution_count": 22,
   "id": "86aadd60",
   "metadata": {},
   "outputs": [],
   "source": [
    "covid = word_lists.covid.values\n",
    "hate_crime = word_lists.hate_crime.values\n",
    "outsider = word_lists.outsider.values"
   ]
  },
  {
   "cell_type": "markdown",
   "id": "5d6b82a1",
   "metadata": {},
   "source": [
    "First, we want to determine words that are present in all of the months as these are the only embeddings that we can compare over time."
   ]
  },
  {
   "cell_type": "markdown",
   "id": "bc2a546f",
   "metadata": {},
   "source": [
    "**Check which words are in all of the months**"
   ]
  },
  {
   "cell_type": "code",
   "execution_count": 23,
   "id": "77037bd5",
   "metadata": {},
   "outputs": [],
   "source": [
    "jan_words = jan_model.wv.key_to_index\n",
    "feb_words = feb_model.wv.key_to_index\n",
    "mar_words = mar_model.wv.key_to_index\n",
    "apr_words = apr_model.wv.key_to_index\n",
    "may_words = may_model.wv.key_to_index\n",
    "june_words = june_model.wv.key_to_index\n",
    "july_words = july_model.wv.key_to_index"
   ]
  },
  {
   "cell_type": "code",
   "execution_count": 24,
   "id": "a3b0f075",
   "metadata": {},
   "outputs": [],
   "source": [
    "def check_words(lst):\n",
    "    final_lst = []\n",
    "    for word in lst:\n",
    "        if (word in jan_words) & (word in feb_words) & (word in mar_words) & (word in apr_words) & (word in may_words) & (word in june_words) & (word in july_words):\n",
    "            final_lst.append(word)\n",
    "    return final_lst"
   ]
  },
  {
   "cell_type": "code",
   "execution_count": 25,
   "id": "b9a29810",
   "metadata": {},
   "outputs": [],
   "source": [
    "covid_lst = check_words(covid)\n",
    "hate_lst = check_words(hate_crime)\n",
    "outsider_lst = check_words(outsider)"
   ]
  },
  {
   "cell_type": "code",
   "execution_count": 26,
   "id": "1bbc5d05",
   "metadata": {},
   "outputs": [
    {
     "name": "stdout",
     "output_type": "stream",
     "text": [
      "['coronavirus', 'virus', 'flu', 'bat', 'sick', 'disease', 'infectious', 'contagious']\n",
      "['assault', 'murder', 'arson', 'vandalism', 'threats', 'hate', 'spitting', 'attack']\n",
      "['bizarre', 'erratic', 'frightening', 'forceful', 'deceptive', 'greedy', 'hateful', 'brutal', 'monstrous', 'calculating', 'cruel', 'aggressive', 'monstrous']\n"
     ]
    }
   ],
   "source": [
    "print(covid_lst)\n",
    "print(hate_lst)\n",
    "print(outsider_lst)"
   ]
  },
  {
   "cell_type": "code",
   "execution_count": 27,
   "id": "05525966",
   "metadata": {},
   "outputs": [
    {
     "data": {
      "text/plain": [
       "(8, 8, 13)"
      ]
     },
     "execution_count": 27,
     "metadata": {},
     "output_type": "execute_result"
    }
   ],
   "source": [
    "len(covid_lst), len(hate_lst), len(outsider_lst)"
   ]
  },
  {
   "cell_type": "markdown",
   "id": "0cc6b248",
   "metadata": {},
   "source": [
    "These are the words that appear in every month of data. Next, we get the embeddings for each of these words."
   ]
  },
  {
   "cell_type": "markdown",
   "id": "9875ee85",
   "metadata": {},
   "source": [
    "## Embeddings"
   ]
  },
  {
   "cell_type": "code",
   "execution_count": 28,
   "id": "f51202a6",
   "metadata": {},
   "outputs": [],
   "source": [
    "def get_embeddings(lst, model):\n",
    "    emb_lst = []\n",
    "    for word in lst:\n",
    "        embs = []\n",
    "        emb = model.wv[word]\n",
    "        emb_lst.append(emb)\n",
    "    return emb_lst"
   ]
  },
  {
   "cell_type": "markdown",
   "id": "eb6fdde7",
   "metadata": {},
   "source": [
    "**COVID**"
   ]
  },
  {
   "cell_type": "code",
   "execution_count": 29,
   "id": "ff798561",
   "metadata": {},
   "outputs": [],
   "source": [
    "# January\n",
    "covidEmb_jan = np.array(get_embeddings(covid_lst, jan_model))\n",
    "hateEmb_jan = np.array(get_embeddings(hate_lst, jan_model))\n",
    "outsiderEmb_jan = np.array(get_embeddings(outsider_lst, jan_model))\n",
    "\n",
    "# February\n",
    "covidEmb_feb = np.array(get_embeddings(covid_lst, feb_model))\n",
    "hateEmb_feb = np.array(get_embeddings(hate_lst, feb_model))\n",
    "outsiderEmb_feb = np.array(get_embeddings(outsider_lst, feb_model))\n",
    "\n",
    "# March\n",
    "covidEmb_mar = np.array(get_embeddings(covid_lst, mar_model))\n",
    "hateEmb_mar = np.array(get_embeddings(hate_lst, mar_model))\n",
    "outsiderEmb_mar = np.array(get_embeddings(outsider_lst, mar_model))\n",
    "\n",
    "# April\n",
    "covidEmb_apr = np.array(get_embeddings(covid_lst, apr_model))\n",
    "hateEmb_apr = np.array(get_embeddings(hate_lst, apr_model))\n",
    "outsiderEmb_apr = np.array(get_embeddings(outsider_lst, apr_model))\n",
    "\n",
    "# May\n",
    "covidEmb_may = np.array(get_embeddings(covid_lst, may_model))\n",
    "hateEmb_may = np.array(get_embeddings(hate_lst, may_model))\n",
    "outsiderEmb_may = np.array(get_embeddings(outsider_lst, may_model))\n",
    "\n",
    "# June\n",
    "covidEmb_june = np.array(get_embeddings(covid_lst, june_model))\n",
    "hateEmb_june = np.array(get_embeddings(hate_lst, june_model))\n",
    "outsiderEmb_june = np.array(get_embeddings(outsider_lst, june_model))\n",
    "\n",
    "# July\n",
    "covidEmb_july = np.array(get_embeddings(covid_lst, july_model))\n",
    "hateEmb_july = np.array(get_embeddings(hate_lst, july_model))\n",
    "outsiderEmb_july = np.array(get_embeddings(outsider_lst, july_model))"
   ]
  },
  {
   "cell_type": "markdown",
   "id": "7514db0b",
   "metadata": {},
   "source": [
    "We then want to get the group representational vectors for each category for each month."
   ]
  },
  {
   "cell_type": "code",
   "execution_count": 30,
   "id": "475533cb",
   "metadata": {},
   "outputs": [],
   "source": [
    "# January\n",
    "covidGroup_jan = np.mean(covidEmb_jan, axis=0)\n",
    "hateGroup_jan = np.mean(hateEmb_jan, axis=0)\n",
    "outsiderGroup_jan = np.mean(outsiderEmb_jan, axis=0)\n",
    "\n",
    "# February\n",
    "covidGroup_feb = np.mean(covidEmb_feb, axis=0)\n",
    "hateGroup_feb = np.mean(hateEmb_feb, axis=0)\n",
    "outsiderGroup_feb = np.mean(outsiderEmb_feb, axis=0)\n",
    "\n",
    "# March\n",
    "covidGroup_mar = np.mean(covidEmb_mar, axis=0)\n",
    "hateGroup_mar = np.mean(hateEmb_mar, axis=0)\n",
    "outsiderGroup_mar = np.mean(outsiderEmb_mar, axis=0)\n",
    "\n",
    "# April\n",
    "covidGroup_apr = np.mean(covidEmb_apr, axis=0)\n",
    "hateGroup_apr = np.mean(hateEmb_apr, axis=0)\n",
    "outsiderGroup_apr = np.mean(outsiderEmb_apr, axis=0)\n",
    "\n",
    "# May\n",
    "covidGroup_may = np.mean(covidEmb_may, axis=0)\n",
    "hateGroup_may = np.mean(hateEmb_may, axis=0)\n",
    "outsiderGroup_may = np.mean(outsiderEmb_may, axis=0)\n",
    "\n",
    "# June\n",
    "covidGroup_june = np.mean(covidEmb_june, axis=0)\n",
    "hateGroup_june = np.mean(hateEmb_june, axis=0)\n",
    "outsiderGroup_june = np.mean(outsiderEmb_june, axis=0)\n",
    "\n",
    "# July\n",
    "covidGroup_july = np.mean(covidEmb_july, axis=0)\n",
    "hateGroup_july = np.mean(hateEmb_july, axis=0)\n",
    "outsiderGroup_july = np.mean(outsiderEmb_july, axis=0)"
   ]
  },
  {
   "cell_type": "markdown",
   "id": "15220d09",
   "metadata": {},
   "source": [
    "## Embedding Similarity\n",
    "Now, for each of these words, we can compute the association with the Asian and White last names and the generalized category vectors."
   ]
  },
  {
   "cell_type": "code",
   "execution_count": 31,
   "id": "6a279a71",
   "metadata": {},
   "outputs": [],
   "source": [
    "import matplotlib.pyplot as plt\n",
    "%matplotlib inline"
   ]
  },
  {
   "cell_type": "markdown",
   "id": "c7412735",
   "metadata": {},
   "source": [
    "### COVID"
   ]
  },
  {
   "cell_type": "code",
   "execution_count": 32,
   "id": "86f02547",
   "metadata": {},
   "outputs": [],
   "source": [
    "# Bias with Asian vector\n",
    "covidAsian_jan = np.linalg.norm(covidGroup_jan - asianEmb_jan, axis=1)\n",
    "covidAsian_feb = np.linalg.norm(covidGroup_feb - asianEmb_feb, axis=1)\n",
    "covidAsian_mar = np.linalg.norm(covidGroup_mar - asianEmb_mar, axis=1)\n",
    "covidAsian_apr = np.linalg.norm(covidGroup_apr - asianEmb_apr, axis=1)\n",
    "covidAsian_may = np.linalg.norm(covidGroup_may - asianEmb_may, axis=1)\n",
    "covidAsian_june = np.linalg.norm(covidGroup_june - asianEmb_june, axis=1)\n",
    "covidAsian_july = np.linalg.norm(covidGroup_july - asianEmb_july, axis=1)"
   ]
  },
  {
   "cell_type": "code",
   "execution_count": 33,
   "id": "27f1e2d8",
   "metadata": {},
   "outputs": [],
   "source": [
    "covidAsian = np.array([covidAsian_jan, covidAsian_feb, covidAsian_mar, covidAsian_apr, covidAsian_may, \n",
    "                       covidAsian_june, covidAsian_july])"
   ]
  },
  {
   "cell_type": "code",
   "execution_count": 34,
   "id": "bd203360",
   "metadata": {
    "scrolled": true
   },
   "outputs": [
    {
     "data": {
      "text/plain": [
       "array([3.6973062, 3.6542056, 3.0730643, 3.0602493, 3.297492 , 3.3202937,\n",
       "       3.4113967], dtype=float32)"
      ]
     },
     "execution_count": 34,
     "metadata": {},
     "output_type": "execute_result"
    }
   ],
   "source": [
    "# Average similarity \n",
    "np.mean(covidAsian, axis=1)"
   ]
  },
  {
   "cell_type": "code",
   "execution_count": 35,
   "id": "15e82f11",
   "metadata": {},
   "outputs": [
    {
     "data": {
      "text/plain": [
       "array([0.43927357, 0.35146597, 0.5483769 , 0.69192654, 0.63943166,\n",
       "       0.6402359 , 0.54009175], dtype=float32)"
      ]
     },
     "execution_count": 35,
     "metadata": {},
     "output_type": "execute_result"
    }
   ],
   "source": [
    "# Deviation between months \n",
    "np.sqrt(np.var(covidAsian,axis=1))"
   ]
  },
  {
   "cell_type": "code",
   "execution_count": 36,
   "id": "e6269878",
   "metadata": {},
   "outputs": [],
   "source": [
    "# Bias with White vector\n",
    "covidWhite_jan = np.linalg.norm(covidGroup_jan - whiteEmb_jan, axis=1)\n",
    "covidWhite_feb = np.linalg.norm(covidGroup_feb - whiteEmb_feb, axis=1)\n",
    "covidWhite_mar = np.linalg.norm(covidGroup_mar - whiteEmb_mar, axis=1)\n",
    "covidWhite_apr = np.linalg.norm(covidGroup_apr - whiteEmb_apr, axis=1)\n",
    "covidWhite_may = np.linalg.norm(covidGroup_may - whiteEmb_may, axis=1)\n",
    "covidWhite_june = np.linalg.norm(covidGroup_june - whiteEmb_june, axis=1)\n",
    "covidWhite_july = np.linalg.norm(covidGroup_july - whiteEmb_july, axis=1)"
   ]
  },
  {
   "cell_type": "code",
   "execution_count": 37,
   "id": "d893a6a6",
   "metadata": {},
   "outputs": [],
   "source": [
    "covidWhite = np.array([covidWhite_jan, covidWhite_feb, covidWhite_mar, covidWhite_apr, covidWhite_may,\n",
    "                       covidWhite_june, covidWhite_july])"
   ]
  },
  {
   "cell_type": "code",
   "execution_count": 38,
   "id": "e8ec3dcd",
   "metadata": {
    "scrolled": true
   },
   "outputs": [
    {
     "data": {
      "text/plain": [
       "array([3.6295044, 3.7073536, 3.303163 , 3.349982 , 3.2808983, 3.4250686,\n",
       "       3.4731872], dtype=float32)"
      ]
     },
     "execution_count": 38,
     "metadata": {},
     "output_type": "execute_result"
    }
   ],
   "source": [
    "# Average similarity \n",
    "np.mean(covidWhite, axis=1)"
   ]
  },
  {
   "cell_type": "code",
   "execution_count": 39,
   "id": "5fb5ce56",
   "metadata": {},
   "outputs": [
    {
     "data": {
      "text/plain": [
       "array([0.4905333 , 0.4857202 , 0.30700192, 0.30521116, 0.27203333,\n",
       "       0.2966444 , 0.3070174 ], dtype=float32)"
      ]
     },
     "execution_count": 39,
     "metadata": {},
     "output_type": "execute_result"
    }
   ],
   "source": [
    "# Deviation between months \n",
    "np.sqrt(np.var(covidWhite,axis=1))"
   ]
  },
  {
   "cell_type": "markdown",
   "id": "b23c00cc",
   "metadata": {},
   "source": [
    "#### Plot"
   ]
  },
  {
   "cell_type": "code",
   "execution_count": 40,
   "id": "96fb76f7",
   "metadata": {
    "scrolled": true
   },
   "outputs": [
    {
     "data": {
      "text/plain": [
       "array([3.6295044, 3.7073536, 3.303163 , 3.349982 , 3.2808983, 3.4250686,\n",
       "       3.4731872], dtype=float32)"
      ]
     },
     "execution_count": 40,
     "metadata": {},
     "output_type": "execute_result"
    }
   ],
   "source": [
    "np.mean(covidWhite, axis=1)"
   ]
  },
  {
   "cell_type": "code",
   "execution_count": 71,
   "id": "4a5ed548",
   "metadata": {
    "scrolled": true
   },
   "outputs": [
    {
     "data": {
      "image/png": "[encoded data removed]",
      "text/plain": [
       "<Figure size 640x480 with 1 Axes>"
      ]
     },
     "metadata": {},
     "output_type": "display_data"
    }
   ],
   "source": [
    "fig, ax = plt.subplots()\n",
    "\n",
    "months = ['Jan', 'Feb', 'Mar', 'Apr', 'May', 'June', 'July']\n",
    "\n",
    "ax.errorbar(x=months, y=np.mean(covidAsian, axis=1), yerr=np.sqrt(np.var(covidAsian,axis=1)), fmt='-o', color='blue', label='asian')\n",
    "ax.errorbar(x=months, y=np.mean(covidWhite, axis=1), yerr=np.sqrt(np.var(covidWhite,axis=1)), fmt='-o', color='red', label='white')\n",
    "\n",
    "ax.set_xlabel('Months')\n",
    "ax.set_ylabel('Ethnic Association')\n",
    "ax.set_title('Ethnic Association to COVID-19')\n",
    "ax.legend()\n",
    "plt.show()"
   ]
  },
  {
   "cell_type": "markdown",
   "id": "af4d5431",
   "metadata": {},
   "source": [
    "### Hate Crime"
   ]
  },
  {
   "cell_type": "code",
   "execution_count": 42,
   "id": "31850af3",
   "metadata": {},
   "outputs": [],
   "source": [
    "# Bias with Asian vector\n",
    "hateAsian_jan = np.linalg.norm(hateGroup_jan - asianEmb_jan, axis=1)\n",
    "hateAsian_feb = np.linalg.norm(hateGroup_feb - asianEmb_feb, axis=1)\n",
    "hateAsian_mar = np.linalg.norm(hateGroup_mar - asianEmb_mar, axis=1)\n",
    "hateAsian_apr = np.linalg.norm(hateGroup_apr - asianEmb_apr, axis=1)\n",
    "hateAsian_may = np.linalg.norm(hateGroup_may - asianEmb_may, axis=1)\n",
    "hateAsian_june = np.linalg.norm(hateGroup_june - asianEmb_june, axis=1)\n",
    "hateAsian_july = np.linalg.norm(hateGroup_july - asianEmb_july, axis=1)"
   ]
  },
  {
   "cell_type": "code",
   "execution_count": 43,
   "id": "6cd6dfa4",
   "metadata": {},
   "outputs": [],
   "source": [
    "hateAsian = np.array([hateAsian_jan, hateAsian_feb, hateAsian_mar, hateAsian_apr, hateAsian_may,\n",
    "                     hateAsian_june, hateAsian_july])"
   ]
  },
  {
   "cell_type": "code",
   "execution_count": 44,
   "id": "dddc3f7a",
   "metadata": {
    "scrolled": false
   },
   "outputs": [
    {
     "data": {
      "text/plain": [
       "array([3.459465 , 3.411147 , 2.7707155, 2.9311457, 3.112474 , 3.3181124,\n",
       "       3.1582232], dtype=float32)"
      ]
     },
     "execution_count": 44,
     "metadata": {},
     "output_type": "execute_result"
    }
   ],
   "source": [
    "# Average similarity \n",
    "np.mean(hateAsian, axis=1)"
   ]
  },
  {
   "cell_type": "code",
   "execution_count": 45,
   "id": "1e0d4604",
   "metadata": {},
   "outputs": [
    {
     "data": {
      "text/plain": [
       "array([0.5606456 , 0.39627013, 0.5896709 , 0.6819716 , 0.6473034 ,\n",
       "       0.6313023 , 0.5969046 ], dtype=float32)"
      ]
     },
     "execution_count": 45,
     "metadata": {},
     "output_type": "execute_result"
    }
   ],
   "source": [
    "# Deviation between months \n",
    "np.sqrt(np.var(hateAsian,axis=1))"
   ]
  },
  {
   "cell_type": "code",
   "execution_count": 46,
   "id": "1fe27d02",
   "metadata": {},
   "outputs": [],
   "source": [
    "# Bias with White vector\n",
    "hateWhite_jan = np.linalg.norm(hateGroup_jan - whiteEmb_jan, axis=1)\n",
    "hateWhite_feb = np.linalg.norm(hateGroup_feb - whiteEmb_feb, axis=1)\n",
    "hateWhite_mar = np.linalg.norm(hateGroup_mar - whiteEmb_mar, axis=1)\n",
    "hateWhite_apr = np.linalg.norm(hateGroup_apr - whiteEmb_apr, axis=1)\n",
    "hateWhite_may = np.linalg.norm(hateGroup_may - whiteEmb_may, axis=1)\n",
    "hateWhite_june = np.linalg.norm(hateGroup_june - whiteEmb_june, axis=1)\n",
    "hateWhite_july = np.linalg.norm(hateGroup_july - whiteEmb_july, axis=1)"
   ]
  },
  {
   "cell_type": "code",
   "execution_count": 47,
   "id": "404d0459",
   "metadata": {},
   "outputs": [],
   "source": [
    "hateWhite = np.array([hateWhite_jan, hateWhite_feb, hateWhite_mar, hateWhite_apr, hateWhite_may,\n",
    "                     hateWhite_june, hateWhite_july])"
   ]
  },
  {
   "cell_type": "code",
   "execution_count": 48,
   "id": "7fcd86be",
   "metadata": {},
   "outputs": [
    {
     "data": {
      "text/plain": [
       "array([3.2012982, 3.367232 , 3.1113322, 3.207219 , 3.09747  , 3.2693534,\n",
       "       3.188354 ], dtype=float32)"
      ]
     },
     "execution_count": 48,
     "metadata": {},
     "output_type": "execute_result"
    }
   ],
   "source": [
    "# Average similarity \n",
    "np.mean(hateWhite, axis=1)"
   ]
  },
  {
   "cell_type": "code",
   "execution_count": 49,
   "id": "e5bf2540",
   "metadata": {},
   "outputs": [
    {
     "data": {
      "text/plain": [
       "array([0.5800524 , 0.58573425, 0.37238008, 0.34548804, 0.27469087,\n",
       "       0.2833831 , 0.30699056], dtype=float32)"
      ]
     },
     "execution_count": 49,
     "metadata": {},
     "output_type": "execute_result"
    }
   ],
   "source": [
    "# Deviation between months \n",
    "np.sqrt(np.var(hateWhite,axis=1))"
   ]
  },
  {
   "cell_type": "markdown",
   "id": "b29e7e25",
   "metadata": {},
   "source": [
    "#### Plot"
   ]
  },
  {
   "cell_type": "code",
   "execution_count": 70,
   "id": "f0ed1a19",
   "metadata": {},
   "outputs": [
    {
     "data": {
      "image/png": "[encoded data removed]",
      "text/plain": [
       "<Figure size 640x480 with 1 Axes>"
      ]
     },
     "metadata": {},
     "output_type": "display_data"
    }
   ],
   "source": [
    "fig, ax = plt.subplots()\n",
    "\n",
    "months = ['Jan', 'Feb', 'Mar', 'Apr', 'May', 'June', 'July']\n",
    "\n",
    "ax.errorbar(x=months, y=np.mean(hateAsian, axis=1), yerr=np.sqrt(np.var(hateAsian,axis=1)), fmt='-o', color='blue', label='asian')\n",
    "ax.errorbar(x=months, y=np.mean(hateWhite, axis=1), yerr=np.sqrt(np.var(hateWhite,axis=1)), fmt='-o', color='red', label='white')\n",
    "\n",
    "ax.set_xlabel('Months')\n",
    "ax.set_ylabel('Ethnic Association')\n",
    "ax.set_title('Ethnic Association to Hate Crimes')\n",
    "ax.legend()\n",
    "plt.show()"
   ]
  },
  {
   "cell_type": "markdown",
   "id": "fd619ca9",
   "metadata": {},
   "source": [
    "### Outsider Adjectives"
   ]
  },
  {
   "cell_type": "code",
   "execution_count": 51,
   "id": "a5546342",
   "metadata": {},
   "outputs": [],
   "source": [
    "# Bias with Asian vector\n",
    "outsiderAsian_jan = np.linalg.norm(outsiderGroup_jan - asianEmb_jan, axis=1)\n",
    "outsiderAsian_feb = np.linalg.norm(outsiderGroup_feb - asianEmb_feb, axis=1)\n",
    "outsiderAsian_mar = np.linalg.norm(outsiderGroup_mar - asianEmb_mar, axis=1)\n",
    "outsiderAsian_apr = np.linalg.norm(outsiderGroup_apr - asianEmb_apr, axis=1)\n",
    "outsiderAsian_may = np.linalg.norm(outsiderGroup_may - asianEmb_may, axis=1)\n",
    "outsiderAsian_june = np.linalg.norm(outsiderGroup_june - asianEmb_june, axis=1)\n",
    "outsiderAsian_july = np.linalg.norm(outsiderGroup_july - asianEmb_july, axis=1)"
   ]
  },
  {
   "cell_type": "code",
   "execution_count": 52,
   "id": "c1a53aea",
   "metadata": {},
   "outputs": [],
   "source": [
    "outsiderAsian = np.array([outsiderAsian_jan, outsiderAsian_feb, outsiderAsian_mar, outsiderAsian_apr, outsiderAsian_may, \n",
    "                         outsiderAsian_june, outsiderAsian_july])"
   ]
  },
  {
   "cell_type": "code",
   "execution_count": 53,
   "id": "0b8eaf74",
   "metadata": {
    "scrolled": true
   },
   "outputs": [
    {
     "data": {
      "text/plain": [
       "array([3.3465667, 3.18851  , 2.5595195, 2.5423303, 2.7739341, 2.7258637,\n",
       "       2.7752306], dtype=float32)"
      ]
     },
     "execution_count": 53,
     "metadata": {},
     "output_type": "execute_result"
    }
   ],
   "source": [
    "# Averages similarity\n",
    "np.mean(outsiderAsian, axis=1)"
   ]
  },
  {
   "cell_type": "code",
   "execution_count": 54,
   "id": "2c996753",
   "metadata": {},
   "outputs": [
    {
     "data": {
      "text/plain": [
       "array([0.53410727, 0.42643496, 0.65068895, 0.81933504, 0.7613613 ,\n",
       "       0.7611066 , 0.6827108 ], dtype=float32)"
      ]
     },
     "execution_count": 54,
     "metadata": {},
     "output_type": "execute_result"
    }
   ],
   "source": [
    "# Deviation between months \n",
    "np.sqrt(np.var(outsiderAsian,axis=1))"
   ]
  },
  {
   "cell_type": "code",
   "execution_count": 55,
   "id": "42a3025e",
   "metadata": {},
   "outputs": [],
   "source": [
    "# Bias with White vector\n",
    "outsiderWhite_jan = np.linalg.norm(outsiderGroup_jan - whiteEmb_jan, axis=1)\n",
    "outsiderWhite_feb = np.linalg.norm(outsiderGroup_feb - whiteEmb_feb, axis=1)\n",
    "outsiderWhite_mar = np.linalg.norm(outsiderGroup_mar - whiteEmb_mar, axis=1)\n",
    "outsiderWhite_apr = np.linalg.norm(outsiderGroup_apr - whiteEmb_apr, axis=1)\n",
    "outsiderWhite_may = np.linalg.norm(outsiderGroup_may - whiteEmb_may, axis=1)\n",
    "outsiderWhite_june = np.linalg.norm(outsiderGroup_june - whiteEmb_june, axis=1)\n",
    "outsiderWhite_july = np.linalg.norm(outsiderGroup_july - whiteEmb_july, axis=1)"
   ]
  },
  {
   "cell_type": "code",
   "execution_count": 56,
   "id": "3ab98304",
   "metadata": {},
   "outputs": [],
   "source": [
    "outsiderWhite = np.array([outsiderWhite_jan, outsiderWhite_feb, outsiderWhite_mar, outsiderWhite_apr, outsiderWhite_may,\n",
    "                         outsiderWhite_june, outsiderWhite_july])"
   ]
  },
  {
   "cell_type": "code",
   "execution_count": 57,
   "id": "b7b241ce",
   "metadata": {
    "scrolled": true
   },
   "outputs": [
    {
     "data": {
      "text/plain": [
       "array([2.9854283, 3.139901 , 2.7674127, 2.795471 , 2.7411025, 2.7798333,\n",
       "       2.825604 ], dtype=float32)"
      ]
     },
     "execution_count": 57,
     "metadata": {},
     "output_type": "execute_result"
    }
   ],
   "source": [
    "# Average similarity\n",
    "np.mean(outsiderWhite, axis=1)"
   ]
  },
  {
   "cell_type": "code",
   "execution_count": 58,
   "id": "8e2cf42d",
   "metadata": {},
   "outputs": [
    {
     "data": {
      "text/plain": [
       "array([0.58345926, 0.5716771 , 0.3595542 , 0.32222846, 0.22790548,\n",
       "       0.29133943, 0.3146596 ], dtype=float32)"
      ]
     },
     "execution_count": 58,
     "metadata": {},
     "output_type": "execute_result"
    }
   ],
   "source": [
    "# Deviation between months \n",
    "np.sqrt(np.var(outsiderWhite,axis=1))"
   ]
  },
  {
   "cell_type": "markdown",
   "id": "0bfe77e4",
   "metadata": {},
   "source": [
    "#### Plots"
   ]
  },
  {
   "cell_type": "code",
   "execution_count": 68,
   "id": "97228c36",
   "metadata": {},
   "outputs": [
    {
     "data": {
      "image/png": "[encoded data removed]",
      "text/plain": [
       "<Figure size 640x480 with 1 Axes>"
      ]
     },
     "metadata": {},
     "output_type": "display_data"
    }
   ],
   "source": [
    "fig, ax = plt.subplots()\n",
    "\n",
    "months = ['Jan', 'Feb', 'Mar', 'Apr', 'May', 'June', 'July']\n",
    "\n",
    "ax.errorbar(x=months, y=np.mean(outsiderAsian, axis=1), yerr=np.sqrt(np.var(outsiderAsian,axis=1)), fmt='-o', color='blue', label='asian')\n",
    "ax.errorbar(x=months, y=np.mean(outsiderWhite, axis=1), yerr=np.sqrt(np.var(outsiderWhite,axis=1)), fmt='-o', color='red', label='white')\n",
    "\n",
    "ax.set_xlabel('Months')\n",
    "ax.set_ylabel('Ethnic Association')\n",
    "ax.set_title('Ethnic Association to Outsider Words')\n",
    "ax.legend()\n",
    "plt.show()"
   ]
  },
  {
   "cell_type": "markdown",
   "id": "8acf4d98",
   "metadata": {},
   "source": [
    "## Embedding Bias\n",
    "\n",
    "We calculate the average embedding bias by computing the following for every category:\n",
    "$$\\mu_{\\text{white}} - \\mu_{\\text{asian}}$$\n",
    "\n",
    "where $\\mu_{\\text{white}}$ represents the average association of words in a category to white last names and $\\mu_{\\text{asian}}$ represents the average association of words in a category to asian last names."
   ]
  },
  {
   "cell_type": "markdown",
   "id": "23e3791b",
   "metadata": {},
   "source": [
    "### COVID "
   ]
  },
  {
   "cell_type": "code",
   "execution_count": 60,
   "id": "0cccb51c",
   "metadata": {},
   "outputs": [],
   "source": [
    "# Average embedding bias\n",
    "covid_bias = np.mean(covidWhite, axis=1) - np.mean(covidAsian, axis=1)"
   ]
  },
  {
   "cell_type": "code",
   "execution_count": 61,
   "id": "6198128e",
   "metadata": {},
   "outputs": [
    {
     "data": {
      "image/png": "[encoded data removed]",
      "text/plain": [
       "<Figure size 640x480 with 1 Axes>"
      ]
     },
     "metadata": {},
     "output_type": "display_data"
    }
   ],
   "source": [
    "plt.plot(months, covid_bias)\n",
    "plt.ylabel('Embedding Bias')\n",
    "plt.title('Embedding Bias for COVID-19')\n",
    "\n",
    "plt.show()"
   ]
  },
  {
   "cell_type": "markdown",
   "id": "77cc8001",
   "metadata": {},
   "source": [
    "### Hate Crime Words "
   ]
  },
  {
   "cell_type": "code",
   "execution_count": 62,
   "id": "6e156f34",
   "metadata": {},
   "outputs": [],
   "source": [
    "# Average embedding bias\n",
    "hate_bias = np.mean(hateWhite, axis=1) - np.mean(hateAsian, axis=1)"
   ]
  },
  {
   "cell_type": "code",
   "execution_count": 63,
   "id": "969bb734",
   "metadata": {},
   "outputs": [
    {
     "data": {
      "image/png": "[encoded data removed]",
      "text/plain": [
       "<Figure size 640x480 with 1 Axes>"
      ]
     },
     "metadata": {},
     "output_type": "display_data"
    }
   ],
   "source": [
    "plt.plot(months, hate_bias)\n",
    "plt.ylabel('Embedding Bias')\n",
    "plt.title('Embedding Bias for Hate Crime Words')\n",
    "\n",
    "plt.show()"
   ]
  },
  {
   "cell_type": "markdown",
   "id": "62184e7e",
   "metadata": {},
   "source": [
    "### Outsider Adjectives"
   ]
  },
  {
   "cell_type": "code",
   "execution_count": 64,
   "id": "82cfb0ba",
   "metadata": {
    "scrolled": true
   },
   "outputs": [],
   "source": [
    "# Average embedding bias\n",
    "outsider_bias = np.mean(outsiderWhite, axis=1) - np.mean(outsiderAsian, axis=1)"
   ]
  },
  {
   "cell_type": "code",
   "execution_count": 65,
   "id": "675f4801",
   "metadata": {},
   "outputs": [
    {
     "data": {
      "image/png": "[encoded data removed]",
      "text/plain": [
       "<Figure size 640x480 with 1 Axes>"
      ]
     },
     "metadata": {},
     "output_type": "display_data"
    }
   ],
   "source": [
    "plt.plot(months, outsider_bias)\n",
    "plt.ylabel('Embedding Bias')\n",
    "plt.title('Embedding Bias for Outsider Words')\n",
    "\n",
    "plt.show()"
   ]
  }
 ],
 "metadata": {
  "kernelspec": {
   "display_name": "csc2611",
   "language": "python",
   "name": "csc2611"
  },
  "language_info": {
   "codemirror_mode": {
    "name": "ipython",
    "version": 3
   },
   "file_extension": ".py",
   "mimetype": "text/x-python",
   "name": "python",
   "nbconvert_exporter": "python",
   "pygments_lexer": "ipython3",
   "version": "3.7.15"
  }
 },
 "nbformat": 4,
 "nbformat_minor": 5
}
