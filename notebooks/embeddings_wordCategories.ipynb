{
 "cells": [
  {
   "cell_type": "code",
   "execution_count": 1,
   "id": "92de3ab1",
   "metadata": {},
   "outputs": [
    {
     "name": "stderr",
     "output_type": "stream",
     "text": [
      "/var/folders/7n/334jwdpn1lv3c9bl8r301v1r0000gn/T/ipykernel_4684/156391648.py:12: DeprecationWarning: Please use `pearsonr` from the `scipy.stats` namespace, the `scipy.stats.stats` namespace is deprecated.\n",
      "  from scipy.stats.stats import pearsonr\n"
     ]
    }
   ],
   "source": [
    "from datetime import datetime as dt\n",
    "import unicodedata\n",
    "import pandas as pd\n",
    "import numpy as np\n",
    "\n",
    "# Plotting tools \n",
    "import seaborn as sns\n",
    "import matplotlib.pyplot as plt \n",
    "%matplotlib inline \n",
    "\n",
    "import scipy.stats as stats\n",
    "from scipy.stats.stats import pearsonr"
   ]
  },
  {
   "cell_type": "code",
   "execution_count": 2,
   "id": "7293c5ef",
   "metadata": {},
   "outputs": [],
   "source": [
    "from nltk.tokenize import sent_tokenize, word_tokenize\n",
    "import gensim\n",
    "from gensim.models import Word2Vec\n",
    "from gensim.models import KeyedVectors\n",
    "from nltk.corpus import stopwords\n",
    "import string"
   ]
  },
  {
   "cell_type": "markdown",
   "id": "334762b2",
   "metadata": {},
   "source": [
    "## Embeddings\n",
    "\n",
    "We have our data split into monthly data. Now, we compare the embeddings from January 2020 and July 2020."
   ]
  },
  {
   "cell_type": "markdown",
   "id": "16a4f21b",
   "metadata": {},
   "source": [
    "### Import Data"
   ]
  },
  {
   "cell_type": "code",
   "execution_count": 3,
   "id": "3a3f1328",
   "metadata": {},
   "outputs": [],
   "source": [
    "jan = pd.read_csv('months/jan.csv', lineterminator='\\n')\n",
    "feb = pd.read_csv('months/feb.csv', lineterminator='\\n')\n",
    "mar = pd.read_csv('months/mar.csv', lineterminator='\\n')\n",
    "apr = pd.read_csv('months/apr.csv', lineterminator='\\n')\n",
    "may = pd.read_csv('months/may.csv', lineterminator='\\n')\n",
    "june = pd.read_csv('months/june.csv', lineterminator='\\n')\n",
    "july = pd.read_csv('months/july.csv', lineterminator='\\n')"
   ]
  },
  {
   "cell_type": "code",
   "execution_count": 4,
   "id": "6949db5e",
   "metadata": {},
   "outputs": [
    {
     "data": {
      "text/plain": [
       "((21102, 5),\n",
       " (72057, 5),\n",
       " (356982, 5),\n",
       " (421719, 5),\n",
       " (312505, 5),\n",
       " (245143, 5),\n",
       " (243827, 5))"
      ]
     },
     "execution_count": 4,
     "metadata": {},
     "output_type": "execute_result"
    }
   ],
   "source": [
    "jan.shape, feb.shape, mar.shape, apr.shape, may.shape, june.shape, july.shape"
   ]
  },
  {
   "cell_type": "markdown",
   "id": "442f73a4",
   "metadata": {},
   "source": [
    "We see that we have varying data sizes with February having the largest dataset. To avoid having skewed results due to differing sizes, we take a random sample of the lowest amount of data from each sample. We can see that January has the least amount of data so that is the size we will extract from each month."
   ]
  },
  {
   "cell_type": "code",
   "execution_count": 5,
   "id": "63e704d9",
   "metadata": {},
   "outputs": [
    {
     "data": {
      "text/plain": [
       "21102"
      ]
     },
     "execution_count": 5,
     "metadata": {},
     "output_type": "execute_result"
    }
   ],
   "source": [
    "n = jan.shape[0]\n",
    "n"
   ]
  },
  {
   "cell_type": "markdown",
   "id": "dab971de",
   "metadata": {},
   "source": [
    "### Resampling Data"
   ]
  },
  {
   "cell_type": "code",
   "execution_count": 6,
   "id": "ecc13ffa",
   "metadata": {},
   "outputs": [],
   "source": [
    "feb = feb.sample(n=n, replace=False, random_state=1)\n",
    "mar = mar.sample(n=n, replace=False, random_state=1)\n",
    "apr = apr.sample(n=n, replace=False, random_state=1)\n",
    "june = june.sample(n=n, replace=False, random_state=1)\n",
    "july = july.sample(n=n, replace=False, random_state=1)"
   ]
  },
  {
   "cell_type": "markdown",
   "id": "a2f52dda",
   "metadata": {},
   "source": [
    "### Text Cleaning"
   ]
  },
  {
   "cell_type": "markdown",
   "id": "fe43b7ca",
   "metadata": {},
   "source": [
    "First, let's remove all stop words and punctuation from the sentences. Then we will get our embeddings."
   ]
  },
  {
   "cell_type": "code",
   "execution_count": 7,
   "id": "32ed2148",
   "metadata": {},
   "outputs": [],
   "source": [
    "stop = set(stopwords.words('english'))\n",
    "all_stops = stop | set(string.punctuation)"
   ]
  },
  {
   "cell_type": "code",
   "execution_count": 8,
   "id": "48c1af64",
   "metadata": {},
   "outputs": [],
   "source": [
    "def clean_tokens(sentence):\n",
    "    temp = []\n",
    "    for word in word_tokenize(sentence):\n",
    "        if word not in all_stops:\n",
    "            temp.append(word.lower())\n",
    "    return temp"
   ]
  },
  {
   "cell_type": "code",
   "execution_count": 9,
   "id": "109a99e1",
   "metadata": {},
   "outputs": [],
   "source": [
    "# Tokens\n",
    "jan_tokens = jan.body.apply(clean_tokens)\n",
    "feb_tokens = feb.body.apply(clean_tokens)\n",
    "mar_tokens = mar.body.apply(clean_tokens)\n",
    "apr_tokens = apr.body.apply(clean_tokens)\n",
    "may_tokens = may.body.apply(clean_tokens)\n",
    "june_tokens = june.body.apply(clean_tokens)\n",
    "july_tokens = july.body.apply(clean_tokens)"
   ]
  },
  {
   "cell_type": "code",
   "execution_count": 10,
   "id": "1c90cb5d",
   "metadata": {},
   "outputs": [
    {
     "data": {
      "text/plain": [
       "((21102,), (21102,), (21102,))"
      ]
     },
     "execution_count": 10,
     "metadata": {},
     "output_type": "execute_result"
    }
   ],
   "source": [
    "jan_tokens.shape, may_tokens.shape, july_tokens.shape"
   ]
  },
  {
   "cell_type": "code",
   "execution_count": 11,
   "id": "567e8401",
   "metadata": {},
   "outputs": [
    {
     "data": {
      "text/plain": [
       "6046666"
      ]
     },
     "execution_count": 11,
     "metadata": {},
     "output_type": "execute_result"
    }
   ],
   "source": [
    "len(np.concatenate(jan_tokens.values, axis=0))"
   ]
  },
  {
   "cell_type": "markdown",
   "id": "57525122",
   "metadata": {},
   "source": [
    "We see that for January we have over 6 million tokens."
   ]
  },
  {
   "cell_type": "markdown",
   "id": "98d4f1b0",
   "metadata": {},
   "source": [
    "### Word2Vec Models\n",
    "\n",
    "We build a word2vec model for January through July tokens to get the embeddings."
   ]
  },
  {
   "cell_type": "code",
   "execution_count": 12,
   "id": "aa6ce673",
   "metadata": {},
   "outputs": [],
   "source": [
    "# Create a word2vec model for each month\n",
    "jan_model = gensim.models.Word2Vec(jan_tokens, min_count = 3, window = 5, sg=1) \n",
    "feb_model = gensim.models.Word2Vec(feb_tokens, min_count = 3, window = 5, sg=1) \n",
    "mar_model = gensim.models.Word2Vec(mar_tokens, min_count = 3, window = 5, sg=1) \n",
    "apr_model = gensim.models.Word2Vec(apr_tokens, min_count = 3, window = 5, sg=1) \n",
    "may_model = gensim.models.Word2Vec(may_tokens, min_count = 3, window = 5, sg=1) \n",
    "june_model = gensim.models.Word2Vec(june_tokens, min_count = 3, window = 5, sg=1) \n",
    "july_model = gensim.models.Word2Vec(july_tokens, min_count = 3, window = 5, sg=1)"
   ]
  },
  {
   "cell_type": "code",
   "execution_count": 13,
   "id": "6f8add67",
   "metadata": {},
   "outputs": [
    {
     "data": {
      "text/plain": [
       "array([ 0.43058535,  0.72101843,  0.5788836 , -0.43341   ,  0.6103891 ,\n",
       "       -0.9263783 ,  0.959213  ,  0.68388057,  0.08593346,  0.13652928,\n",
       "        0.26632592, -0.06429579,  0.08384904,  0.01715355,  0.17565955,\n",
       "       -0.37641475, -0.28535435, -0.498663  ,  0.16144502, -0.35861298,\n",
       "       -0.1666466 ,  0.8536587 ,  0.53627384, -0.50563097, -0.4053061 ,\n",
       "        0.13179167,  0.1083571 ,  0.2362305 ,  0.4174406 ,  0.3731908 ,\n",
       "       -0.02903603,  0.07684115,  0.8267458 ,  0.4151472 ,  0.04798637,\n",
       "        0.02801921,  0.3683494 , -0.7271027 , -0.6145764 , -0.2537021 ,\n",
       "       -0.66522855,  0.04356118,  0.50509983,  0.242412  ,  0.6576062 ,\n",
       "       -0.2375747 , -0.09078398,  0.008487  , -0.6785255 , -0.20745823,\n",
       "       -0.69696313, -0.40420136, -0.5148108 ,  0.07318664,  0.0228732 ,\n",
       "        0.21924476,  0.31020945,  0.0950743 , -0.2014623 , -0.6728841 ,\n",
       "        0.897744  ,  0.596179  ,  0.6253877 ,  0.08707827, -0.38548008,\n",
       "       -0.21983826,  0.01486751,  0.42383674,  0.1890692 ,  0.28190318,\n",
       "       -0.08743955, -0.4982444 ,  0.31621328, -0.5141212 , -0.45710975,\n",
       "        0.5990367 ,  0.98003185, -0.1658911 ,  0.08658363, -0.47612208,\n",
       "       -0.03713111, -0.33041805, -0.3786388 ,  0.2381119 , -0.19737963,\n",
       "       -0.44803143,  0.5455194 ,  0.04246536, -0.3631385 ,  0.03699999,\n",
       "        0.3198543 ,  0.15881236, -0.4017619 ,  0.18382935,  0.37848872,\n",
       "        0.36867437,  0.2381996 , -0.26008257,  0.05262895, -0.11467598],\n",
       "      dtype=float32)"
      ]
     },
     "execution_count": 13,
     "metadata": {},
     "output_type": "execute_result"
    }
   ],
   "source": [
    "# Test out embedding on one word\n",
    "jan_model.wv['apple']"
   ]
  },
  {
   "cell_type": "code",
   "execution_count": 14,
   "id": "a867c93d",
   "metadata": {},
   "outputs": [],
   "source": [
    "# Save the embedding models\n",
    "jan_model.save('models/jan_model.model')\n",
    "feb_model.save('models/feb_model.model')\n",
    "mar_model.save('models/mar_model.model')\n",
    "apr_model.save('models/apr_model.model')\n",
    "may_model.save('models/may_model.model')\n",
    "june_model.save('models/june_model.model')\n",
    "july_model.save('models/july_model.model')"
   ]
  },
  {
   "cell_type": "markdown",
   "id": "fddf886f",
   "metadata": {},
   "source": [
    "temp to avoid having to re-rerun notebook:"
   ]
  },
  {
   "cell_type": "code",
   "execution_count": 3,
   "id": "1b0753d0",
   "metadata": {},
   "outputs": [],
   "source": [
    "# Create a word2vec model for each month\n",
    "jan_model = Word2Vec.load(\"models/jan_model.model\")\n",
    "feb_model = Word2Vec.load(\"models/feb_model.model\")\n",
    "mar_model = Word2Vec.load(\"models/mar_model.model\")\n",
    "apr_model = Word2Vec.load(\"models/apr_model.model\")\n",
    "may_model = Word2Vec.load(\"models/may_model.model\")\n",
    "june_model = Word2Vec.load(\"models/june_model.model\")\n",
    "july_model = Word2Vec.load(\"models/july_model.model\")"
   ]
  },
  {
   "cell_type": "markdown",
   "id": "520f7e9d",
   "metadata": {},
   "source": [
    "We save our embedding models so that we can load them in again in the future."
   ]
  },
  {
   "cell_type": "markdown",
   "id": "1d612fbf",
   "metadata": {},
   "source": [
    "## Group Word Lists \n",
    "\n",
    "We need to get word lists for both Asian and White names so that we can separate the two from the articles. We get this information from _Word Embeddings Quantify 100 Years of Gender and Ethnic Stereotypes_."
   ]
  },
  {
   "cell_type": "code",
   "execution_count": 4,
   "id": "18c9095d",
   "metadata": {},
   "outputs": [
    {
     "data": {
      "text/plain": [
       "20"
      ]
     },
     "execution_count": 4,
     "metadata": {},
     "output_type": "execute_result"
    }
   ],
   "source": [
    "white_last_names = ['harris', 'nelson', 'robinson', 'thompson', 'moore', 'wright', 'anderson', 'clark', 'jackson', 'taylor', 'scott', 'davis',\n",
    "'allen', 'adams', 'lewis', 'williams', 'jones', 'wilson', 'martin', 'johnson']\n",
    "\n",
    "len(white_last_names)"
   ]
  },
  {
   "cell_type": "code",
   "execution_count": 5,
   "id": "aedf4ea4",
   "metadata": {},
   "outputs": [
    {
     "data": {
      "text/plain": [
       "(22,)"
      ]
     },
     "execution_count": 5,
     "metadata": {},
     "output_type": "execute_result"
    }
   ],
   "source": [
    "chinese_last_names = ['chung', 'liu', 'wong', 'huang', 'ng','hu', 'chu', 'chen', 'lin', 'liang', 'wang', 'wu', 'yang', 'tang', 'chang', 'hong', 'li']\n",
    "asian_last_names = ['cho', 'wong', 'tang', 'huang', 'chu', 'chung', 'ng', 'wu', 'liu', 'chen', 'lin', 'yang', 'kim', 'chang', 'shah', 'wang', 'li', 'khan',\n",
    "'singh', 'hong'] + chinese_last_names\n",
    "\n",
    "# Get unique last names to avoid any repeats\n",
    "asian_last_names = np.unique(np.array(asian_last_names))\n",
    "\n",
    "asian_last_names.shape"
   ]
  },
  {
   "cell_type": "markdown",
   "id": "cd7f504c",
   "metadata": {},
   "source": [
    "We have 20 White last names and 22 Asian last names."
   ]
  },
  {
   "cell_type": "markdown",
   "id": "b5e1884b",
   "metadata": {},
   "source": [
    "**White Last Names**"
   ]
  },
  {
   "cell_type": "code",
   "execution_count": 6,
   "id": "2116ab11",
   "metadata": {},
   "outputs": [
    {
     "data": {
      "text/plain": [
       "(20, 100)"
      ]
     },
     "execution_count": 6,
     "metadata": {},
     "output_type": "execute_result"
    }
   ],
   "source": [
    "# Get embedding for every word\n",
    "whiteEmb_jan = np.array([jan_model.wv[name] for name in white_last_names])\n",
    "whiteEmb_feb = np.array([feb_model.wv[name] for name in white_last_names])\n",
    "whiteEmb_mar = np.array([mar_model.wv[name] for name in white_last_names])\n",
    "whiteEmb_apr = np.array([apr_model.wv[name] for name in white_last_names])\n",
    "whiteEmb_may = np.array([may_model.wv[name] for name in white_last_names])\n",
    "whiteEmb_june = np.array([june_model.wv[name] for name in white_last_names])\n",
    "whiteEmb_july = np.array([july_model.wv[name] for name in white_last_names])\n",
    "\n",
    "whiteEmb_jan.shape"
   ]
  },
  {
   "cell_type": "markdown",
   "id": "992dd5e2",
   "metadata": {},
   "source": [
    "Then, we repeat this process with Asian last names.\n",
    "\n",
    "**Asian Last Names**"
   ]
  },
  {
   "cell_type": "code",
   "execution_count": 7,
   "id": "cd4573e5",
   "metadata": {},
   "outputs": [
    {
     "data": {
      "text/plain": [
       "(22, 100)"
      ]
     },
     "execution_count": 7,
     "metadata": {},
     "output_type": "execute_result"
    }
   ],
   "source": [
    "# Get embedding for every word\n",
    "asianEmb_jan = np.array([jan_model.wv[name] for name in asian_last_names])\n",
    "asianEmb_feb = np.array([feb_model.wv[name] for name in asian_last_names])\n",
    "asianEmb_mar = np.array([mar_model.wv[name] for name in asian_last_names])\n",
    "asianEmb_apr = np.array([apr_model.wv[name] for name in asian_last_names])\n",
    "asianEmb_may = np.array([may_model.wv[name] for name in asian_last_names])\n",
    "asianEmb_june = np.array([june_model.wv[name] for name in asian_last_names])\n",
    "asianEmb_july = np.array([july_model.wv[name] for name in asian_last_names])\n",
    "\n",
    "asianEmb_jan.shape"
   ]
  },
  {
   "cell_type": "markdown",
   "id": "cb67d4a0",
   "metadata": {},
   "source": [
    "## Other Word Lists\n",
    "\n",
    "From reading articles and the following papers, the following categories for word lists have been created. We will be quantifying the association between Asians (relative to Whites) for:\n",
    "1. COVID-19 related terms\n",
    "2. Hate Crime related terms\n",
    "3. Outsider Adjectives\n",
    "4. General list of adjectives\n",
    "\n",
    "The first three will be used to determine if they follow global events, i.e. reports from news articles and papers on the effects of COVID-19 in. The latter will then be used with a sentiment analysis to determine if more negative adjectives are being associated with Asians vs. Whites if time persists. \n",
    "\n",
    "We read these word lists in from a self-created CSV file. We get oustider adjectives and the larger adjective list from [1]."
   ]
  },
  {
   "cell_type": "markdown",
   "id": "d0798b94",
   "metadata": {},
   "source": [
    "https://www.pbs.org/newshour/nation/asian-americans-describe-gut-punch-of-racist-attacks-during-coronavirus-pandemic\n",
    "https://www.frontiersin.org/articles/10.3389/fcomm.2020.00039/full"
   ]
  },
  {
   "cell_type": "code",
   "execution_count": 8,
   "id": "5f9bbd78",
   "metadata": {},
   "outputs": [
    {
     "data": {
      "text/html": [
       "<div>\n",
       "<style scoped>\n",
       "    .dataframe tbody tr th:only-of-type {\n",
       "        vertical-align: middle;\n",
       "    }\n",
       "\n",
       "    .dataframe tbody tr th {\n",
       "        vertical-align: top;\n",
       "    }\n",
       "\n",
       "    .dataframe thead th {\n",
       "        text-align: right;\n",
       "    }\n",
       "</style>\n",
       "<table border=\"1\" class=\"dataframe\">\n",
       "  <thead>\n",
       "    <tr style=\"text-align: right;\">\n",
       "      <th></th>\n",
       "      <th>covid</th>\n",
       "      <th>hate_crime</th>\n",
       "      <th>outsider</th>\n",
       "    </tr>\n",
       "  </thead>\n",
       "  <tbody>\n",
       "    <tr>\n",
       "      <th>0</th>\n",
       "      <td>coronavirus</td>\n",
       "      <td>harassment</td>\n",
       "      <td>devious</td>\n",
       "    </tr>\n",
       "    <tr>\n",
       "      <th>1</th>\n",
       "      <td>virus</td>\n",
       "      <td>assault</td>\n",
       "      <td>bizarre</td>\n",
       "    </tr>\n",
       "    <tr>\n",
       "      <th>2</th>\n",
       "      <td>covid</td>\n",
       "      <td>murder</td>\n",
       "      <td>venomous</td>\n",
       "    </tr>\n",
       "    <tr>\n",
       "      <th>3</th>\n",
       "      <td>flu</td>\n",
       "      <td>arson</td>\n",
       "      <td>erratic</td>\n",
       "    </tr>\n",
       "    <tr>\n",
       "      <th>4</th>\n",
       "      <td>bat</td>\n",
       "      <td>vandalism</td>\n",
       "      <td>barbaric</td>\n",
       "    </tr>\n",
       "  </tbody>\n",
       "</table>\n",
       "</div>"
      ],
      "text/plain": [
       "         covid   hate_crime  outsider\n",
       "0  coronavirus  harassment    devious\n",
       "1        virus      assault   bizarre\n",
       "2        covid       murder  venomous\n",
       "3          flu        arson   erratic\n",
       "4          bat    vandalism  barbaric"
      ]
     },
     "execution_count": 8,
     "metadata": {},
     "output_type": "execute_result"
    }
   ],
   "source": [
    "word_lists = pd.read_csv('data/wordlists.csv')\n",
    "word_lists.head()"
   ]
  },
  {
   "cell_type": "code",
   "execution_count": 9,
   "id": "86aadd60",
   "metadata": {},
   "outputs": [],
   "source": [
    "covid = word_lists.covid.values\n",
    "hate_crime = word_lists.hate_crime.values\n",
    "outsider = word_lists.outsider.values"
   ]
  },
  {
   "cell_type": "markdown",
   "id": "5d6b82a1",
   "metadata": {},
   "source": [
    "First, we want to determine words that are present in all of the months as these are the only embeddings that we can compare over time."
   ]
  },
  {
   "cell_type": "markdown",
   "id": "bc2a546f",
   "metadata": {},
   "source": [
    "**Check which words are in all of the months**"
   ]
  },
  {
   "cell_type": "code",
   "execution_count": 10,
   "id": "77037bd5",
   "metadata": {},
   "outputs": [],
   "source": [
    "jan_words = jan_model.wv.key_to_index\n",
    "feb_words = feb_model.wv.key_to_index\n",
    "mar_words = mar_model.wv.key_to_index\n",
    "apr_words = apr_model.wv.key_to_index\n",
    "may_words = may_model.wv.key_to_index\n",
    "june_words = june_model.wv.key_to_index\n",
    "july_words = july_model.wv.key_to_index"
   ]
  },
  {
   "cell_type": "code",
   "execution_count": 11,
   "id": "a3b0f075",
   "metadata": {},
   "outputs": [],
   "source": [
    "def check_words(lst):\n",
    "    final_lst = []\n",
    "    for word in lst:\n",
    "        if (word in jan_words) & (word in feb_words) & (word in mar_words) & (word in apr_words) & (word in may_words) & (word in june_words) & (word in july_words):\n",
    "            final_lst.append(word)\n",
    "    return final_lst"
   ]
  },
  {
   "cell_type": "code",
   "execution_count": 12,
   "id": "b9a29810",
   "metadata": {},
   "outputs": [],
   "source": [
    "covid_lst = check_words(covid)\n",
    "hate_lst = check_words(hate_crime)\n",
    "outsider_lst = check_words(outsider)"
   ]
  },
  {
   "cell_type": "code",
   "execution_count": 13,
   "id": "1bbc5d05",
   "metadata": {},
   "outputs": [
    {
     "name": "stdout",
     "output_type": "stream",
     "text": [
      "['coronavirus', 'virus', 'flu', 'bat', 'sick', 'disease', 'infectious', 'contagious']\n",
      "['assault', 'murder', 'arson', 'vandalism', 'threats', 'hate', 'spitting', 'attack']\n",
      "['bizarre', 'erratic', 'frightening', 'forceful', 'deceptive', 'greedy', 'hateful', 'brutal', 'monstrous', 'calculating', 'cruel', 'aggressive', 'monstrous']\n"
     ]
    }
   ],
   "source": [
    "print(covid_lst)\n",
    "print(hate_lst)\n",
    "print(outsider_lst)"
   ]
  },
  {
   "cell_type": "code",
   "execution_count": 14,
   "id": "05525966",
   "metadata": {},
   "outputs": [
    {
     "data": {
      "text/plain": [
       "(8, 8, 13)"
      ]
     },
     "execution_count": 14,
     "metadata": {},
     "output_type": "execute_result"
    }
   ],
   "source": [
    "len(covid_lst), len(hate_lst), len(outsider_lst)"
   ]
  },
  {
   "cell_type": "markdown",
   "id": "0cc6b248",
   "metadata": {},
   "source": [
    "These are the words that appear in every month of data. Next, we get the embeddings for each of these words."
   ]
  },
  {
   "cell_type": "markdown",
   "id": "9875ee85",
   "metadata": {},
   "source": [
    "## Embeddings"
   ]
  },
  {
   "cell_type": "code",
   "execution_count": 15,
   "id": "f51202a6",
   "metadata": {},
   "outputs": [],
   "source": [
    "def get_embeddings(lst, model):\n",
    "    emb_lst = []\n",
    "    for word in lst:\n",
    "        embs = []\n",
    "        emb = model.wv[word]\n",
    "        emb_lst.append(emb)\n",
    "    return emb_lst"
   ]
  },
  {
   "cell_type": "markdown",
   "id": "eb6fdde7",
   "metadata": {},
   "source": [
    "**COVID**"
   ]
  },
  {
   "cell_type": "code",
   "execution_count": 16,
   "id": "ff798561",
   "metadata": {},
   "outputs": [],
   "source": [
    "# January\n",
    "covidEmb_jan = np.array(get_embeddings(covid_lst, jan_model))\n",
    "hateEmb_jan = np.array(get_embeddings(hate_lst, jan_model))\n",
    "outsiderEmb_jan = np.array(get_embeddings(outsider_lst, jan_model))\n",
    "\n",
    "# February\n",
    "covidEmb_feb = np.array(get_embeddings(covid_lst, feb_model))\n",
    "hateEmb_feb = np.array(get_embeddings(hate_lst, feb_model))\n",
    "outsiderEmb_feb = np.array(get_embeddings(outsider_lst, feb_model))\n",
    "\n",
    "# March\n",
    "covidEmb_mar = np.array(get_embeddings(covid_lst, mar_model))\n",
    "hateEmb_mar = np.array(get_embeddings(hate_lst, mar_model))\n",
    "outsiderEmb_mar = np.array(get_embeddings(outsider_lst, mar_model))\n",
    "\n",
    "# April\n",
    "covidEmb_apr = np.array(get_embeddings(covid_lst, apr_model))\n",
    "hateEmb_apr = np.array(get_embeddings(hate_lst, apr_model))\n",
    "outsiderEmb_apr = np.array(get_embeddings(outsider_lst, apr_model))\n",
    "\n",
    "# May\n",
    "covidEmb_may = np.array(get_embeddings(covid_lst, may_model))\n",
    "hateEmb_may = np.array(get_embeddings(hate_lst, may_model))\n",
    "outsiderEmb_may = np.array(get_embeddings(outsider_lst, may_model))\n",
    "\n",
    "# June\n",
    "covidEmb_june = np.array(get_embeddings(covid_lst, june_model))\n",
    "hateEmb_june = np.array(get_embeddings(hate_lst, june_model))\n",
    "outsiderEmb_june = np.array(get_embeddings(outsider_lst, june_model))\n",
    "\n",
    "# July\n",
    "covidEmb_july = np.array(get_embeddings(covid_lst, july_model))\n",
    "hateEmb_july = np.array(get_embeddings(hate_lst, july_model))\n",
    "outsiderEmb_july = np.array(get_embeddings(outsider_lst, july_model))"
   ]
  },
  {
   "cell_type": "markdown",
   "id": "7514db0b",
   "metadata": {},
   "source": [
    "We then want to get the group representational vectors for each category for each month."
   ]
  },
  {
   "cell_type": "code",
   "execution_count": 17,
   "id": "475533cb",
   "metadata": {},
   "outputs": [],
   "source": [
    "# January\n",
    "covidGroup_jan = np.mean(covidEmb_jan, axis=0)\n",
    "hateGroup_jan = np.mean(hateEmb_jan, axis=0)\n",
    "outsiderGroup_jan = np.mean(outsiderEmb_jan, axis=0)\n",
    "\n",
    "# February\n",
    "covidGroup_feb = np.mean(covidEmb_feb, axis=0)\n",
    "hateGroup_feb = np.mean(hateEmb_feb, axis=0)\n",
    "outsiderGroup_feb = np.mean(outsiderEmb_feb, axis=0)\n",
    "\n",
    "# March\n",
    "covidGroup_mar = np.mean(covidEmb_mar, axis=0)\n",
    "hateGroup_mar = np.mean(hateEmb_mar, axis=0)\n",
    "outsiderGroup_mar = np.mean(outsiderEmb_mar, axis=0)\n",
    "\n",
    "# April\n",
    "covidGroup_apr = np.mean(covidEmb_apr, axis=0)\n",
    "hateGroup_apr = np.mean(hateEmb_apr, axis=0)\n",
    "outsiderGroup_apr = np.mean(outsiderEmb_apr, axis=0)\n",
    "\n",
    "# May\n",
    "covidGroup_may = np.mean(covidEmb_may, axis=0)\n",
    "hateGroup_may = np.mean(hateEmb_may, axis=0)\n",
    "outsiderGroup_may = np.mean(outsiderEmb_may, axis=0)\n",
    "\n",
    "# June\n",
    "covidGroup_june = np.mean(covidEmb_june, axis=0)\n",
    "hateGroup_june = np.mean(hateEmb_june, axis=0)\n",
    "outsiderGroup_june = np.mean(outsiderEmb_june, axis=0)\n",
    "\n",
    "# July\n",
    "covidGroup_july = np.mean(covidEmb_july, axis=0)\n",
    "hateGroup_july = np.mean(hateEmb_july, axis=0)\n",
    "outsiderGroup_july = np.mean(outsiderEmb_july, axis=0)"
   ]
  },
  {
   "cell_type": "markdown",
   "id": "15220d09",
   "metadata": {},
   "source": [
    "## Embedding Similarity\n",
    "Now, for each of these words, we can compute the association with the Asian and White last names and the generalized category vectors."
   ]
  },
  {
   "cell_type": "markdown",
   "id": "c7412735",
   "metadata": {},
   "source": [
    "### COVID"
   ]
  },
  {
   "cell_type": "code",
   "execution_count": 18,
   "id": "86f02547",
   "metadata": {},
   "outputs": [],
   "source": [
    "# Bias with Asian vector\n",
    "covidAsian_jan = np.linalg.norm(covidGroup_jan - asianEmb_jan, axis=1)\n",
    "covidAsian_feb = np.linalg.norm(covidGroup_feb - asianEmb_feb, axis=1)\n",
    "covidAsian_mar = np.linalg.norm(covidGroup_mar - asianEmb_mar, axis=1)\n",
    "covidAsian_apr = np.linalg.norm(covidGroup_apr - asianEmb_apr, axis=1)\n",
    "covidAsian_may = np.linalg.norm(covidGroup_may - asianEmb_may, axis=1)\n",
    "covidAsian_june = np.linalg.norm(covidGroup_june - asianEmb_june, axis=1)\n",
    "covidAsian_july = np.linalg.norm(covidGroup_july - asianEmb_july, axis=1)"
   ]
  },
  {
   "cell_type": "code",
   "execution_count": 19,
   "id": "27f1e2d8",
   "metadata": {},
   "outputs": [],
   "source": [
    "covidAsian = np.array([covidAsian_jan, covidAsian_feb, covidAsian_mar, covidAsian_apr, covidAsian_may, \n",
    "                       covidAsian_june, covidAsian_july])"
   ]
  },
  {
   "cell_type": "code",
   "execution_count": 20,
   "id": "bd203360",
   "metadata": {
    "scrolled": true
   },
   "outputs": [
    {
     "data": {
      "text/plain": [
       "array([3.6984904, 3.680052 , 3.058544 , 3.0748506, 3.2939675, 3.3023984,\n",
       "       3.4255655], dtype=float32)"
      ]
     },
     "execution_count": 20,
     "metadata": {},
     "output_type": "execute_result"
    }
   ],
   "source": [
    "# Average similarity \n",
    "np.mean(covidAsian, axis=1)"
   ]
  },
  {
   "cell_type": "code",
   "execution_count": 21,
   "id": "15e82f11",
   "metadata": {},
   "outputs": [
    {
     "data": {
      "text/plain": [
       "array([0.46853206, 0.36826992, 0.5542214 , 0.67906713, 0.6259921 ,\n",
       "       0.6333466 , 0.53371936], dtype=float32)"
      ]
     },
     "execution_count": 21,
     "metadata": {},
     "output_type": "execute_result"
    }
   ],
   "source": [
    "# Deviation between months \n",
    "np.sqrt(np.var(covidAsian,axis=1))"
   ]
  },
  {
   "cell_type": "code",
   "execution_count": 22,
   "id": "e6269878",
   "metadata": {},
   "outputs": [],
   "source": [
    "# Bias with White vector\n",
    "covidWhite_jan = np.linalg.norm(covidGroup_jan - whiteEmb_jan, axis=1)\n",
    "covidWhite_feb = np.linalg.norm(covidGroup_feb - whiteEmb_feb, axis=1)\n",
    "covidWhite_mar = np.linalg.norm(covidGroup_mar - whiteEmb_mar, axis=1)\n",
    "covidWhite_apr = np.linalg.norm(covidGroup_apr - whiteEmb_apr, axis=1)\n",
    "covidWhite_may = np.linalg.norm(covidGroup_may - whiteEmb_may, axis=1)\n",
    "covidWhite_june = np.linalg.norm(covidGroup_june - whiteEmb_june, axis=1)\n",
    "covidWhite_july = np.linalg.norm(covidGroup_july - whiteEmb_july, axis=1)"
   ]
  },
  {
   "cell_type": "code",
   "execution_count": 23,
   "id": "d893a6a6",
   "metadata": {},
   "outputs": [],
   "source": [
    "covidWhite = np.array([covidWhite_jan, covidWhite_feb, covidWhite_mar, covidWhite_apr, covidWhite_may,\n",
    "                       covidWhite_june, covidWhite_july])"
   ]
  },
  {
   "cell_type": "code",
   "execution_count": 24,
   "id": "e8ec3dcd",
   "metadata": {
    "scrolled": true
   },
   "outputs": [
    {
     "data": {
      "text/plain": [
       "array([3.5899606, 3.728726 , 3.291532 , 3.3386948, 3.244032 , 3.4112115,\n",
       "       3.4771132], dtype=float32)"
      ]
     },
     "execution_count": 24,
     "metadata": {},
     "output_type": "execute_result"
    }
   ],
   "source": [
    "# Average similarity \n",
    "np.mean(covidWhite, axis=1)"
   ]
  },
  {
   "cell_type": "code",
   "execution_count": 25,
   "id": "5fb5ce56",
   "metadata": {},
   "outputs": [
    {
     "data": {
      "text/plain": [
       "array([0.48898926, 0.48456204, 0.33341813, 0.3044882 , 0.28429106,\n",
       "       0.27642456, 0.31956214], dtype=float32)"
      ]
     },
     "execution_count": 25,
     "metadata": {},
     "output_type": "execute_result"
    }
   ],
   "source": [
    "# Deviation between months \n",
    "np.sqrt(np.var(covidWhite,axis=1))"
   ]
  },
  {
   "cell_type": "markdown",
   "id": "b23c00cc",
   "metadata": {},
   "source": [
    "#### Plot"
   ]
  },
  {
   "cell_type": "code",
   "execution_count": 26,
   "id": "96fb76f7",
   "metadata": {
    "scrolled": true
   },
   "outputs": [
    {
     "data": {
      "text/plain": [
       "array([3.5899606, 3.728726 , 3.291532 , 3.3386948, 3.244032 , 3.4112115,\n",
       "       3.4771132], dtype=float32)"
      ]
     },
     "execution_count": 26,
     "metadata": {},
     "output_type": "execute_result"
    }
   ],
   "source": [
    "np.mean(covidWhite, axis=1)"
   ]
  },
  {
   "cell_type": "code",
   "execution_count": 27,
   "id": "4a5ed548",
   "metadata": {
    "scrolled": true
   },
   "outputs": [
    {
     "data": {
      "image/png": "[encoded data removed]",
      "text/plain": [
       "<Figure size 640x480 with 1 Axes>"
      ]
     },
     "metadata": {},
     "output_type": "display_data"
    }
   ],
   "source": [
    "fig, ax = plt.subplots()\n",
    "\n",
    "months = ['Jan', 'Feb', 'Mar', 'Apr', 'May', 'June', 'July']\n",
    "\n",
    "ax.errorbar(x=months, y=np.mean(covidAsian, axis=1), yerr=np.sqrt(np.var(covidAsian,axis=1)), fmt='-o', color='blue', label='asian')\n",
    "ax.errorbar(x=months, y=np.mean(covidWhite, axis=1), yerr=np.sqrt(np.var(covidWhite,axis=1)), fmt='-o', color='red', label='white')\n",
    "\n",
    "ax.set_xlabel('Months')\n",
    "ax.set_ylabel('Distance')\n",
    "ax.set_title('Ethnic Association to COVID-19')\n",
    "ax.set_ylim(2.5, 4.25)\n",
    "ax.legend()\n",
    "plt.show()"
   ]
  },
  {
   "cell_type": "markdown",
   "id": "dcaf1c22",
   "metadata": {},
   "source": [
    "We can see that in January and February we have a relatively similar association with both White and Asian ethnicities. After that month, we have more correlation with Asian ethnicities in March, April and May and then they are close together again."
   ]
  },
  {
   "cell_type": "markdown",
   "id": "af4d5431",
   "metadata": {},
   "source": [
    "### Hate Crime"
   ]
  },
  {
   "cell_type": "code",
   "execution_count": 28,
   "id": "31850af3",
   "metadata": {},
   "outputs": [],
   "source": [
    "# Bias with Asian vector\n",
    "hateAsian_jan = np.linalg.norm(hateGroup_jan - asianEmb_jan, axis=1)\n",
    "hateAsian_feb = np.linalg.norm(hateGroup_feb - asianEmb_feb, axis=1)\n",
    "hateAsian_mar = np.linalg.norm(hateGroup_mar - asianEmb_mar, axis=1)\n",
    "hateAsian_apr = np.linalg.norm(hateGroup_apr - asianEmb_apr, axis=1)\n",
    "hateAsian_may = np.linalg.norm(hateGroup_may - asianEmb_may, axis=1)\n",
    "hateAsian_june = np.linalg.norm(hateGroup_june - asianEmb_june, axis=1)\n",
    "hateAsian_july = np.linalg.norm(hateGroup_july - asianEmb_july, axis=1)"
   ]
  },
  {
   "cell_type": "code",
   "execution_count": 29,
   "id": "6cd6dfa4",
   "metadata": {},
   "outputs": [],
   "source": [
    "hateAsian = np.array([hateAsian_jan, hateAsian_feb, hateAsian_mar, hateAsian_apr, hateAsian_may,\n",
    "                     hateAsian_june, hateAsian_july])"
   ]
  },
  {
   "cell_type": "code",
   "execution_count": 30,
   "id": "dddc3f7a",
   "metadata": {
    "scrolled": false
   },
   "outputs": [
    {
     "data": {
      "text/plain": [
       "array([3.4793327, 3.41708  , 2.7586613, 2.98313  , 3.136766 , 3.3082452,\n",
       "       3.1560411], dtype=float32)"
      ]
     },
     "execution_count": 30,
     "metadata": {},
     "output_type": "execute_result"
    }
   ],
   "source": [
    "# Average similarity \n",
    "np.mean(hateAsian, axis=1)"
   ]
  },
  {
   "cell_type": "code",
   "execution_count": 31,
   "id": "1e0d4604",
   "metadata": {},
   "outputs": [
    {
     "data": {
      "text/plain": [
       "array([0.57973963, 0.4059468 , 0.5991898 , 0.67382544, 0.64104056,\n",
       "       0.6246212 , 0.5793626 ], dtype=float32)"
      ]
     },
     "execution_count": 31,
     "metadata": {},
     "output_type": "execute_result"
    }
   ],
   "source": [
    "# Deviation between months \n",
    "np.sqrt(np.var(hateAsian,axis=1))"
   ]
  },
  {
   "cell_type": "code",
   "execution_count": 32,
   "id": "1fe27d02",
   "metadata": {},
   "outputs": [],
   "source": [
    "# Bias with White vector\n",
    "hateWhite_jan = np.linalg.norm(hateGroup_jan - whiteEmb_jan, axis=1)\n",
    "hateWhite_feb = np.linalg.norm(hateGroup_feb - whiteEmb_feb, axis=1)\n",
    "hateWhite_mar = np.linalg.norm(hateGroup_mar - whiteEmb_mar, axis=1)\n",
    "hateWhite_apr = np.linalg.norm(hateGroup_apr - whiteEmb_apr, axis=1)\n",
    "hateWhite_may = np.linalg.norm(hateGroup_may - whiteEmb_may, axis=1)\n",
    "hateWhite_june = np.linalg.norm(hateGroup_june - whiteEmb_june, axis=1)\n",
    "hateWhite_july = np.linalg.norm(hateGroup_july - whiteEmb_july, axis=1)"
   ]
  },
  {
   "cell_type": "code",
   "execution_count": 33,
   "id": "404d0459",
   "metadata": {},
   "outputs": [],
   "source": [
    "hateWhite = np.array([hateWhite_jan, hateWhite_feb, hateWhite_mar, hateWhite_apr, hateWhite_may,\n",
    "                     hateWhite_june, hateWhite_july])"
   ]
  },
  {
   "cell_type": "code",
   "execution_count": 34,
   "id": "7fcd86be",
   "metadata": {},
   "outputs": [
    {
     "data": {
      "text/plain": [
       "array([3.1847835, 3.3664594, 3.0998676, 3.2514756, 3.0725052, 3.274994 ,\n",
       "       3.2137146], dtype=float32)"
      ]
     },
     "execution_count": 34,
     "metadata": {},
     "output_type": "execute_result"
    }
   ],
   "source": [
    "# Average similarity \n",
    "np.mean(hateWhite, axis=1)"
   ]
  },
  {
   "cell_type": "code",
   "execution_count": 35,
   "id": "e5bf2540",
   "metadata": {},
   "outputs": [
    {
     "data": {
      "text/plain": [
       "array([0.60878617, 0.5761337 , 0.3733754 , 0.31762818, 0.31600675,\n",
       "       0.27008855, 0.32199043], dtype=float32)"
      ]
     },
     "execution_count": 35,
     "metadata": {},
     "output_type": "execute_result"
    }
   ],
   "source": [
    "# Deviation between months \n",
    "np.sqrt(np.var(hateWhite,axis=1))"
   ]
  },
  {
   "cell_type": "markdown",
   "id": "b29e7e25",
   "metadata": {},
   "source": [
    "#### Plot"
   ]
  },
  {
   "cell_type": "code",
   "execution_count": 36,
   "id": "f0ed1a19",
   "metadata": {},
   "outputs": [
    {
     "data": {
      "image/png": "[encoded data removed]",
      "text/plain": [
       "<Figure size 640x480 with 1 Axes>"
      ]
     },
     "metadata": {},
     "output_type": "display_data"
    }
   ],
   "source": [
    "fig, ax = plt.subplots()\n",
    "\n",
    "months = ['Jan', 'Feb', 'Mar', 'Apr', 'May', 'June', 'July']\n",
    "\n",
    "ax.errorbar(x=months, y=np.mean(hateAsian, axis=1), yerr=np.sqrt(np.var(hateAsian,axis=1)), fmt='-o', color='blue', label='asian')\n",
    "ax.errorbar(x=months, y=np.mean(hateWhite, axis=1), yerr=np.sqrt(np.var(hateWhite,axis=1)), fmt='-o', color='red', label='white')\n",
    "\n",
    "ax.set_xlabel('Months')\n",
    "ax.set_ylabel('Distance')\n",
    "ax.set_title('Ethnic Association to Hate Crimes')\n",
    "ax.set_ylim(2,4)\n",
    "ax.legend()\n",
    "plt.show()"
   ]
  },
  {
   "cell_type": "markdown",
   "id": "50ee1f04",
   "metadata": {},
   "source": [
    "We can see that in January and February we have that the association with Asian ethnicities is less than White last names. We have a bias towards Asian ethnicities uring March and April and then the associations are close together again."
   ]
  },
  {
   "cell_type": "markdown",
   "id": "fd619ca9",
   "metadata": {},
   "source": [
    "### Outsider Adjectives"
   ]
  },
  {
   "cell_type": "code",
   "execution_count": 37,
   "id": "a5546342",
   "metadata": {},
   "outputs": [],
   "source": [
    "# Bias with Asian vector\n",
    "outsiderAsian_jan = np.linalg.norm(outsiderGroup_jan - asianEmb_jan, axis=1)\n",
    "outsiderAsian_feb = np.linalg.norm(outsiderGroup_feb - asianEmb_feb, axis=1)\n",
    "outsiderAsian_mar = np.linalg.norm(outsiderGroup_mar - asianEmb_mar, axis=1)\n",
    "outsiderAsian_apr = np.linalg.norm(outsiderGroup_apr - asianEmb_apr, axis=1)\n",
    "outsiderAsian_may = np.linalg.norm(outsiderGroup_may - asianEmb_may, axis=1)\n",
    "outsiderAsian_june = np.linalg.norm(outsiderGroup_june - asianEmb_june, axis=1)\n",
    "outsiderAsian_july = np.linalg.norm(outsiderGroup_july - asianEmb_july, axis=1)"
   ]
  },
  {
   "cell_type": "code",
   "execution_count": 38,
   "id": "c1a53aea",
   "metadata": {},
   "outputs": [],
   "source": [
    "outsiderAsian = np.array([outsiderAsian_jan, outsiderAsian_feb, outsiderAsian_mar, outsiderAsian_apr, outsiderAsian_may, \n",
    "                         outsiderAsian_june, outsiderAsian_july])"
   ]
  },
  {
   "cell_type": "code",
   "execution_count": 39,
   "id": "0b8eaf74",
   "metadata": {
    "scrolled": true
   },
   "outputs": [
    {
     "data": {
      "text/plain": [
       "array([3.3639512, 3.2103155, 2.5718584, 2.5648553, 2.7840624, 2.7198992,\n",
       "       2.767997 ], dtype=float32)"
      ]
     },
     "execution_count": 39,
     "metadata": {},
     "output_type": "execute_result"
    }
   ],
   "source": [
    "# Averages similarity\n",
    "np.mean(outsiderAsian, axis=1)"
   ]
  },
  {
   "cell_type": "code",
   "execution_count": 40,
   "id": "2c996753",
   "metadata": {},
   "outputs": [
    {
     "data": {
      "text/plain": [
       "array([0.55909884, 0.42743194, 0.6546907 , 0.81446815, 0.73987365,\n",
       "       0.75221294, 0.6703318 ], dtype=float32)"
      ]
     },
     "execution_count": 40,
     "metadata": {},
     "output_type": "execute_result"
    }
   ],
   "source": [
    "# Deviation between months \n",
    "np.sqrt(np.var(outsiderAsian,axis=1))"
   ]
  },
  {
   "cell_type": "code",
   "execution_count": 41,
   "id": "42a3025e",
   "metadata": {},
   "outputs": [],
   "source": [
    "# Bias with White vector\n",
    "outsiderWhite_jan = np.linalg.norm(outsiderGroup_jan - whiteEmb_jan, axis=1)\n",
    "outsiderWhite_feb = np.linalg.norm(outsiderGroup_feb - whiteEmb_feb, axis=1)\n",
    "outsiderWhite_mar = np.linalg.norm(outsiderGroup_mar - whiteEmb_mar, axis=1)\n",
    "outsiderWhite_apr = np.linalg.norm(outsiderGroup_apr - whiteEmb_apr, axis=1)\n",
    "outsiderWhite_may = np.linalg.norm(outsiderGroup_may - whiteEmb_may, axis=1)\n",
    "outsiderWhite_june = np.linalg.norm(outsiderGroup_june - whiteEmb_june, axis=1)\n",
    "outsiderWhite_july = np.linalg.norm(outsiderGroup_july - whiteEmb_july, axis=1)"
   ]
  },
  {
   "cell_type": "code",
   "execution_count": 42,
   "id": "3ab98304",
   "metadata": {},
   "outputs": [],
   "source": [
    "outsiderWhite = np.array([outsiderWhite_jan, outsiderWhite_feb, outsiderWhite_mar, outsiderWhite_apr, outsiderWhite_may,\n",
    "                         outsiderWhite_june, outsiderWhite_july])"
   ]
  },
  {
   "cell_type": "code",
   "execution_count": 43,
   "id": "b7b241ce",
   "metadata": {
    "scrolled": true
   },
   "outputs": [
    {
     "data": {
      "text/plain": [
       "array([2.969418 , 3.148325 , 2.7762141, 2.7766104, 2.697166 , 2.7834876,\n",
       "       2.8369112], dtype=float32)"
      ]
     },
     "execution_count": 43,
     "metadata": {},
     "output_type": "execute_result"
    }
   ],
   "source": [
    "# Average similarity\n",
    "np.mean(outsiderWhite, axis=1)"
   ]
  },
  {
   "cell_type": "code",
   "execution_count": 44,
   "id": "8e2cf42d",
   "metadata": {},
   "outputs": [
    {
     "data": {
      "text/plain": [
       "array([0.6053276 , 0.57946587, 0.36563998, 0.31090057, 0.2618346 ,\n",
       "       0.27354646, 0.34399945], dtype=float32)"
      ]
     },
     "execution_count": 44,
     "metadata": {},
     "output_type": "execute_result"
    }
   ],
   "source": [
    "# Deviation between months \n",
    "np.sqrt(np.var(outsiderWhite,axis=1))"
   ]
  },
  {
   "cell_type": "markdown",
   "id": "0bfe77e4",
   "metadata": {},
   "source": [
    "#### Plots"
   ]
  },
  {
   "cell_type": "code",
   "execution_count": 45,
   "id": "97228c36",
   "metadata": {},
   "outputs": [
    {
     "data": {
      "image/png": "[encoded data removed]",
      "text/plain": [
       "<Figure size 640x480 with 1 Axes>"
      ]
     },
     "metadata": {},
     "output_type": "display_data"
    }
   ],
   "source": [
    "fig, ax = plt.subplots()\n",
    "\n",
    "months = ['Jan', 'Feb', 'Mar', 'Apr', 'May', 'June', 'July']\n",
    "\n",
    "ax.errorbar(x=months, y=np.mean(outsiderAsian, axis=1), yerr=np.sqrt(np.var(outsiderAsian,axis=1)), fmt='-o', color='blue', label='asian')\n",
    "ax.errorbar(x=months, y=np.mean(outsiderWhite, axis=1), yerr=np.sqrt(np.var(outsiderWhite,axis=1)), fmt='-o', color='red', label='white')\n",
    "\n",
    "ax.set_xlabel('Months')\n",
    "ax.set_ylabel('Distance')\n",
    "ax.set_title('Ethnic Association to Outsider Words')\n",
    "ax.set_ylim(1.6, 3.8)\n",
    "ax.legend()\n",
    "plt.show()"
   ]
  },
  {
   "cell_type": "markdown",
   "id": "468cc19c",
   "metadata": {},
   "source": [
    "We can see that in January and February we have that the association with Asian ethnicities is less than White last names. We have a bias towards Asian ethnicities uring March and April and then the associations are close together again."
   ]
  },
  {
   "cell_type": "markdown",
   "id": "ca917f32",
   "metadata": {},
   "source": [
    "## Significance Test \n",
    "\n",
    "### Significance between Ethnicities\n",
    "\n",
    "We run a two-sample significance test using the t-statistic since we have a smaller sample size to determine if there is a significanct difference between asian and white association over each month."
   ]
  },
  {
   "cell_type": "markdown",
   "id": "92a845e9",
   "metadata": {},
   "source": [
    "#### COVID-19"
   ]
  },
  {
   "cell_type": "code",
   "execution_count": 46,
   "id": "a8fa888d",
   "metadata": {},
   "outputs": [
    {
     "data": {
      "text/plain": [
       "((7, 22), (7, 20))"
      ]
     },
     "execution_count": 46,
     "metadata": {},
     "output_type": "execute_result"
    }
   ],
   "source": [
    "covidAsian.shape, covidWhite.shape"
   ]
  },
  {
   "cell_type": "markdown",
   "id": "f5cd6a8c",
   "metadata": {},
   "source": [
    "In this case, we have data for 7 months with unequal sample sizes. This will be the case for all of our data since we will have 22 and 20 last names for each category."
   ]
  },
  {
   "cell_type": "code",
   "execution_count": 47,
   "id": "ca08c082",
   "metadata": {},
   "outputs": [
    {
     "name": "stdout",
     "output_type": "stream",
     "text": [
      "January\n",
      "Ttest_indResult(statistic=0.7150307171151108, pvalue=0.4788270198142044)\n",
      "February\n",
      "Ttest_indResult(statistic=-0.35483838634371795, pvalue=0.7248207460788297)\n",
      "March\n",
      "Ttest_indResult(statistic=-1.628147038907594, pvalue=0.11246995345861384)\n",
      "April\n",
      "Ttest_indResult(statistic=-1.6105345768761756, pvalue=0.11784329605958173)\n",
      "May\n",
      "Ttest_indResult(statistic=0.3298824161564553, pvalue=0.7437854360697436)\n",
      "June\n",
      "Ttest_indResult(statistic=-0.7155821029938259, pvalue=0.4799066196030871)\n",
      "July\n",
      "Ttest_indResult(statistic=-0.3745653664990333, pvalue=0.710251108750076)\n"
     ]
    }
   ],
   "source": [
    "months = ['January', 'February', 'March', 'April', 'May', 'June', 'July']\n",
    "for i in range(7):\n",
    "    print(months[i])\n",
    "    print(stats.ttest_ind(a=covidAsian[i], b=covidWhite[i], equal_var=False))"
   ]
  },
  {
   "cell_type": "markdown",
   "id": "47dbdf21",
   "metadata": {},
   "source": [
    "Our null hypothesis is that the two means are equal, i.e. the average association with the categorical words is the same for both white and asian last names. From our results, we see that we have high p-values for each month so we do not have significant evidence to reject the null hypothesis."
   ]
  },
  {
   "cell_type": "markdown",
   "id": "3831c164",
   "metadata": {},
   "source": [
    "#### Hate Crime"
   ]
  },
  {
   "cell_type": "code",
   "execution_count": 48,
   "id": "07f25788",
   "metadata": {},
   "outputs": [
    {
     "data": {
      "text/plain": [
       "((7, 22), (7, 20))"
      ]
     },
     "execution_count": 48,
     "metadata": {},
     "output_type": "execute_result"
    }
   ],
   "source": [
    "hateAsian.shape, hateWhite.shape"
   ]
  },
  {
   "cell_type": "code",
   "execution_count": 49,
   "id": "b9655029",
   "metadata": {},
   "outputs": [
    {
     "name": "stdout",
     "output_type": "stream",
     "text": [
      "January\n",
      "Ttest_indResult(statistic=1.5630624995399494, pvalue=0.12608950871076058)\n",
      "February\n",
      "Ttest_indResult(statistic=0.3181400744393041, pvalue=0.7523393868159055)\n",
      "March\n",
      "Ttest_indResult(statistic=-2.1828329790204375, pvalue=0.03572014035498207)\n",
      "April\n",
      "Ttest_indResult(statistic=-1.6351941535083028, pvalue=0.1122736493973899)\n",
      "May\n",
      "Ttest_indResult(statistic=0.40785833610504163, pvalue=0.6861541856420816)\n",
      "June\n",
      "Ttest_indResult(statistic=0.22208023409947641, pvalue=0.8257974819822356)\n",
      "July\n",
      "Ttest_indResult(statistic=-0.39387431816630053, pvalue=0.6961717578713864)\n"
     ]
    }
   ],
   "source": [
    "months = ['January', 'February', 'March', 'April', 'May', 'June', 'July']\n",
    "for i in range(7):\n",
    "    print(months[i])\n",
    "    print(stats.ttest_ind(a=hateAsian[i], b=hateWhite[i], equal_var=False))"
   ]
  },
  {
   "cell_type": "markdown",
   "id": "ec04fed3",
   "metadata": {},
   "source": [
    "Our null hypothesis is that the two means are equal, i.e. the average association with the categorical words is the same for both white and asian last names. From our results, we do have a significant difference in March between the two groups. However, for the remaining groups, we see that we have high p-values for each month so we do not have significant evidence to reject the null hypothesis."
   ]
  },
  {
   "cell_type": "markdown",
   "id": "2ebf3609",
   "metadata": {},
   "source": [
    "#### Outsider Adjectives"
   ]
  },
  {
   "cell_type": "code",
   "execution_count": 50,
   "id": "bd2c59f6",
   "metadata": {},
   "outputs": [
    {
     "data": {
      "text/plain": [
       "((7, 22), (7, 20))"
      ]
     },
     "execution_count": 50,
     "metadata": {},
     "output_type": "execute_result"
    }
   ],
   "source": [
    "outsiderAsian.shape, outsiderWhite.shape"
   ]
  },
  {
   "cell_type": "code",
   "execution_count": 51,
   "id": "4df4be7e",
   "metadata": {},
   "outputs": [
    {
     "name": "stdout",
     "output_type": "stream",
     "text": [
      "January\n",
      "Ttest_indResult(statistic=2.1343068772290854, pvalue=0.03920007342671744)\n",
      "February\n",
      "Ttest_indResult(statistic=0.3817234703169043, pvalue=0.7049939995733263)\n",
      "March\n",
      "Ttest_indResult(statistic=-1.2335022821977535, pvalue=0.22595664009835997)\n",
      "April\n",
      "Ttest_indResult(statistic=-1.1057166622289383, pvalue=0.2784221943347804)\n",
      "May\n",
      "Ttest_indResult(statistic=0.5044316706246956, pvalue=0.6181032483448325)\n",
      "June\n",
      "Ttest_indResult(statistic=-0.3618452478955543, pvalue=0.7202893284812774)\n",
      "July\n",
      "Ttest_indResult(statistic=-0.4146226532407909, pvalue=0.6811840599302228)\n"
     ]
    }
   ],
   "source": [
    "months = ['January', 'February', 'March', 'April', 'May', 'June', 'July']\n",
    "for i in range(7):\n",
    "    print(months[i])\n",
    "    print(stats.ttest_ind(a=outsiderAsian[i], b=outsiderWhite[i], equal_var=False))"
   ]
  },
  {
   "cell_type": "markdown",
   "id": "e6a8321c",
   "metadata": {},
   "source": [
    "Our null hypothesis is that the two means are equal, i.e. the average association with the categorical words is the same for both white and asian last names. From our results, we see that in January, there is significant difference between the means of the two groups. However, for teh remaining months, we see that we have high p-values for each month so we do not have significant evidence to reject the null hypothesis."
   ]
  },
  {
   "cell_type": "markdown",
   "id": "9f45419e",
   "metadata": {},
   "source": [
    "_____"
   ]
  },
  {
   "cell_type": "markdown",
   "id": "8acf4d98",
   "metadata": {},
   "source": [
    "## Embedding Bias\n",
    "\n",
    "We calculate the average embedding bias by computing the following for every category:\n",
    "$$\\mu_{\\text{white}} - \\mu_{\\text{asian}}$$\n",
    "\n",
    "where $\\mu_{\\text{white}}$ represents the average association of words in a category to white last names and $\\mu_{\\text{asian}}$ represents the average association of words in a category to asian last names."
   ]
  },
  {
   "cell_type": "markdown",
   "id": "23e3791b",
   "metadata": {},
   "source": [
    "### COVID "
   ]
  },
  {
   "cell_type": "code",
   "execution_count": 82,
   "id": "0cccb51c",
   "metadata": {},
   "outputs": [],
   "source": [
    "# Average embedding bias\n",
    "covid_bias = np.mean(covidAsian, axis=1) - np.mean(covidWhite, axis=1)"
   ]
  },
  {
   "cell_type": "code",
   "execution_count": 83,
   "id": "6198128e",
   "metadata": {},
   "outputs": [
    {
     "data": {
      "image/png": "[encoded data removed]",
      "text/plain": [
       "<Figure size 640x480 with 1 Axes>"
      ]
     },
     "metadata": {},
     "output_type": "display_data"
    }
   ],
   "source": [
    "plt.plot(months, covid_bias)\n",
    "plt.ylabel('Embedding Bias')\n",
    "plt.title('Embedding Bias for COVID-19')\n",
    "\n",
    "plt.show()"
   ]
  },
  {
   "cell_type": "markdown",
   "id": "77cc8001",
   "metadata": {},
   "source": [
    "### Hate Crime Words "
   ]
  },
  {
   "cell_type": "code",
   "execution_count": 84,
   "id": "6e156f34",
   "metadata": {},
   "outputs": [],
   "source": [
    "# Average embedding bias\n",
    "hate_bias = np.mean(hateAsian, axis=1) - np.mean(hateWhite, axis=1)"
   ]
  },
  {
   "cell_type": "code",
   "execution_count": 85,
   "id": "969bb734",
   "metadata": {},
   "outputs": [
    {
     "data": {
      "image/png": "[encoded data removed]",
      "text/plain": [
       "<Figure size 640x480 with 1 Axes>"
      ]
     },
     "metadata": {},
     "output_type": "display_data"
    }
   ],
   "source": [
    "plt.plot(months, hate_bias)\n",
    "plt.ylabel('Embedding Bias')\n",
    "plt.title('Embedding Bias for Hate Crime Words')\n",
    "\n",
    "plt.show()"
   ]
  },
  {
   "cell_type": "markdown",
   "id": "62184e7e",
   "metadata": {},
   "source": [
    "### Outsider Adjectives"
   ]
  },
  {
   "cell_type": "code",
   "execution_count": 86,
   "id": "82cfb0ba",
   "metadata": {
    "scrolled": true
   },
   "outputs": [],
   "source": [
    "# Average embedding bias\n",
    "outsider_bias = np.mean(outsiderAsian, axis=1) - np.mean(outsiderWhite, axis=1)"
   ]
  },
  {
   "cell_type": "code",
   "execution_count": 87,
   "id": "675f4801",
   "metadata": {
    "scrolled": true
   },
   "outputs": [
    {
     "data": {
      "image/png": "[encoded data removed]",
      "text/plain": [
       "<Figure size 640x480 with 1 Axes>"
      ]
     },
     "metadata": {},
     "output_type": "display_data"
    }
   ],
   "source": [
    "plt.plot(months, outsider_bias)\n",
    "plt.ylabel('Embedding Bias')\n",
    "plt.title('Embedding Bias for Outsider Words')\n",
    "\n",
    "plt.show()"
   ]
  },
  {
   "cell_type": "markdown",
   "id": "3526c0b4",
   "metadata": {},
   "source": [
    "## Most Biased Last Names\n",
    "Here we want to understand how biased each individual last name is in each of the categories. Let's take the top 5 most biased last names for each ethnicity and plot the associated average biases. This is to better understand if there were certain last names that were less biased and tuning out the bias."
   ]
  },
  {
   "cell_type": "markdown",
   "id": "fd133420",
   "metadata": {},
   "source": [
    "### COVID"
   ]
  },
  {
   "cell_type": "code",
   "execution_count": 88,
   "id": "8984fea9",
   "metadata": {},
   "outputs": [],
   "source": [
    "def top_k_words(arr, k, word_lst):\n",
    "    indx = sorted(range(len(arr)), key = lambda sub: arr[sub])[:k]\n",
    "    highest_bias = np.array(word_lst)[indx]\n",
    "    \n",
    "    return highest_bias, arr[indx] "
   ]
  },
  {
   "cell_type": "markdown",
   "id": "bb706421",
   "metadata": {},
   "source": [
    "**Most Biased Last Names**"
   ]
  },
  {
   "cell_type": "code",
   "execution_count": 89,
   "id": "1e8e24b3",
   "metadata": {},
   "outputs": [
    {
     "name": "stdout",
     "output_type": "stream",
     "text": [
      "['chu' 'tang' 'huang' 'chang' 'lin']\n",
      "['chang' 'hu' 'chu' 'huang' 'wang']\n",
      "['huang' 'liang' 'tang' 'chu' 'hu']\n",
      "['cho' 'liang' 'wu' 'chu' 'hu']\n",
      "['chu' 'cho' 'chang' 'liang' 'lin']\n",
      "['hu' 'cho' 'liang' 'huang' 'wu']\n",
      "['liang' 'cho' 'chung' 'hu' 'chang']\n"
     ]
    }
   ],
   "source": [
    "asian_covid_lst = []\n",
    "for i in range(7):\n",
    "    names, bias = top_k_words(covidAsian[i], 5, asian_last_names)\n",
    "    print(names)\n",
    "    asian_covid_lst.append(np.mean(bias))"
   ]
  },
  {
   "cell_type": "code",
   "execution_count": 90,
   "id": "d05f1f69",
   "metadata": {
    "scrolled": true
   },
   "outputs": [
    {
     "name": "stdout",
     "output_type": "stream",
     "text": [
      "['thompson' 'harris' 'adams' 'clark' 'nelson']\n",
      "['adams' 'wilson' 'taylor' 'allen' 'harris']\n",
      "['wright' 'thompson' 'anderson' 'nelson' 'clark']\n",
      "['wright' 'thompson' 'adams' 'clark' 'allen']\n",
      "['adams' 'wright' 'wilson' 'williams' 'jackson']\n",
      "['nelson' 'adams' 'allen' 'wright' 'davis']\n",
      "['thompson' 'adams' 'harris' 'davis' 'nelson']\n"
     ]
    }
   ],
   "source": [
    "white_covid_lst = []\n",
    "for i in range(7):\n",
    "    names, bias = top_k_words(covidWhite[i], 5, white_last_names)\n",
    "    print(names)\n",
    "    white_covid_lst.append(np.mean(bias))"
   ]
  },
  {
   "cell_type": "code",
   "execution_count": 91,
   "id": "39a44474",
   "metadata": {},
   "outputs": [
    {
     "data": {
      "image/png": "[encoded data removed]",
      "text/plain": [
       "<Figure size 640x480 with 1 Axes>"
      ]
     },
     "metadata": {},
     "output_type": "display_data"
    }
   ],
   "source": [
    "plt.plot(months, asian_covid_lst, color='blue', label='asian')\n",
    "plt.plot(months, white_covid_lst, color='red', label='white')\n",
    "plt.title('COVID Assocation with Most Biased Last Names')\n",
    "\n",
    "plt.xlabel('Months')\n",
    "plt.ylabel('Association with COVID terms')\n",
    "\n",
    "plt.legend(loc='lower left')\n",
    "\n",
    "plt.show()"
   ]
  },
  {
   "cell_type": "markdown",
   "id": "2592dabd",
   "metadata": {},
   "source": [
    "We can see that with the most biased last names, we have that the average association with COVID terms is higher for asian last names instead over white last names with the exception of January and February. But the association increases over time with asian last names."
   ]
  },
  {
   "cell_type": "markdown",
   "id": "04160fa5",
   "metadata": {},
   "source": [
    "### Hate Crime"
   ]
  },
  {
   "cell_type": "markdown",
   "id": "cb278001",
   "metadata": {},
   "source": [
    "**Most Biased Last Names**"
   ]
  },
  {
   "cell_type": "code",
   "execution_count": 92,
   "id": "23015ef7",
   "metadata": {
    "scrolled": true
   },
   "outputs": [
    {
     "name": "stdout",
     "output_type": "stream",
     "text": [
      "['chu' 'tang' 'chang' 'lin' 'huang']\n",
      "['chu' 'hu' 'lin' 'chang' 'liang']\n",
      "['liang' 'chu' 'huang' 'hu' 'chang']\n",
      "['cho' 'liang' 'chu' 'lin' 'tang']\n",
      "['cho' 'chu' 'liang' 'lin' 'hu']\n",
      "['cho' 'lin' 'huang' 'liang' 'chang']\n",
      "['liang' 'cho' 'chu' 'hu' 'chang']\n"
     ]
    }
   ],
   "source": [
    "asian_hate_lst = []\n",
    "for i in range(7):\n",
    "    names, bias = top_k_words(hateAsian[i], 5, asian_last_names)\n",
    "    print(names)\n",
    "    asian_hate_lst.append(np.mean(bias))"
   ]
  },
  {
   "cell_type": "code",
   "execution_count": 93,
   "id": "d9672c18",
   "metadata": {
    "scrolled": true
   },
   "outputs": [
    {
     "name": "stdout",
     "output_type": "stream",
     "text": [
      "['thompson' 'adams' 'harris' 'nelson' 'taylor']\n",
      "['adams' 'taylor' 'allen' 'moore' 'wilson']\n",
      "['thompson' 'taylor' 'wright' 'jackson' 'allen']\n",
      "['wright' 'clark' 'jackson' 'martin' 'robinson']\n",
      "['adams' 'clark' 'wright' 'wilson' 'moore']\n",
      "['nelson' 'moore' 'allen' 'williams' 'wilson']\n",
      "['robinson' 'thompson' 'wright' 'williams' 'adams']\n"
     ]
    }
   ],
   "source": [
    "white_hate_lst = []\n",
    "for i in range(7):\n",
    "    names, bias = top_k_words(hateWhite[i], 5, white_last_names)\n",
    "    print(names)\n",
    "    white_hate_lst.append(np.mean(bias))"
   ]
  },
  {
   "cell_type": "code",
   "execution_count": 94,
   "id": "afbccbcb",
   "metadata": {},
   "outputs": [
    {
     "data": {
      "image/png": "[encoded data removed]",
      "text/plain": [
       "<Figure size 640x480 with 1 Axes>"
      ]
     },
     "metadata": {},
     "output_type": "display_data"
    }
   ],
   "source": [
    "plt.plot(months, asian_hate_lst, color='blue', label='asian')\n",
    "plt.plot(months, white_hate_lst, color='red', label='white')\n",
    "plt.title('Hate-Crime Assocation with Most Biased Last Names')\n",
    "\n",
    "plt.xlabel('Months')\n",
    "plt.ylabel('Association with Hate-Crime terms')\n",
    "\n",
    "plt.legend(loc='lower left')\n",
    "\n",
    "plt.show()"
   ]
  },
  {
   "cell_type": "markdown",
   "id": "0786d4ec",
   "metadata": {},
   "source": [
    "We can see that with the most biased last names, we have that the average association with hate-crime terms is similar for January to March but after March it increases with asians in comparison to white last names. There is a steep drop in March which is interesting and may be correlated with the fact that AAPI was created in March 19, 2020."
   ]
  },
  {
   "cell_type": "markdown",
   "id": "6dd16792",
   "metadata": {},
   "source": [
    "### Outsider Adjectives"
   ]
  },
  {
   "cell_type": "markdown",
   "id": "27c0bfba",
   "metadata": {},
   "source": [
    "**Most Biased Last Names**"
   ]
  },
  {
   "cell_type": "code",
   "execution_count": 95,
   "id": "1d65e37c",
   "metadata": {},
   "outputs": [
    {
     "name": "stdout",
     "output_type": "stream",
     "text": [
      "['chu' 'tang' 'chang' 'huang' 'lin']\n",
      "['chu' 'lin' 'chang' 'hu' 'huang']\n",
      "['liang' 'chu' 'huang' 'lin' 'chang']\n",
      "['liang' 'cho' 'chu' 'hu' 'tang']\n",
      "['cho' 'chu' 'liang' 'lin' 'hu']\n",
      "['cho' 'liang' 'huang' 'chang' 'hu']\n",
      "['liang' 'cho' 'chu' 'hu' 'chung']\n"
     ]
    }
   ],
   "source": [
    "asian_outsider_lst = []\n",
    "for i in range(7):\n",
    "    names, bias = top_k_words(outsiderAsian[i], 5, asian_last_names)\n",
    "    print(names)\n",
    "    asian_outsider_lst.append(np.mean(bias))"
   ]
  },
  {
   "cell_type": "code",
   "execution_count": 96,
   "id": "02536b9c",
   "metadata": {
    "scrolled": true
   },
   "outputs": [
    {
     "name": "stdout",
     "output_type": "stream",
     "text": [
      "['thompson' 'adams' 'harris' 'nelson' 'taylor']\n",
      "['adams' 'taylor' 'wilson' 'moore' 'allen']\n",
      "['thompson' 'wright' 'taylor' 'moore' 'robinson']\n",
      "['wright' 'robinson' 'williams' 'clark' 'anderson']\n",
      "['adams' 'wright' 'wilson' 'nelson' 'jackson']\n",
      "['nelson' 'allen' 'adams' 'wilson' 'wright']\n",
      "['thompson' 'wright' 'williams' 'adams' 'harris']\n"
     ]
    }
   ],
   "source": [
    "white_outsider_lst = []\n",
    "for i in range(7):\n",
    "    names, bias = top_k_words(outsiderWhite[i], 5, white_last_names)\n",
    "    print(names)\n",
    "    white_outsider_lst.append(np.mean(bias))"
   ]
  },
  {
   "cell_type": "code",
   "execution_count": 97,
   "id": "42c21089",
   "metadata": {},
   "outputs": [
    {
     "data": {
      "image/png": "[encoded data removed]",
      "text/plain": [
       "<Figure size 640x480 with 1 Axes>"
      ]
     },
     "metadata": {},
     "output_type": "display_data"
    }
   ],
   "source": [
    "plt.plot(months, asian_outsider_lst, color='blue', label='asian')\n",
    "plt.plot(months, white_outsider_lst, color='red', label='white')\n",
    "plt.title('Outsider Assocation with Most Biased Last Names')\n",
    "\n",
    "plt.xlabel('Months')\n",
    "plt.ylabel('Association with Outsider terms')\n",
    "\n",
    "plt.legend(loc='lower left')\n",
    "\n",
    "plt.show()"
   ]
  },
  {
   "cell_type": "markdown",
   "id": "23899426",
   "metadata": {},
   "source": [
    "We can see that with the most biased last names, we have that the average association with outsider adjectives is similar in January and February but after that it decreases quite a bit for white last names and increases for asian last names."
   ]
  },
  {
   "cell_type": "markdown",
   "id": "93e50239",
   "metadata": {},
   "source": [
    "It would be interesting to conduct significant tests on this subset of data and see how it changes. However, given that we have a sample size of 5, our results could be rendered useless since our margin of error would be too high with 5 values. Hence, we keep a more qualitative conclusion and future work would be expanding this list of last names. "
   ]
  }
 ],
 "metadata": {
  "kernelspec": {
   "display_name": "test",
   "language": "python",
   "name": "test"
  },
  "language_info": {
   "codemirror_mode": {
    "name": "ipython",
    "version": 3
   },
   "file_extension": ".py",
   "mimetype": "text/x-python",
   "name": "python",
   "nbconvert_exporter": "python",
   "pygments_lexer": "ipython3",
   "version": "3.10.8"
  }
 },
 "nbformat": 4,
 "nbformat_minor": 5
}
