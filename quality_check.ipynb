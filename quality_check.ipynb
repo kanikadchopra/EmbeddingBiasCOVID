{
 "cells": [
  {
   "cell_type": "code",
   "execution_count": 1,
   "id": "92de3ab1",
   "metadata": {},
   "outputs": [],
   "source": [
    "from datetime import datetime as dt\n",
    "import unicodedata\n",
    "import pandas as pd\n",
    "import numpy as np\n",
    "\n",
    "import matplotlib.pyplot as plt\n",
    "%matplotlib inline"
   ]
  },
  {
   "cell_type": "code",
   "execution_count": 2,
   "id": "7293c5ef",
   "metadata": {},
   "outputs": [],
   "source": [
    "from nltk.tokenize import sent_tokenize, word_tokenize\n",
    "import gensim\n",
    "from gensim.models import Word2Vec\n",
    "\n",
    "import string\n",
    "from nltk.corpus import stopwords"
   ]
  },
  {
   "cell_type": "markdown",
   "id": "334762b2",
   "metadata": {},
   "source": [
    "# Quality Checks\n",
    "\n",
    "We will conduct two quality checks:\n",
    "1. Analogy Relationships\n",
    "2. Nearest Neighbors"
   ]
  },
  {
   "cell_type": "markdown",
   "id": "98d4f1b0",
   "metadata": {},
   "source": [
    "## Word2Vec Models\n",
    "\n",
    "We load our word2vec models trained in `embeddings_wordCategories.ipynb`."
   ]
  },
  {
   "cell_type": "code",
   "execution_count": 3,
   "id": "aa6ce673",
   "metadata": {},
   "outputs": [],
   "source": [
    "# Create a word2vec model for each month\n",
    "jan_model = Word2Vec.load(\"models/jan_model.model\")\n",
    "feb_model = Word2Vec.load(\"models/feb_model.model\")\n",
    "mar_model = Word2Vec.load(\"models/mar_model.model\")\n",
    "apr_model = Word2Vec.load(\"models/apr_model.model\")\n",
    "may_model = Word2Vec.load(\"models/may_model.model\")\n",
    "june_model = Word2Vec.load(\"models/june_model.model\")\n",
    "july_model = Word2Vec.load(\"models/july_model.model\")"
   ]
  },
  {
   "cell_type": "markdown",
   "id": "89403720",
   "metadata": {},
   "source": [
    "First, we get the analogy score for each model for synctatic and semantic analogies."
   ]
  },
  {
   "cell_type": "markdown",
   "id": "33f1a30f",
   "metadata": {},
   "source": [
    "## Analogy Relationships"
   ]
  },
  {
   "cell_type": "markdown",
   "id": "2cdd4457",
   "metadata": {},
   "source": [
    "### January "
   ]
  },
  {
   "cell_type": "code",
   "execution_count": 4,
   "id": "aa6356b3",
   "metadata": {},
   "outputs": [],
   "source": [
    "syntactic_analogy_word2vec = jan_model.wv.evaluate_word_analogies('analogy/syntactic.txt')\n",
    "semantic_analogy_word2vec = jan_model.wv.evaluate_word_analogies('analogy/semantic.txt')"
   ]
  },
  {
   "cell_type": "code",
   "execution_count": 5,
   "id": "6a9eb91d",
   "metadata": {},
   "outputs": [
    {
     "name": "stdout",
     "output_type": "stream",
     "text": [
      "Syntactic:  0.07773808057163976\n",
      "Semantic:  0.09923664122137404\n"
     ]
    }
   ],
   "source": [
    "# Syntactic Analogy Word2Vec \n",
    "print('Syntactic: ', syntactic_analogy_word2vec[0])\n",
    "\n",
    "# Semantic Analogy Word2Vec\n",
    "print('Semantic: ', semantic_analogy_word2vec[0])"
   ]
  },
  {
   "cell_type": "markdown",
   "id": "3324953d",
   "metadata": {},
   "source": [
    "### February "
   ]
  },
  {
   "cell_type": "code",
   "execution_count": 6,
   "id": "8d2b2d49",
   "metadata": {},
   "outputs": [],
   "source": [
    "syntactic_analogy_word2vec = feb_model.wv.evaluate_word_analogies('analogy/syntactic.txt')\n",
    "semantic_analogy_word2vec = feb_model.wv.evaluate_word_analogies('analogy/semantic.txt')"
   ]
  },
  {
   "cell_type": "code",
   "execution_count": 7,
   "id": "fce16856",
   "metadata": {},
   "outputs": [
    {
     "name": "stdout",
     "output_type": "stream",
     "text": [
      "Syntactic:  0.12883231876037632\n",
      "Semantic:  0.1786030061892131\n"
     ]
    }
   ],
   "source": [
    "# Syntactic Analogy Word2Vec \n",
    "print('Syntactic: ', syntactic_analogy_word2vec[0])\n",
    "\n",
    "# Semantic Analogy Word2Vec\n",
    "print('Semantic: ', semantic_analogy_word2vec[0])"
   ]
  },
  {
   "cell_type": "markdown",
   "id": "d3f7537b",
   "metadata": {},
   "source": [
    "### March "
   ]
  },
  {
   "cell_type": "code",
   "execution_count": 8,
   "id": "01890194",
   "metadata": {},
   "outputs": [],
   "source": [
    "syntactic_analogy_word2vec = mar_model.wv.evaluate_word_analogies('analogy/syntactic.txt')\n",
    "semantic_analogy_word2vec = mar_model.wv.evaluate_word_analogies('analogy/semantic.txt')"
   ]
  },
  {
   "cell_type": "code",
   "execution_count": 9,
   "id": "5b4dae8e",
   "metadata": {},
   "outputs": [
    {
     "name": "stdout",
     "output_type": "stream",
     "text": [
      "Syntactic:  0.14215899218071243\n",
      "Semantic:  0.1953962396766825\n"
     ]
    }
   ],
   "source": [
    "# Syntactic Analogy Word2Vec \n",
    "print('Syntactic: ', syntactic_analogy_word2vec[0])\n",
    "\n",
    "# Semantic Analogy Word2Vec\n",
    "print('Semantic: ', semantic_analogy_word2vec[0])"
   ]
  },
  {
   "cell_type": "markdown",
   "id": "fa4db927",
   "metadata": {},
   "source": [
    "### April"
   ]
  },
  {
   "cell_type": "code",
   "execution_count": 10,
   "id": "e27aafe3",
   "metadata": {},
   "outputs": [],
   "source": [
    "syntactic_analogy_word2vec = apr_model.wv.evaluate_word_analogies('analogy/syntactic.txt')\n",
    "semantic_analogy_word2vec = apr_model.wv.evaluate_word_analogies('analogy/semantic.txt')"
   ]
  },
  {
   "cell_type": "code",
   "execution_count": 11,
   "id": "ca3a1531",
   "metadata": {},
   "outputs": [
    {
     "name": "stdout",
     "output_type": "stream",
     "text": [
      "Syntactic:  0.16232153941651148\n",
      "Semantic:  0.16810592976396085\n"
     ]
    }
   ],
   "source": [
    "# Syntactic Analogy Word2Vec \n",
    "print('Syntactic: ', syntactic_analogy_word2vec[0])\n",
    "\n",
    "# Semantic Analogy Word2Vec\n",
    "print('Semantic: ', semantic_analogy_word2vec[0])"
   ]
  },
  {
   "cell_type": "markdown",
   "id": "1e23e54d",
   "metadata": {},
   "source": [
    "### May"
   ]
  },
  {
   "cell_type": "code",
   "execution_count": 12,
   "id": "ac669c1a",
   "metadata": {},
   "outputs": [],
   "source": [
    "syntactic_analogy_word2vec = may_model.wv.evaluate_word_analogies('analogy/syntactic.txt')\n",
    "semantic_analogy_word2vec = may_model.wv.evaluate_word_analogies('analogy/semantic.txt')"
   ]
  },
  {
   "cell_type": "code",
   "execution_count": 13,
   "id": "a46cca25",
   "metadata": {},
   "outputs": [
    {
     "name": "stdout",
     "output_type": "stream",
     "text": [
      "Syntactic:  0.1566078613432374\n",
      "Semantic:  0.16787459969661217\n"
     ]
    }
   ],
   "source": [
    "# Syntactic Analogy Word2Vec \n",
    "print('Syntactic: ', syntactic_analogy_word2vec[0])\n",
    "\n",
    "# Semantic Analogy Word2Vec\n",
    "print('Semantic: ', semantic_analogy_word2vec[0])"
   ]
  },
  {
   "cell_type": "markdown",
   "id": "cab3ab2d",
   "metadata": {},
   "source": [
    "### June"
   ]
  },
  {
   "cell_type": "code",
   "execution_count": 14,
   "id": "3b502695",
   "metadata": {},
   "outputs": [],
   "source": [
    "syntactic_analogy_word2vec = june_model.wv.evaluate_word_analogies('analogy/syntactic.txt')\n",
    "semantic_analogy_word2vec = june_model.wv.evaluate_word_analogies('analogy/semantic.txt')"
   ]
  },
  {
   "cell_type": "code",
   "execution_count": 15,
   "id": "e94d36e2",
   "metadata": {},
   "outputs": [
    {
     "name": "stdout",
     "output_type": "stream",
     "text": [
      "Syntactic:  0.14471143531431024\n",
      "Semantic:  0.1932935393258427\n"
     ]
    }
   ],
   "source": [
    "# Syntactic Analogy Word2Vec \n",
    "print('Syntactic: ', syntactic_analogy_word2vec[0])\n",
    "\n",
    "# Semantic Analogy Word2Vec\n",
    "print('Semantic: ', semantic_analogy_word2vec[0])"
   ]
  },
  {
   "cell_type": "markdown",
   "id": "7371bd0c",
   "metadata": {},
   "source": [
    "### July"
   ]
  },
  {
   "cell_type": "code",
   "execution_count": 16,
   "id": "6454fc9a",
   "metadata": {},
   "outputs": [],
   "source": [
    "syntactic_analogy_word2vec = july_model.wv.evaluate_word_analogies('analogy/syntactic.txt')\n",
    "semantic_analogy_word2vec = july_model.wv.evaluate_word_analogies('analogy/semantic.txt')"
   ]
  },
  {
   "cell_type": "code",
   "execution_count": 17,
   "id": "5ac57069",
   "metadata": {},
   "outputs": [
    {
     "name": "stdout",
     "output_type": "stream",
     "text": [
      "Syntactic:  0.15183842568617298\n",
      "Semantic:  0.15172298427567749\n"
     ]
    }
   ],
   "source": [
    "# Syntactic Analogy Word2Vec \n",
    "print('Syntactic: ', syntactic_analogy_word2vec[0])\n",
    "\n",
    "# Semantic Analogy Word2Vec\n",
    "print('Semantic: ', semantic_analogy_word2vec[0])"
   ]
  },
  {
   "cell_type": "markdown",
   "id": "2ba1e80b",
   "metadata": {},
   "source": [
    "## Nearest Neighbors\n",
    "We are going to look at the nearest neighbors for words like `car` and `food` where we can expect to see words related to vehicles and words related to food. "
   ]
  },
  {
   "cell_type": "markdown",
   "id": "fa8d0e2c",
   "metadata": {},
   "source": [
    "### Car"
   ]
  },
  {
   "cell_type": "code",
   "execution_count": 18,
   "id": "1bd793b3",
   "metadata": {
    "scrolled": true
   },
   "outputs": [
    {
     "data": {
      "text/plain": [
       "[('webaul', 0.6419444680213928),\n",
       " ('cars', 0.6231793165206909),\n",
       " ('jaguar', 0.6225389838218689),\n",
       " ('rentals', 0.6224567890167236),\n",
       " ('wheel', 0.6180456280708313),\n",
       " ('fuse', 0.6026849746704102),\n",
       " ('ghosttown', 0.5929633378982544),\n",
       " ('gibbons', 0.5929521322250366),\n",
       " ('skoda', 0.5910767912864685),\n",
       " ('halewood', 0.5897871255874634)]"
      ]
     },
     "execution_count": 18,
     "metadata": {},
     "output_type": "execute_result"
    }
   ],
   "source": [
    "jan_model.wv.most_similar(positive=['car'])"
   ]
  },
  {
   "cell_type": "code",
   "execution_count": 19,
   "id": "ec4ff48d",
   "metadata": {},
   "outputs": [
    {
     "data": {
      "text/plain": [
       "[('cars', 0.7409082055091858),\n",
       " ('vehicle', 0.7394551038742065),\n",
       " ('dealership', 0.6509534120559692),\n",
       " ('selfdriving', 0.6507112383842468),\n",
       " ('auto', 0.649484395980835),\n",
       " ('benz', 0.6451889872550964),\n",
       " ('dealerships', 0.6439517736434937),\n",
       " ('vehicles', 0.6356154680252075),\n",
       " ('electric', 0.6338905096054077),\n",
       " ('carmakers', 0.6305521726608276)]"
      ]
     },
     "execution_count": 19,
     "metadata": {},
     "output_type": "execute_result"
    }
   ],
   "source": [
    "feb_model.wv.most_similar(positive=['car'])"
   ]
  },
  {
   "cell_type": "code",
   "execution_count": 20,
   "id": "b90f3774",
   "metadata": {},
   "outputs": [
    {
     "data": {
      "text/plain": [
       "[('cars', 0.7202456593513489),\n",
       " ('vehicle', 0.6924893856048584),\n",
       " ('bicycle', 0.6816522479057312),\n",
       " ('accident', 0.6595501899719238),\n",
       " ('suv', 0.6548261046409607),\n",
       " ('parked', 0.6494114398956299),\n",
       " ('scooter', 0.6460229754447937),\n",
       " ('quad', 0.6371784806251526),\n",
       " ('privatehire', 0.6344361901283264),\n",
       " ('minivan', 0.6318668127059937)]"
      ]
     },
     "execution_count": 20,
     "metadata": {},
     "output_type": "execute_result"
    }
   ],
   "source": [
    "mar_model.wv.most_similar(positive=['car'])"
   ]
  },
  {
   "cell_type": "code",
   "execution_count": 21,
   "id": "88eac7a0",
   "metadata": {},
   "outputs": [
    {
     "data": {
      "text/plain": [
       "[('cars', 0.7886906266212463),\n",
       " ('vehicle', 0.7585102915763855),\n",
       " ('parked', 0.6883108615875244),\n",
       " ('motorcycle', 0.6816992163658142),\n",
       " ('tires', 0.6785660982131958),\n",
       " ('bikes', 0.6752482652664185),\n",
       " ('rides', 0.6723027229309082),\n",
       " ('bike', 0.6718657612800598),\n",
       " ('bicycle', 0.6684290170669556),\n",
       " ('motorbike', 0.6613712906837463)]"
      ]
     },
     "execution_count": 21,
     "metadata": {},
     "output_type": "execute_result"
    }
   ],
   "source": [
    "apr_model.wv.most_similar(positive=['car'])"
   ]
  },
  {
   "cell_type": "code",
   "execution_count": 22,
   "id": "b3d2db5d",
   "metadata": {},
   "outputs": [
    {
     "data": {
      "text/plain": [
       "[('vehicle', 0.7911328077316284),\n",
       " ('cars', 0.7624408006668091),\n",
       " ('bicycle', 0.7585214972496033),\n",
       " ('bicycles', 0.7117853164672852),\n",
       " ('dealership', 0.6917356848716736),\n",
       " ('vehicles', 0.6787472367286682),\n",
       " ('bikes', 0.6775545477867126),\n",
       " ('scooter', 0.6659582853317261),\n",
       " ('motorbike', 0.6625623106956482),\n",
       " ('suv', 0.6607215404510498)]"
      ]
     },
     "execution_count": 22,
     "metadata": {},
     "output_type": "execute_result"
    }
   ],
   "source": [
    "may_model.wv.most_similar(positive=['car'])"
   ]
  },
  {
   "cell_type": "code",
   "execution_count": 23,
   "id": "fdffa9d7",
   "metadata": {},
   "outputs": [
    {
     "data": {
      "text/plain": [
       "[('dealership', 0.7867011427879333),\n",
       " ('cars', 0.7773681282997131),\n",
       " ('vehicle', 0.7706952095031738),\n",
       " ('truck', 0.752478837966919),\n",
       " ('scooter', 0.7405713200569153),\n",
       " ('motorcycle', 0.7253866791725159),\n",
       " ('oncoming', 0.7225614786148071),\n",
       " ('tow', 0.7121523022651672),\n",
       " ('bikes', 0.7113629579544067),\n",
       " ('suv', 0.7105033993721008)]"
      ]
     },
     "execution_count": 23,
     "metadata": {},
     "output_type": "execute_result"
    }
   ],
   "source": [
    "june_model.wv.most_similar(positive=['car'])"
   ]
  },
  {
   "cell_type": "code",
   "execution_count": 24,
   "id": "f011a8f8",
   "metadata": {},
   "outputs": [
    {
     "data": {
      "text/plain": [
       "[('cars', 0.7965576648712158),\n",
       " ('vehicle', 0.7698507905006409),\n",
       " ('motorcycle', 0.7038615942001343),\n",
       " ('scooter', 0.6954658031463623),\n",
       " ('suv', 0.6807191371917725),\n",
       " ('suvs', 0.6779518127441406),\n",
       " ('bicycle', 0.6732996702194214),\n",
       " ('tow', 0.6677586436271667),\n",
       " ('amtrak', 0.6642812490463257),\n",
       " ('parked', 0.6576599478721619)]"
      ]
     },
     "execution_count": 24,
     "metadata": {},
     "output_type": "execute_result"
    }
   ],
   "source": [
    "july_model.wv.most_similar(positive=['car'])"
   ]
  },
  {
   "cell_type": "markdown",
   "id": "af878666",
   "metadata": {},
   "source": [
    "We can see that for each month, we do have words that are associated with cars."
   ]
  },
  {
   "cell_type": "markdown",
   "id": "823cb53c",
   "metadata": {},
   "source": [
    "### Food"
   ]
  },
  {
   "cell_type": "code",
   "execution_count": 25,
   "id": "1ffefbc4",
   "metadata": {
    "scrolled": true
   },
   "outputs": [
    {
     "data": {
      "text/plain": [
       "[('wellcooked', 0.6954552531242371),\n",
       " ('necessities', 0.6764464378356934),\n",
       " ('nutritious', 0.6761460900306702),\n",
       " ('essentials', 0.6693312525749207),\n",
       " ('fruits', 0.6598597764968872),\n",
       " ('unsanitary', 0.6593190431594849),\n",
       " ('ganesan', 0.6554536819458008),\n",
       " ('stored', 0.6516037583351135),\n",
       " ('contraband', 0.6512461304664612),\n",
       " ('perishable', 0.6499354243278503)]"
      ]
     },
     "execution_count": 25,
     "metadata": {},
     "output_type": "execute_result"
    }
   ],
   "source": [
    "jan_model.wv.most_similar(positive=['food'])"
   ]
  },
  {
   "cell_type": "code",
   "execution_count": 26,
   "id": "3b831921",
   "metadata": {},
   "outputs": [
    {
     "data": {
      "text/plain": [
       "[('bottled', 0.7137508988380432),\n",
       " ('essentials', 0.7079458236694336),\n",
       " ('nonperishable', 0.6901780366897583),\n",
       " ('tinned', 0.6887165904045105),\n",
       " ('packaged', 0.6866973638534546),\n",
       " ('fruits', 0.6864193677902222),\n",
       " ('diapers', 0.6857799887657166),\n",
       " ('vegetables', 0.6826168894767761),\n",
       " ('pastas', 0.6799852848052979),\n",
       " ('canned', 0.6771701574325562)]"
      ]
     },
     "execution_count": 26,
     "metadata": {},
     "output_type": "execute_result"
    }
   ],
   "source": [
    "feb_model.wv.most_similar(positive=['food'])"
   ]
  },
  {
   "cell_type": "code",
   "execution_count": 27,
   "id": "f18e86d7",
   "metadata": {},
   "outputs": [
    {
     "data": {
      "text/plain": [
       "[('parcels', 0.7904275059700012),\n",
       " ('pantries', 0.7715544104576111),\n",
       " ('essentials', 0.7600551247596741),\n",
       " ('toiletries', 0.7586692571640015),\n",
       " ('groceries', 0.738259494304657),\n",
       " ('nonperishable', 0.7236242294311523),\n",
       " ('perishable', 0.718319833278656),\n",
       " ('pantry', 0.714946985244751),\n",
       " ('fruits', 0.7083743810653687),\n",
       " ('rations', 0.7070468664169312)]"
      ]
     },
     "execution_count": 27,
     "metadata": {},
     "output_type": "execute_result"
    }
   ],
   "source": [
    "mar_model.wv.most_similar(positive=['food'])"
   ]
  },
  {
   "cell_type": "code",
   "execution_count": 28,
   "id": "49301190",
   "metadata": {},
   "outputs": [
    {
     "data": {
      "text/plain": [
       "[('nonperishable', 0.7473136782646179),\n",
       " ('parcels', 0.747100293636322),\n",
       " ('packaged', 0.7314946055412292),\n",
       " ('grains', 0.7314867973327637),\n",
       " ('meals', 0.7289881706237793),\n",
       " ('necessities', 0.7113165855407715),\n",
       " ('essentials', 0.7085106372833252),\n",
       " ('groceries', 0.7081417441368103),\n",
       " ('pantries', 0.7071753740310669),\n",
       " ('toiletries', 0.7066894173622131)]"
      ]
     },
     "execution_count": 28,
     "metadata": {},
     "output_type": "execute_result"
    }
   ],
   "source": [
    "apr_model.wv.most_similar(positive=['food'])"
   ]
  },
  {
   "cell_type": "code",
   "execution_count": 29,
   "id": "9221c38f",
   "metadata": {},
   "outputs": [
    {
     "data": {
      "text/plain": [
       "[('rations', 0.7541570067405701),\n",
       " ('pantries', 0.7484046816825867),\n",
       " ('toiletries', 0.7461102604866028),\n",
       " ('groceries', 0.7415049076080322),\n",
       " ('meals', 0.7262624502182007),\n",
       " ('packaged', 0.7222284078598022),\n",
       " ('necessities', 0.720681369304657),\n",
       " ('grains', 0.7160525918006897),\n",
       " ('beverage', 0.7147131562232971),\n",
       " ('perishable', 0.7080368995666504)]"
      ]
     },
     "execution_count": 29,
     "metadata": {},
     "output_type": "execute_result"
    }
   ],
   "source": [
    "may_model.wv.most_similar(positive=['food'])"
   ]
  },
  {
   "cell_type": "code",
   "execution_count": 30,
   "id": "a802b5db",
   "metadata": {},
   "outputs": [
    {
     "data": {
      "text/plain": [
       "[('groceries', 0.7549852728843689),\n",
       " ('nutritious', 0.731977105140686),\n",
       " ('parcels', 0.7210739254951477),\n",
       " ('meals', 0.7209938764572144),\n",
       " ('shelfstable', 0.7108553051948547),\n",
       " ('nonperishable', 0.707969605922699),\n",
       " ('pantries', 0.7064752578735352),\n",
       " ('pantry', 0.7020173072814941),\n",
       " ('necessities', 0.7001433968544006),\n",
       " ('diapers', 0.6960179805755615)]"
      ]
     },
     "execution_count": 30,
     "metadata": {},
     "output_type": "execute_result"
    }
   ],
   "source": [
    "june_model.wv.most_similar(positive=['food'])"
   ]
  },
  {
   "cell_type": "code",
   "execution_count": 31,
   "id": "df23db16",
   "metadata": {},
   "outputs": [
    {
     "data": {
      "text/plain": [
       "[('pantries', 0.7791734337806702),\n",
       " ('pantry', 0.7139326333999634),\n",
       " ('meals', 0.6907495260238647),\n",
       " ('meal', 0.6881261467933655),\n",
       " ('parcels', 0.6852877140045166),\n",
       " ('nutritious', 0.6851959824562073),\n",
       " ('groceries', 0.6845822334289551),\n",
       " ('nonperishable', 0.6805075407028198),\n",
       " ('drink', 0.6780723929405212),\n",
       " ('necessities', 0.675387442111969)]"
      ]
     },
     "execution_count": 31,
     "metadata": {},
     "output_type": "execute_result"
    }
   ],
   "source": [
    "july_model.wv.most_similar(positive=['food'])"
   ]
  },
  {
   "cell_type": "markdown",
   "id": "602bcc8e",
   "metadata": {},
   "source": [
    "We can see that for each month, we do have words that are associated with food. It is interesting to note that since it is during the pandemic, there are more words associatd with pantries, necessities, ratios, etc. which fits the trend of people stocking up their food in case of a lockdown or shut down in their city rather than words like hamburger, hot dog, etc."
   ]
  }
 ],
 "metadata": {
  "kernelspec": {
   "display_name": "csc2611",
   "language": "python",
   "name": "csc2611"
  },
  "language_info": {
   "codemirror_mode": {
    "name": "ipython",
    "version": 3
   },
   "file_extension": ".py",
   "mimetype": "text/x-python",
   "name": "python",
   "nbconvert_exporter": "python",
   "pygments_lexer": "ipython3",
   "version": "3.7.15"
  }
 },
 "nbformat": 4,
 "nbformat_minor": 5
}
