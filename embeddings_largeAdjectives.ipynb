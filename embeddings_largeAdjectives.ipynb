{
 "cells": [
  {
   "cell_type": "code",
   "execution_count": 1,
   "id": "92de3ab1",
   "metadata": {},
   "outputs": [],
   "source": [
    "from datetime import datetime as dt\n",
    "import unicodedata\n",
    "import pandas as pd\n",
    "import numpy as np\n",
    "\n",
    "import matplotlib.pyplot as plt\n",
    "%matplotlib inline"
   ]
  },
  {
   "cell_type": "code",
   "execution_count": 2,
   "id": "7293c5ef",
   "metadata": {},
   "outputs": [],
   "source": [
    "from nltk.tokenize import sent_tokenize, word_tokenize\n",
    "import gensim\n",
    "from gensim.models import Word2Vec\n",
    "\n",
    "import string\n",
    "from nltk.corpus import stopwords"
   ]
  },
  {
   "cell_type": "markdown",
   "id": "334762b2",
   "metadata": {},
   "source": [
    "## Embeddings\n",
    "\n",
    "We have our data split into monthly data. Now, we are going to start with comparing the embeddings from January 2020 and July 2020. "
   ]
  },
  {
   "cell_type": "markdown",
   "id": "98d4f1b0",
   "metadata": {},
   "source": [
    "### Word2Vec Models\n",
    "\n",
    "We load our word2vec models trained in `embeddings_wordCategories.ipynb`."
   ]
  },
  {
   "cell_type": "code",
   "execution_count": 3,
   "id": "aa6ce673",
   "metadata": {},
   "outputs": [],
   "source": [
    "# Create a word2vec model for each month\n",
    "jan_model = Word2Vec.load(\"models/jan_model.model\")\n",
    "feb_model = Word2Vec.load(\"models/feb_model.model\")\n",
    "mar_model = Word2Vec.load(\"models/mar_model.model\")\n",
    "apr_model = Word2Vec.load(\"models/apr_model.model\")\n",
    "may_model = Word2Vec.load(\"models/may_model.model\")\n",
    "june_model = Word2Vec.load(\"models/june_model.model\")\n",
    "july_model = Word2Vec.load(\"models/july_model.model\")"
   ]
  },
  {
   "cell_type": "markdown",
   "id": "e002cca7",
   "metadata": {},
   "source": [
    "In this notebook, we will look at a general list of adjectives and see which ones are most associated with the group representational vector for each ethnicity."
   ]
  },
  {
   "cell_type": "markdown",
   "id": "1d612fbf",
   "metadata": {},
   "source": [
    "## Group Word Lists \n",
    "\n",
    "We need to get word lists for both Asian and White names so that we can separate the two from the articles. We get this information from _Word Embeddings Quantify 100 Years of Gender and Ethnic Stereotypes_."
   ]
  },
  {
   "cell_type": "code",
   "execution_count": 4,
   "id": "18c9095d",
   "metadata": {},
   "outputs": [
    {
     "data": {
      "text/plain": [
       "20"
      ]
     },
     "execution_count": 4,
     "metadata": {},
     "output_type": "execute_result"
    }
   ],
   "source": [
    "white_last_names = ['harris', 'nelson', 'robinson', 'thompson', 'moore', 'wright', 'anderson', 'clark', 'jackson', 'taylor', 'scott', 'davis',\n",
    "'allen', 'adams', 'lewis', 'williams', 'jones', 'wilson', 'martin', 'johnson']\n",
    "\n",
    "len(white_last_names)"
   ]
  },
  {
   "cell_type": "code",
   "execution_count": 5,
   "id": "aedf4ea4",
   "metadata": {},
   "outputs": [
    {
     "data": {
      "text/plain": [
       "(22,)"
      ]
     },
     "execution_count": 5,
     "metadata": {},
     "output_type": "execute_result"
    }
   ],
   "source": [
    "chinese_last_names = ['chung', 'liu', 'wong', 'huang', 'ng','hu', 'chu', 'chen', 'lin', 'liang', 'wang', 'wu', 'yang', 'tang', 'chang', 'hong', 'li']\n",
    "asian_last_names = ['cho', 'wong', 'tang', 'huang', 'chu', 'chung', 'ng', 'wu', 'liu', 'chen', 'lin', 'yang', 'kim', 'chang', 'shah', 'wang', 'li', 'khan',\n",
    "'singh', 'hong'] + chinese_last_names\n",
    "\n",
    "# Get unique last names to avoid any repeats\n",
    "asian_last_names = np.unique(np.array(asian_last_names))\n",
    "\n",
    "asian_last_names.shape"
   ]
  },
  {
   "cell_type": "markdown",
   "id": "cd7f504c",
   "metadata": {},
   "source": [
    "We have 20 White last names and 22 Asian last names. We get the embeddings for each last name for each month and then we get the group representational vector for each ethnicity."
   ]
  },
  {
   "cell_type": "markdown",
   "id": "b5e1884b",
   "metadata": {},
   "source": [
    "**White Last Names**"
   ]
  },
  {
   "cell_type": "code",
   "execution_count": 6,
   "id": "2116ab11",
   "metadata": {},
   "outputs": [
    {
     "data": {
      "text/plain": [
       "(20, 100)"
      ]
     },
     "execution_count": 6,
     "metadata": {},
     "output_type": "execute_result"
    }
   ],
   "source": [
    "# Get embedding for every word\n",
    "whiteEmb_jan = np.array([jan_model.wv[name] for name in white_last_names])\n",
    "whiteEmb_feb = np.array([feb_model.wv[name] for name in white_last_names])\n",
    "whiteEmb_mar = np.array([mar_model.wv[name] for name in white_last_names])\n",
    "whiteEmb_apr = np.array([apr_model.wv[name] for name in white_last_names])\n",
    "whiteEmb_may = np.array([may_model.wv[name] for name in white_last_names])\n",
    "whiteEmb_june = np.array([june_model.wv[name] for name in white_last_names])\n",
    "whiteEmb_july = np.array([july_model.wv[name] for name in white_last_names])\n",
    "\n",
    "whiteEmb_jan.shape"
   ]
  },
  {
   "cell_type": "code",
   "execution_count": 7,
   "id": "f6ee1202",
   "metadata": {},
   "outputs": [],
   "source": [
    "whiteGroup_jan = np.mean(whiteEmb_jan, axis=0)\n",
    "whiteGroup_feb = np.mean(whiteEmb_feb, axis=0)\n",
    "whiteGroup_mar = np.mean(whiteEmb_mar, axis=0)\n",
    "whiteGroup_apr = np.mean(whiteEmb_apr, axis=0)\n",
    "whiteGroup_may = np.mean(whiteEmb_may, axis=0)\n",
    "whiteGroup_june = np.mean(whiteEmb_june, axis=0)\n",
    "whiteGroup_july = np.mean(whiteEmb_july, axis=0)"
   ]
  },
  {
   "cell_type": "markdown",
   "id": "992dd5e2",
   "metadata": {},
   "source": [
    "Then, we repeat this process with Asian last names.\n",
    "\n",
    "**Asian Last Names**"
   ]
  },
  {
   "cell_type": "code",
   "execution_count": 8,
   "id": "cd4573e5",
   "metadata": {},
   "outputs": [
    {
     "data": {
      "text/plain": [
       "(22, 100)"
      ]
     },
     "execution_count": 8,
     "metadata": {},
     "output_type": "execute_result"
    }
   ],
   "source": [
    "# Get embedding for every word\n",
    "asianEmb_jan = np.array([jan_model.wv[name] for name in asian_last_names])\n",
    "asianEmb_feb = np.array([feb_model.wv[name] for name in asian_last_names])\n",
    "asianEmb_mar = np.array([mar_model.wv[name] for name in asian_last_names])\n",
    "asianEmb_apr = np.array([apr_model.wv[name] for name in asian_last_names])\n",
    "asianEmb_may = np.array([may_model.wv[name] for name in asian_last_names])\n",
    "asianEmb_june = np.array([june_model.wv[name] for name in asian_last_names])\n",
    "asianEmb_july = np.array([july_model.wv[name] for name in asian_last_names])\n",
    "\n",
    "asianEmb_jan.shape"
   ]
  },
  {
   "cell_type": "code",
   "execution_count": 9,
   "id": "ee5a5099",
   "metadata": {},
   "outputs": [],
   "source": [
    "asianGroup_jan = np.mean(asianEmb_jan, axis=0)\n",
    "asianGroup_feb = np.mean(asianEmb_feb, axis=0)\n",
    "asianGroup_mar = np.mean(asianEmb_mar, axis=0)\n",
    "asianGroup_apr = np.mean(asianEmb_apr, axis=0)\n",
    "asianGroup_may = np.mean(asianEmb_may, axis=0)\n",
    "asianGroup_june = np.mean(asianEmb_june, axis=0)\n",
    "asianGroup_july = np.mean(asianEmb_july, axis=0)"
   ]
  },
  {
   "cell_type": "markdown",
   "id": "cb67d4a0",
   "metadata": {},
   "source": [
    "## Other Word Lists\n",
    "\n",
    "We get a general list of adjectives from."
   ]
  },
  {
   "cell_type": "code",
   "execution_count": 10,
   "id": "65bf102b",
   "metadata": {},
   "outputs": [
    {
     "data": {
      "text/html": [
       "<div>\n",
       "<style scoped>\n",
       "    .dataframe tbody tr th:only-of-type {\n",
       "        vertical-align: middle;\n",
       "    }\n",
       "\n",
       "    .dataframe tbody tr th {\n",
       "        vertical-align: top;\n",
       "    }\n",
       "\n",
       "    .dataframe thead th {\n",
       "        text-align: right;\n",
       "    }\n",
       "</style>\n",
       "<table border=\"1\" class=\"dataframe\">\n",
       "  <thead>\n",
       "    <tr style=\"text-align: right;\">\n",
       "      <th></th>\n",
       "      <th>0</th>\n",
       "    </tr>\n",
       "  </thead>\n",
       "  <tbody>\n",
       "    <tr>\n",
       "      <th>0</th>\n",
       "      <td>headstrong</td>\n",
       "    </tr>\n",
       "    <tr>\n",
       "      <th>1</th>\n",
       "      <td>thankless</td>\n",
       "    </tr>\n",
       "    <tr>\n",
       "      <th>2</th>\n",
       "      <td>tactful</td>\n",
       "    </tr>\n",
       "    <tr>\n",
       "      <th>3</th>\n",
       "      <td>distrustful</td>\n",
       "    </tr>\n",
       "    <tr>\n",
       "      <th>4</th>\n",
       "      <td>quarrelsome</td>\n",
       "    </tr>\n",
       "  </tbody>\n",
       "</table>\n",
       "</div>"
      ],
      "text/plain": [
       "             0\n",
       "0   headstrong\n",
       "1    thankless\n",
       "2      tactful\n",
       "3  distrustful\n",
       "4  quarrelsome"
      ]
     },
     "execution_count": 10,
     "metadata": {},
     "output_type": "execute_result"
    }
   ],
   "source": [
    "adjectives = pd.read_csv('data/adjectiveslist.csv', header=None)\n",
    "adjectives.head()"
   ]
  },
  {
   "cell_type": "code",
   "execution_count": 11,
   "id": "f274fa92",
   "metadata": {},
   "outputs": [
    {
     "data": {
      "text/plain": [
       "(653, 1)"
      ]
     },
     "execution_count": 11,
     "metadata": {},
     "output_type": "execute_result"
    }
   ],
   "source": [
    "adjectives.shape"
   ]
  },
  {
   "cell_type": "markdown",
   "id": "b6025ffd",
   "metadata": {},
   "source": [
    "We have 653 adjectives compiled from `Word embeddings quantify 100 years of gender and ethnic stereotypes`. Now, we first make sure there are no duplicates."
   ]
  },
  {
   "cell_type": "code",
   "execution_count": 12,
   "id": "ad5226fb",
   "metadata": {},
   "outputs": [
    {
     "data": {
      "text/plain": [
       "502"
      ]
     },
     "execution_count": 12,
     "metadata": {},
     "output_type": "execute_result"
    }
   ],
   "source": [
    "len(np.unique(adjectives.values))"
   ]
  },
  {
   "cell_type": "markdown",
   "id": "2b954623",
   "metadata": {},
   "source": [
    "We only have 502 unique words so we take this subset and will get the embeddings based on these words."
   ]
  },
  {
   "cell_type": "code",
   "execution_count": 13,
   "id": "19c36235",
   "metadata": {},
   "outputs": [
    {
     "data": {
      "text/plain": [
       "array(['FALSE', 'abrupt', 'accessible', 'active', 'adaptable'],\n",
       "      dtype=object)"
      ]
     },
     "execution_count": 13,
     "metadata": {},
     "output_type": "execute_result"
    }
   ],
   "source": [
    "np.unique(adjectives.values)[:5]"
   ]
  },
  {
   "cell_type": "markdown",
   "id": "a596c2f8",
   "metadata": {},
   "source": [
    "We remove 'FALSE' as an adjective and after viewing the remaining words, the rest are valid adjectives."
   ]
  },
  {
   "cell_type": "code",
   "execution_count": 14,
   "id": "f150854b",
   "metadata": {},
   "outputs": [
    {
     "data": {
      "text/plain": [
       "array(['abrupt', 'accessible', 'active', 'adaptable', 'admirable'],\n",
       "      dtype=object)"
      ]
     },
     "execution_count": 14,
     "metadata": {},
     "output_type": "execute_result"
    }
   ],
   "source": [
    "adj = np.unique(adjectives.values)[1:]\n",
    "adj[:5]"
   ]
  },
  {
   "cell_type": "markdown",
   "id": "3a7a72d1",
   "metadata": {},
   "source": [
    "**Check which words are in all of the months**"
   ]
  },
  {
   "cell_type": "code",
   "execution_count": 15,
   "id": "3dbd078d",
   "metadata": {},
   "outputs": [],
   "source": [
    "jan_words = jan_model.wv.key_to_index\n",
    "feb_words = feb_model.wv.key_to_index\n",
    "mar_words = mar_model.wv.key_to_index\n",
    "apr_words = apr_model.wv.key_to_index\n",
    "may_words = may_model.wv.key_to_index\n",
    "june_words = june_model.wv.key_to_index\n",
    "july_words = july_model.wv.key_to_index"
   ]
  },
  {
   "cell_type": "code",
   "execution_count": 16,
   "id": "70433618",
   "metadata": {},
   "outputs": [],
   "source": [
    "def check_words(lst):\n",
    "    final_lst = []\n",
    "    for word in lst:\n",
    "        if (word in jan_words) & (word in feb_words) & (word in mar_words) & (word in apr_words) & (word in may_words) & (word in june_words) & (word in july_words):\n",
    "            final_lst.append(word)\n",
    "    return final_lst"
   ]
  },
  {
   "cell_type": "code",
   "execution_count": 17,
   "id": "59e4a3ae",
   "metadata": {},
   "outputs": [
    {
     "data": {
      "text/plain": [
       "325"
      ]
     },
     "execution_count": 17,
     "metadata": {},
     "output_type": "execute_result"
    }
   ],
   "source": [
    "adj_lst = check_words(adj)\n",
    "len(adj_lst)"
   ]
  },
  {
   "cell_type": "markdown",
   "id": "735502a5",
   "metadata": {},
   "source": [
    "We now only have 325 words which is half of the list that we started with but this is still a large list of adjectives in comparison to our COVID-19, hate crime and outsider adjectives."
   ]
  },
  {
   "cell_type": "markdown",
   "id": "610f8614",
   "metadata": {},
   "source": [
    "These are the words that appear in every month of data. Next, we get the embeddings for each of these words."
   ]
  },
  {
   "cell_type": "markdown",
   "id": "ba48ad8b",
   "metadata": {},
   "source": [
    "## Embeddings"
   ]
  },
  {
   "cell_type": "code",
   "execution_count": 18,
   "id": "f51202a6",
   "metadata": {},
   "outputs": [],
   "source": [
    "def get_embeddings(lst, model):\n",
    "    emb_lst = []\n",
    "    for word in lst:\n",
    "        embs = []\n",
    "        emb = model.wv[word]\n",
    "        emb_lst.append(emb)\n",
    "    return emb_lst"
   ]
  },
  {
   "cell_type": "code",
   "execution_count": 19,
   "id": "ff798561",
   "metadata": {},
   "outputs": [],
   "source": [
    "# January\n",
    "adjEmb_jan = np.array(get_embeddings(adj_lst, jan_model))\n",
    "\n",
    "# February\n",
    "adjEmb_feb = np.array(get_embeddings(adj_lst, feb_model))\n",
    "\n",
    "# March\n",
    "adjEmb_mar = np.array(get_embeddings(adj_lst, mar_model))\n",
    "\n",
    "# April\n",
    "adjEmb_apr = np.array(get_embeddings(adj_lst, apr_model))\n",
    "\n",
    "# May\n",
    "adjEmb_may = np.array(get_embeddings(adj_lst, may_model))\n",
    "\n",
    "# June\n",
    "adjEmb_june = np.array(get_embeddings(adj_lst, june_model))\n",
    "\n",
    "# July\n",
    "adjEmb_july = np.array(get_embeddings(adj_lst, july_model))"
   ]
  },
  {
   "cell_type": "markdown",
   "id": "15220d09",
   "metadata": {},
   "source": [
    "## Embedding Similarity\n",
    "Now, for each of these words, we can compute the association with the words in each category and the group representational vector for Asian and White last names. The goal here is different than the goal with the COVID, hate crime and outsider words. These adjectives do not belong to the same category so rather than seeing which has a higher association with a category, we want to see which 10 words are most associated with each ethnicity over time and then see if we can observe any trends.\n",
    "\n",
    "Hence, we will have two comparisons:\n",
    "1. Compare the most associated words with Asian ethnicities and White ethnicities\n",
    "2. Investigate the sentiment behind the most biased adjectives towards Asians (relative to Whites)"
   ]
  },
  {
   "cell_type": "code",
   "execution_count": 20,
   "id": "86f02547",
   "metadata": {},
   "outputs": [],
   "source": [
    "# Similarity with Asian vector\n",
    "adjAsian_jan = np.linalg.norm(adjEmb_jan - asianGroup_jan, axis=1)\n",
    "adjAsian_feb = np.linalg.norm(adjEmb_feb - asianGroup_feb, axis=1)\n",
    "adjAsian_mar = np.linalg.norm(adjEmb_mar - asianGroup_mar, axis=1)\n",
    "adjAsian_apr = np.linalg.norm(adjEmb_apr - asianGroup_apr, axis=1)\n",
    "adjAsian_may = np.linalg.norm(adjEmb_may - asianGroup_may, axis=1)\n",
    "adjAsian_june = np.linalg.norm(adjEmb_june - asianGroup_june, axis=1)\n",
    "adjAsian_july = np.linalg.norm(adjEmb_july - asianGroup_july, axis=1)"
   ]
  },
  {
   "cell_type": "code",
   "execution_count": 21,
   "id": "679564df",
   "metadata": {},
   "outputs": [],
   "source": [
    "# Similarity with White vector\n",
    "adjWhite_jan = np.linalg.norm(adjEmb_jan - whiteGroup_jan, axis=1)\n",
    "adjWhite_feb = np.linalg.norm(adjEmb_feb - whiteGroup_feb, axis=1)\n",
    "adjWhite_mar = np.linalg.norm(adjEmb_mar - whiteGroup_mar, axis=1)\n",
    "adjWhite_apr = np.linalg.norm(adjEmb_apr - whiteGroup_apr, axis=1)\n",
    "adjWhite_may = np.linalg.norm(adjEmb_may - whiteGroup_may, axis=1)\n",
    "adjWhite_june = np.linalg.norm(adjEmb_june - whiteGroup_june, axis=1)\n",
    "adjWhite_july = np.linalg.norm(adjEmb_july - whiteGroup_july, axis=1)"
   ]
  },
  {
   "cell_type": "code",
   "execution_count": 22,
   "id": "1bc14250",
   "metadata": {},
   "outputs": [],
   "source": [
    "# Calculate the embedding bias for each word \n",
    "adjDiff_jan = adjAsian_jan - adjWhite_jan\n",
    "adjDiff_feb = adjAsian_feb - adjWhite_feb\n",
    "adjDiff_mar = adjAsian_mar - adjWhite_mar\n",
    "adjDiff_apr = adjAsian_apr - adjWhite_apr\n",
    "adjDiff_may = adjAsian_may - adjWhite_may \n",
    "adjDiff_june = adjAsian_june - adjWhite_june\n",
    "adjDiff_july = adjAsian_july - adjWhite_july"
   ]
  },
  {
   "cell_type": "markdown",
   "id": "96f74a1e",
   "metadata": {},
   "source": [
    "For the embedding bias, we want words that are more associated with Asian ethnicities (i.e. the most biased) so these would be words that are more negative."
   ]
  },
  {
   "cell_type": "code",
   "execution_count": 23,
   "id": "7e509df0",
   "metadata": {
    "scrolled": true
   },
   "outputs": [
    {
     "data": {
      "text/plain": [
       "(325,)"
      ]
     },
     "execution_count": 23,
     "metadata": {},
     "output_type": "execute_result"
    }
   ],
   "source": [
    "adjAsian_jan.shape"
   ]
  },
  {
   "cell_type": "code",
   "execution_count": 24,
   "id": "b4d29660",
   "metadata": {},
   "outputs": [],
   "source": [
    "def top_k_words(arr, k):\n",
    "    indx = sorted(range(len(arr)), key = lambda sub: arr[sub])[:k]\n",
    "    closest_words = np.array(adj_lst)[indx]\n",
    "    return closest_words"
   ]
  },
  {
   "cell_type": "code",
   "execution_count": 25,
   "id": "45cd818d",
   "metadata": {
    "scrolled": false
   },
   "outputs": [
    {
     "data": {
      "text/html": [
       "<div>\n",
       "<style scoped>\n",
       "    .dataframe tbody tr th:only-of-type {\n",
       "        vertical-align: middle;\n",
       "    }\n",
       "\n",
       "    .dataframe tbody tr th {\n",
       "        vertical-align: top;\n",
       "    }\n",
       "\n",
       "    .dataframe thead th {\n",
       "        text-align: right;\n",
       "    }\n",
       "</style>\n",
       "<table border=\"1\" class=\"dataframe\">\n",
       "  <thead>\n",
       "    <tr style=\"text-align: right;\">\n",
       "      <th></th>\n",
       "      <th>Asian</th>\n",
       "      <th>White</th>\n",
       "      <th>Biased</th>\n",
       "    </tr>\n",
       "  </thead>\n",
       "  <tbody>\n",
       "    <tr>\n",
       "      <th>Jan</th>\n",
       "      <td>NaN</td>\n",
       "      <td>NaN</td>\n",
       "      <td>NaN</td>\n",
       "    </tr>\n",
       "    <tr>\n",
       "      <th>Feb</th>\n",
       "      <td>NaN</td>\n",
       "      <td>NaN</td>\n",
       "      <td>NaN</td>\n",
       "    </tr>\n",
       "    <tr>\n",
       "      <th>Mar</th>\n",
       "      <td>NaN</td>\n",
       "      <td>NaN</td>\n",
       "      <td>NaN</td>\n",
       "    </tr>\n",
       "    <tr>\n",
       "      <th>Apr</th>\n",
       "      <td>NaN</td>\n",
       "      <td>NaN</td>\n",
       "      <td>NaN</td>\n",
       "    </tr>\n",
       "    <tr>\n",
       "      <th>May</th>\n",
       "      <td>NaN</td>\n",
       "      <td>NaN</td>\n",
       "      <td>NaN</td>\n",
       "    </tr>\n",
       "  </tbody>\n",
       "</table>\n",
       "</div>"
      ],
      "text/plain": [
       "    Asian White Biased\n",
       "Jan   NaN   NaN    NaN\n",
       "Feb   NaN   NaN    NaN\n",
       "Mar   NaN   NaN    NaN\n",
       "Apr   NaN   NaN    NaN\n",
       "May   NaN   NaN    NaN"
      ]
     },
     "execution_count": 25,
     "metadata": {},
     "output_type": "execute_result"
    }
   ],
   "source": [
    "df = pd.DataFrame(columns=['Asian', 'White', 'Biased'], index=['Jan', 'Feb', 'Mar', 'Apr', 'May', 'June', 'July'])\n",
    "df.head()"
   ]
  },
  {
   "cell_type": "code",
   "execution_count": 26,
   "id": "37dbcebe",
   "metadata": {},
   "outputs": [],
   "source": [
    "df.loc['Jan', 'Asian'] = top_k_words(adjAsian_jan, 10)\n",
    "df.loc['Jan', 'White'] = top_k_words(adjWhite_jan, 10)\n",
    "df.loc['Jan', 'Biased'] = top_k_words(adjDiff_jan, 10)\n",
    "\n",
    "df.loc['Feb', 'Asian'] = top_k_words(adjAsian_feb, 10)\n",
    "df.loc['Feb', 'White'] = top_k_words(adjWhite_feb, 10)\n",
    "df.loc['Feb', 'Biased'] = top_k_words(adjDiff_feb, 10)\n",
    "\n",
    "df.loc['Mar', 'Asian'] = top_k_words(adjAsian_mar, 10)\n",
    "df.loc['Mar', 'White'] = top_k_words(adjWhite_mar, 10)\n",
    "df.loc['Mar', 'Biased'] = top_k_words(adjDiff_mar, 10)\n",
    "\n",
    "df.loc['Apr', 'Asian'] = top_k_words(adjAsian_apr, 10)\n",
    "df.loc['Apr', 'White'] = top_k_words(adjWhite_apr, 10)\n",
    "df.loc['Apr', 'Biased'] = top_k_words(adjDiff_apr, 10)\n",
    "\n",
    "df.loc['May', 'Asian'] = top_k_words(adjAsian_may, 10)\n",
    "df.loc['May', 'White'] = top_k_words(adjWhite_may, 10)\n",
    "df.loc['May', 'Biased'] = top_k_words(adjDiff_may, 10)\n",
    "\n",
    "df.loc['June', 'Asian'] = top_k_words(adjAsian_june, 10)\n",
    "df.loc['June', 'White'] = top_k_words(adjWhite_june, 10)\n",
    "df.loc['June', 'Biased'] = top_k_words(adjDiff_june, 10)\n",
    "\n",
    "df.loc['July', 'Asian'] = top_k_words(adjAsian_july, 10)\n",
    "df.loc['July', 'White'] = top_k_words(adjWhite_july, 10)\n",
    "df.loc['July', 'Biased'] = top_k_words(adjDiff_july, 10)"
   ]
  },
  {
   "cell_type": "code",
   "execution_count": 27,
   "id": "df798062",
   "metadata": {
    "scrolled": true
   },
   "outputs": [
    {
     "data": {
      "text/html": [
       "<div>\n",
       "<style scoped>\n",
       "    .dataframe tbody tr th:only-of-type {\n",
       "        vertical-align: middle;\n",
       "    }\n",
       "\n",
       "    .dataframe tbody tr th {\n",
       "        vertical-align: top;\n",
       "    }\n",
       "\n",
       "    .dataframe thead th {\n",
       "        text-align: right;\n",
       "    }\n",
       "</style>\n",
       "<table border=\"1\" class=\"dataframe\">\n",
       "  <thead>\n",
       "    <tr style=\"text-align: right;\">\n",
       "      <th></th>\n",
       "      <th>Asian</th>\n",
       "      <th>White</th>\n",
       "      <th>Biased</th>\n",
       "    </tr>\n",
       "  </thead>\n",
       "  <tbody>\n",
       "    <tr>\n",
       "      <th>Jan</th>\n",
       "      <td>[adventurous, witty, charming, arrogant, lazy,...</td>\n",
       "      <td>[witty, outspoken, lazy, circumspect, arrogant...</td>\n",
       "      <td>[protective, praising, cerebral, affected, sus...</td>\n",
       "    </tr>\n",
       "    <tr>\n",
       "      <th>Feb</th>\n",
       "      <td>[solemn, amusing, callous, honorable, sober, c...</td>\n",
       "      <td>[witty, queer, amusing, circumspect, shrewd, d...</td>\n",
       "      <td>[forceful, cerebral, impractical, deliberate, ...</td>\n",
       "    </tr>\n",
       "    <tr>\n",
       "      <th>Mar</th>\n",
       "      <td>[assertive, methodical, witty, restrained, sol...</td>\n",
       "      <td>[witty, dissatisfied, assertive, solemn, hyste...</td>\n",
       "      <td>[artificial, transparent, informal, sensitive,...</td>\n",
       "    </tr>\n",
       "    <tr>\n",
       "      <th>Apr</th>\n",
       "      <td>[reactionary, inhibited, circumspect, solemn, ...</td>\n",
       "      <td>[honorable, solemn, fiery, unfathomable, circu...</td>\n",
       "      <td>[predatory, restrained, thorough, cooperative,...</td>\n",
       "    </tr>\n",
       "    <tr>\n",
       "      <th>May</th>\n",
       "      <td>[callous, honorable, circumspect, monstrous, a...</td>\n",
       "      <td>[honorable, monstrous, amusing, circumspect, d...</td>\n",
       "      <td>[insulting, malicious, transparent, cooperativ...</td>\n",
       "    </tr>\n",
       "    <tr>\n",
       "      <th>June</th>\n",
       "      <td>[hysterical, circumspect, perverse, reactionar...</td>\n",
       "      <td>[witty, cheerful, hysterical, honorable, disco...</td>\n",
       "      <td>[assertive, deceptive, sensitive, malicious, r...</td>\n",
       "    </tr>\n",
       "    <tr>\n",
       "      <th>July</th>\n",
       "      <td>[unfathomable, ingenious, reactionary, decepti...</td>\n",
       "      <td>[honorable, unfathomable, solemn, ingenious, w...</td>\n",
       "      <td>[malicious, cooperative, assertive, arbitrary,...</td>\n",
       "    </tr>\n",
       "  </tbody>\n",
       "</table>\n",
       "</div>"
      ],
      "text/plain": [
       "                                                  Asian  \\\n",
       "Jan   [adventurous, witty, charming, arrogant, lazy,...   \n",
       "Feb   [solemn, amusing, callous, honorable, sober, c...   \n",
       "Mar   [assertive, methodical, witty, restrained, sol...   \n",
       "Apr   [reactionary, inhibited, circumspect, solemn, ...   \n",
       "May   [callous, honorable, circumspect, monstrous, a...   \n",
       "June  [hysterical, circumspect, perverse, reactionar...   \n",
       "July  [unfathomable, ingenious, reactionary, decepti...   \n",
       "\n",
       "                                                  White  \\\n",
       "Jan   [witty, outspoken, lazy, circumspect, arrogant...   \n",
       "Feb   [witty, queer, amusing, circumspect, shrewd, d...   \n",
       "Mar   [witty, dissatisfied, assertive, solemn, hyste...   \n",
       "Apr   [honorable, solemn, fiery, unfathomable, circu...   \n",
       "May   [honorable, monstrous, amusing, circumspect, d...   \n",
       "June  [witty, cheerful, hysterical, honorable, disco...   \n",
       "July  [honorable, unfathomable, solemn, ingenious, w...   \n",
       "\n",
       "                                                 Biased  \n",
       "Jan   [protective, praising, cerebral, affected, sus...  \n",
       "Feb   [forceful, cerebral, impractical, deliberate, ...  \n",
       "Mar   [artificial, transparent, informal, sensitive,...  \n",
       "Apr   [predatory, restrained, thorough, cooperative,...  \n",
       "May   [insulting, malicious, transparent, cooperativ...  \n",
       "June  [assertive, deceptive, sensitive, malicious, r...  \n",
       "July  [malicious, cooperative, assertive, arbitrary,...  "
      ]
     },
     "execution_count": 27,
     "metadata": {},
     "output_type": "execute_result"
    }
   ],
   "source": [
    "df"
   ]
  },
  {
   "cell_type": "markdown",
   "id": "1396e707",
   "metadata": {},
   "source": [
    "## Exploration"
   ]
  },
  {
   "cell_type": "code",
   "execution_count": 28,
   "id": "c65daba8",
   "metadata": {},
   "outputs": [],
   "source": [
    "from nltk.sentiment import SentimentIntensityAnalyzer\n",
    "sia = SentimentIntensityAnalyzer()"
   ]
  },
  {
   "cell_type": "markdown",
   "id": "56977313",
   "metadata": {},
   "source": [
    "We're going to use a sentiment analyzer to see the average sentiment associated around the top 10 words for each ethnicity. "
   ]
  },
  {
   "cell_type": "code",
   "execution_count": 29,
   "id": "ccb5bdfa",
   "metadata": {},
   "outputs": [],
   "source": [
    "def get_sentiment(lst):\n",
    "    sentiment = []\n",
    "    for word in lst:\n",
    "        sentiment.append(sia.polarity_scores(word)['compound'])\n",
    "    avg_sentiment = np.mean(np.array(sentiment))\n",
    "    \n",
    "    return avg_sentiment"
   ]
  },
  {
   "cell_type": "code",
   "execution_count": 30,
   "id": "5238f8e7",
   "metadata": {},
   "outputs": [],
   "source": [
    "df['avg_asian_sentiment'] = df.Asian.apply(get_sentiment)\n",
    "df['avg_white_sentiment'] = df.White.apply(get_sentiment)\n",
    "df['avg_bias_sentiment'] = df.Biased.apply(get_sentiment)"
   ]
  },
  {
   "cell_type": "code",
   "execution_count": 31,
   "id": "042e0369",
   "metadata": {
    "scrolled": true
   },
   "outputs": [
    {
     "data": {
      "text/html": [
       "<div>\n",
       "<style scoped>\n",
       "    .dataframe tbody tr th:only-of-type {\n",
       "        vertical-align: middle;\n",
       "    }\n",
       "\n",
       "    .dataframe tbody tr th {\n",
       "        vertical-align: top;\n",
       "    }\n",
       "\n",
       "    .dataframe thead th {\n",
       "        text-align: right;\n",
       "    }\n",
       "</style>\n",
       "<table border=\"1\" class=\"dataframe\">\n",
       "  <thead>\n",
       "    <tr style=\"text-align: right;\">\n",
       "      <th></th>\n",
       "      <th>Asian</th>\n",
       "      <th>White</th>\n",
       "      <th>Biased</th>\n",
       "      <th>avg_asian_sentiment</th>\n",
       "      <th>avg_white_sentiment</th>\n",
       "      <th>avg_bias_sentiment</th>\n",
       "    </tr>\n",
       "  </thead>\n",
       "  <tbody>\n",
       "    <tr>\n",
       "      <th>Jan</th>\n",
       "      <td>[adventurous, witty, charming, arrogant, lazy,...</td>\n",
       "      <td>[witty, outspoken, lazy, circumspect, arrogant...</td>\n",
       "      <td>[protective, praising, cerebral, affected, sus...</td>\n",
       "      <td>0.03150</td>\n",
       "      <td>-0.05487</td>\n",
       "      <td>0.13568</td>\n",
       "    </tr>\n",
       "    <tr>\n",
       "      <th>Feb</th>\n",
       "      <td>[solemn, amusing, callous, honorable, sober, c...</td>\n",
       "      <td>[witty, queer, amusing, circumspect, shrewd, d...</td>\n",
       "      <td>[forceful, cerebral, impractical, deliberate, ...</td>\n",
       "      <td>0.12081</td>\n",
       "      <td>0.04225</td>\n",
       "      <td>-0.08504</td>\n",
       "    </tr>\n",
       "    <tr>\n",
       "      <th>Mar</th>\n",
       "      <td>[assertive, methodical, witty, restrained, sol...</td>\n",
       "      <td>[witty, dissatisfied, assertive, solemn, hyste...</td>\n",
       "      <td>[artificial, transparent, informal, sensitive,...</td>\n",
       "      <td>0.04768</td>\n",
       "      <td>-0.05535</td>\n",
       "      <td>0.02500</td>\n",
       "    </tr>\n",
       "    <tr>\n",
       "      <th>Apr</th>\n",
       "      <td>[reactionary, inhibited, circumspect, solemn, ...</td>\n",
       "      <td>[honorable, solemn, fiery, unfathomable, circu...</td>\n",
       "      <td>[predatory, restrained, thorough, cooperative,...</td>\n",
       "      <td>0.03624</td>\n",
       "      <td>0.07222</td>\n",
       "      <td>-0.06734</td>\n",
       "    </tr>\n",
       "    <tr>\n",
       "      <th>May</th>\n",
       "      <td>[callous, honorable, circumspect, monstrous, a...</td>\n",
       "      <td>[honorable, monstrous, amusing, circumspect, d...</td>\n",
       "      <td>[insulting, malicious, transparent, cooperativ...</td>\n",
       "      <td>0.09380</td>\n",
       "      <td>0.14406</td>\n",
       "      <td>0.00484</td>\n",
       "    </tr>\n",
       "  </tbody>\n",
       "</table>\n",
       "</div>"
      ],
      "text/plain": [
       "                                                 Asian  \\\n",
       "Jan  [adventurous, witty, charming, arrogant, lazy,...   \n",
       "Feb  [solemn, amusing, callous, honorable, sober, c...   \n",
       "Mar  [assertive, methodical, witty, restrained, sol...   \n",
       "Apr  [reactionary, inhibited, circumspect, solemn, ...   \n",
       "May  [callous, honorable, circumspect, monstrous, a...   \n",
       "\n",
       "                                                 White  \\\n",
       "Jan  [witty, outspoken, lazy, circumspect, arrogant...   \n",
       "Feb  [witty, queer, amusing, circumspect, shrewd, d...   \n",
       "Mar  [witty, dissatisfied, assertive, solemn, hyste...   \n",
       "Apr  [honorable, solemn, fiery, unfathomable, circu...   \n",
       "May  [honorable, monstrous, amusing, circumspect, d...   \n",
       "\n",
       "                                                Biased  avg_asian_sentiment  \\\n",
       "Jan  [protective, praising, cerebral, affected, sus...              0.03150   \n",
       "Feb  [forceful, cerebral, impractical, deliberate, ...              0.12081   \n",
       "Mar  [artificial, transparent, informal, sensitive,...              0.04768   \n",
       "Apr  [predatory, restrained, thorough, cooperative,...              0.03624   \n",
       "May  [insulting, malicious, transparent, cooperativ...              0.09380   \n",
       "\n",
       "     avg_white_sentiment  avg_bias_sentiment  \n",
       "Jan             -0.05487             0.13568  \n",
       "Feb              0.04225            -0.08504  \n",
       "Mar             -0.05535             0.02500  \n",
       "Apr              0.07222            -0.06734  \n",
       "May              0.14406             0.00484  "
      ]
     },
     "execution_count": 31,
     "metadata": {},
     "output_type": "execute_result"
    }
   ],
   "source": [
    "df.head()"
   ]
  },
  {
   "cell_type": "markdown",
   "id": "d52e85cc",
   "metadata": {},
   "source": [
    "Let's plot the average sentiment over time."
   ]
  },
  {
   "cell_type": "code",
   "execution_count": 32,
   "id": "7326962c",
   "metadata": {},
   "outputs": [
    {
     "data": {
      "image/png": "[encoded data removed]",
      "text/plain": [
       "<Figure size 640x480 with 1 Axes>"
      ]
     },
     "metadata": {},
     "output_type": "display_data"
    }
   ],
   "source": [
    "plt.plot(df.index, df.avg_asian_sentiment, label='asian', color='blue')\n",
    "plt.plot(df.index, df.avg_white_sentiment, label='white', color='red')\n",
    "\n",
    "plt.xlabel('Months')\n",
    "plt.ylabel('Sentiment Score')\n",
    "plt.title('Sentiment Score for Adjectives Associated with White and Asian Ethnicities')\n",
    "plt.axhline(y=0, color='black', linestyle='--')\n",
    "\n",
    "plt.legend(loc='upper left')\n",
    "plt.show()"
   ]
  },
  {
   "cell_type": "markdown",
   "id": "6d3cb8b3",
   "metadata": {},
   "source": [
    "### Biased Terms"
   ]
  },
  {
   "cell_type": "code",
   "execution_count": 33,
   "id": "fe94f38c",
   "metadata": {},
   "outputs": [
    {
     "data": {
      "image/png": "[encoded data removed]",
      "text/plain": [
       "<Figure size 640x480 with 1 Axes>"
      ]
     },
     "metadata": {},
     "output_type": "display_data"
    }
   ],
   "source": [
    "plt.plot(df.index, df.avg_bias_sentiment, color='blue')\n",
    "\n",
    "plt.xlabel('Months')\n",
    "plt.ylabel('Sentiment Score')\n",
    "plt.title('Sentiment Score for Adjectives Most Biased Towards Asians')\n",
    "plt.axhline(y=0, color='black', linestyle='--')\n",
    "\n",
    "plt.show()"
   ]
  },
  {
   "cell_type": "markdown",
   "id": "47b4f795",
   "metadata": {},
   "source": [
    "Interestingly, we can see that the sentiment fluctuates for the adjectives more biased towards Asian but we can see a clear trend from January going into negative sentiments or close to a neutral sentiment after COVID begun."
   ]
  }
 ],
 "metadata": {
  "kernelspec": {
   "display_name": "csc2611",
   "language": "python",
   "name": "csc2611"
  },
  "language_info": {
   "codemirror_mode": {
    "name": "ipython",
    "version": 3
   },
   "file_extension": ".py",
   "mimetype": "text/x-python",
   "name": "python",
   "nbconvert_exporter": "python",
   "pygments_lexer": "ipython3",
   "version": "3.7.15"
  }
 },
 "nbformat": 4,
 "nbformat_minor": 5
}
